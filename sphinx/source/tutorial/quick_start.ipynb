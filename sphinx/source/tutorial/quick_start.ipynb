{
 "cells": [
  {
   "cell_type": "markdown",
   "metadata": {},
   "source": [
    "# Quick Start"
   ]
  },
  {
   "cell_type": "code",
   "execution_count": null,
   "metadata": {
    "ExecuteTime": {
     "end_time": "2019-08-02T08:32:36.335387Z",
     "start_time": "2019-08-02T08:32:36.302572Z"
    },
    "nbsphinx": "hidden",
    "scrolled": true
   },
   "outputs": [],
   "source": [
    "# this cell's metadata contains\n",
    "# \"nbsphinx\": \"hidden\" so it is hidden by nbsphinx\n",
    "PATH_YIELD_ENGINE = 'src'\n",
    "def set_paths() -> None:\n",
    "    import sys\n",
    "    import os\n",
    "    \n",
    "    if 'cwd' not in globals():\n",
    "        global cwd\n",
    "        cwd = os.path.join(os.getcwd(), os.pardir, os.pardir, os.pardir)\n",
    "        os.chdir(cwd)   \n",
    "    print(f\"working dir is '{os.getcwd()}'\")                            \n",
    "    if PATH_YIELD_ENGINE not in sys.path:\n",
    "        sys.path.insert(0, PATH_YIELD_ENGINE)\n",
    "    print(f\"added `{sys.path[0]}` to python paths\")\n",
    "set_paths()\n",
    "\n"
   ]
  },
  {
   "cell_type": "raw",
   "metadata": {
    "raw_mimetype": "text/restructuredtext"
   },
   "source": [
    "The :mod:`!gamma` package allows to\n",
    "\n",
    "- build data science pipelines that follow scikit-learn API and are compatible with pandas dataframe\n",
    "- select relevant features\n",
    "- inspect the trained models\n",
    "- visualize the results of the inspection\n",
    "\n",
    "**This 15 minutes tutorial will show you the main funtionalities of** :mod:`gamma`."
   ]
  },
  {
   "cell_type": "markdown",
   "metadata": {},
   "source": [
    "## TL;DR"
   ]
  },
  {
   "cell_type": "raw",
   "metadata": {
    "raw_mimetype": "text/restructuredtext"
   },
   "source": [
    "- :class:`~gamma.Sample` holds the data\n",
    "- :class:`~gamma.sklearndf.pipeline.ModelPipelineDF` holds a predictor and a preprocessing pipeline\n",
    "- :class:`~gamma.model.selection.ModelGrid` and :class:`~gamma.model.selection.ModelRanker` optimize hyperparameters and select the top model\n",
    "- :class:`~gamma.model.prediction.PredictorFitCV` fits a model using cross-validation\n",
    "- :class:`~gamma.model.inspection.ModelInspector` inspects the fitted model\n",
    "- :class:`~gamma.yieldengine.simulation.UnivariateSimulator` does a what-if analysis on the fitted model\n",
    "- :class:`~gamma.viz.dendrogram.DendrogramDrawer` and :class:`~gamma.yieldengine.viz.SimulationDrawer` turn the inspection and simulation into deliverables"
   ]
  },
  {
   "cell_type": "markdown",
   "metadata": {},
   "source": [
    "We first make our imports:"
   ]
  },
  {
   "cell_type": "code",
   "execution_count": null,
   "metadata": {
    "ExecuteTime": {
     "end_time": "2019-08-02T08:32:47.298173Z",
     "start_time": "2019-08-02T08:32:36.387643Z"
    },
    "pycharm": {
     "is_executing": false
    }
   },
   "outputs": [],
   "source": [
    "import pandas as pd\n",
    "from sklearn import datasets\n",
    "from sklearn.impute import SimpleImputer\n",
    "import matplotlib.pyplot as plt\n",
    "\n",
    "from gamma import Sample\n",
    "from gamma.viz.dendrogram import DendrogramDrawer, DendrogramFeatMapStyle, DendrogramLineStyle, DendrogramReportStyle\n",
    "from gamma.sklearndf.pipeline import PipelineDF, ModelPipelineDF\n",
    "from gamma.sklearndf.transformation import SimpleImputerDF, MissingIndicatorDF, StandardScalerDF\n",
    "from gamma.sklearndf.transformation.extra import BorutaDF\n",
    "from gamma.sklearndf.regression import RandomForestRegressorDF, LGBMRegressorDF\n",
    "from gamma.model.inspection import ModelInspector\n",
    "from gamma.model.prediction import PredictorFitCV\n",
    "from gamma.model.selection import ModelGrid, ModelRanker, summary_report\n",
    "from gamma.model.validation import CircularCrossValidator\n",
    "from gamma.yieldengine.simulation import UnivariateSimulator\n",
    "from gamma.yieldengine.partition import ContinuousRangePartitioning\n",
    "from gamma.yieldengine.viz import SimulationDrawer, SimulationPlotStyle"
   ]
  },
  {
   "cell_type": "code",
   "execution_count": null,
   "metadata": {
    "ExecuteTime": {
     "end_time": "2019-08-02T08:32:47.313412Z",
     "start_time": "2019-08-02T08:32:47.302170Z"
    },
    "nbsphinx": "hidden"
   },
   "outputs": [],
   "source": [
    "import warnings\n",
    "warnings.filterwarnings(\"ignore\", category=DeprecationWarning)"
   ]
  },
  {
   "cell_type": "markdown",
   "metadata": {},
   "source": [
    "We load the Boston dataset, a regression problem on house prices:"
   ]
  },
  {
   "cell_type": "code",
   "execution_count": null,
   "metadata": {
    "ExecuteTime": {
     "end_time": "2019-08-02T08:32:47.438004Z",
     "start_time": "2019-08-02T08:32:47.330735Z"
    }
   },
   "outputs": [],
   "source": [
    "boston = datasets.load_boston()\n",
    "TARGET='HOUSE_PRICE'\n",
    "df = pd.DataFrame(data=boston.data, columns=boston.feature_names).assign(HOUSE_PRICE=boston.target)\n",
    "df.head()"
   ]
  },
  {
   "cell_type": "raw",
   "metadata": {
    "raw_mimetype": "text/restructuredtext"
   },
   "source": [
    "A :class:`~gamma.Sample` provides the features as a dataframe and the target as series:"
   ]
  },
  {
   "cell_type": "code",
   "execution_count": null,
   "metadata": {
    "ExecuteTime": {
     "end_time": "2019-08-02T08:32:47.453323Z",
     "start_time": "2019-08-02T08:32:47.441786Z"
    }
   },
   "outputs": [],
   "source": [
    "sample = Sample(observations=df, target_name=TARGET)"
   ]
  },
  {
   "cell_type": "raw",
   "metadata": {
    "raw_mimetype": "text/restructuredtext"
   },
   "source": [
    "The underlying pandas dataframe is kept in the ``features`` attribute:"
   ]
  },
  {
   "cell_type": "code",
   "execution_count": null,
   "metadata": {
    "ExecuteTime": {
     "end_time": "2019-08-02T08:32:47.500242Z",
     "start_time": "2019-08-02T08:32:47.458057Z"
    }
   },
   "outputs": [],
   "source": [
    "sample.features.head()"
   ]
  },
  {
   "cell_type": "raw",
   "metadata": {
    "raw_mimetype": "text/restructuredtext"
   },
   "source": [
    "The target is kept as a pandas series in the ``target`` attribute of :class:`.Sample`:"
   ]
  },
  {
   "cell_type": "code",
   "execution_count": null,
   "metadata": {
    "ExecuteTime": {
     "end_time": "2019-08-02T08:32:47.515792Z",
     "start_time": "2019-08-02T08:32:47.503245Z"
    }
   },
   "outputs": [],
   "source": [
    "sample.target.head()"
   ]
  },
  {
   "cell_type": "markdown",
   "metadata": {},
   "source": [
    "##  Dataframes instead of arrays"
   ]
  },
  {
   "cell_type": "raw",
   "metadata": {
    "raw_mimetype": "text/restructuredtext"
   },
   "source": [
    "Scikit-learn works by default with numpy arrays: if one uses a scikit-learn transformer with a dataframe as input, one gets a numpy array as output. \n",
    "However in the process we loose the feature names which are needed to inspect a model.\n",
    "For the majority of scikit-learn classes :mod:`!gamma` provides a sibling class that \n",
    "\n",
    "- **behaves exactly like the native scikit-learn class** \n",
    "- **returns  dataframes instead of numpy arrays**\n",
    "- provides additional functionalities like mapping output columns to their original input columns\n",
    "\n",
    ":mod:`!gamma` follows a **simple naming convention: simply append DF at the end of the  scikit-learn classes**:\n",
    "\n",
    "- :class:`~sklearn.preprocessing.OneHotEncoder` becomes :class:`~gamma.sklearndf.transformation.OneHotEncoderDF`\n",
    "- :class:`~sklearn.pipeline.Pipeline` becomes :class:`~gamma.sklearndf.pipeline.PipelineDF`\n",
    "\n",
    "For instance :class:`~sklearn.impute.SimpleImputer` returnr a numpy array:"
   ]
  },
  {
   "cell_type": "code",
   "execution_count": null,
   "metadata": {
    "ExecuteTime": {
     "end_time": "2019-08-02T08:32:47.547129Z",
     "start_time": "2019-08-02T08:32:47.520789Z"
    }
   },
   "outputs": [],
   "source": [
    "imputed_array = SimpleImputer().fit_transform(sample.features)\n",
    "imputed_array"
   ]
  },
  {
   "cell_type": "raw",
   "metadata": {
    "raw_mimetype": "text/restructuredtext"
   },
   "source": [
    "With :class:`~gamma.sklearndf.transformation.SimpleImputerDF` one gets the same scikit-learn API but the output is a dataframe:"
   ]
  },
  {
   "cell_type": "code",
   "execution_count": null,
   "metadata": {
    "ExecuteTime": {
     "end_time": "2019-08-02T08:32:47.599251Z",
     "start_time": "2019-08-02T08:32:47.554633Z"
    }
   },
   "outputs": [],
   "source": [
    "imputed_df = SimpleImputerDF().fit_transform(sample.features)\n",
    "imputed_df.head()"
   ]
  },
  {
   "cell_type": "raw",
   "metadata": {
    "raw_mimetype": "text/restructuredtext"
   },
   "source": [
    "The ``fit_transform_sample`` acts directly on :class:`.Sample`:"
   ]
  },
  {
   "cell_type": "code",
   "execution_count": null,
   "metadata": {
    "ExecuteTime": {
     "end_time": "2019-08-02T08:32:47.630425Z",
     "start_time": "2019-08-02T08:32:47.604255Z"
    }
   },
   "outputs": [],
   "source": [
    "sample_imputed = SimpleImputerDF().fit_transform_sample(sample=sample)"
   ]
  },
  {
   "cell_type": "markdown",
   "metadata": {},
   "source": [
    "## Cross-validation and model selection"
   ]
  },
  {
   "cell_type": "raw",
   "metadata": {
    "raw_mimetype": "text/restructuredtext"
   },
   "source": [
    ":class:`~gamma.sklearndf.pipeline.ModelPipelineDF` specifies a predictor (regressor or classifier) and a preprocessing pipeline.\n",
    ":class:`~gamma.model.selection.ModelGrid` specifies a :class:`~gamma.sklearndf.pipeline.ModelPipelineDF` and a hyperparameter grid:"
   ]
  },
  {
   "cell_type": "code",
   "execution_count": null,
   "metadata": {
    "ExecuteTime": {
     "end_time": "2019-08-02T08:32:47.645853Z",
     "start_time": "2019-08-02T08:32:47.637421Z"
    }
   },
   "outputs": [],
   "source": [
    "preprocessing = PipelineDF(steps=[('impute', SimpleImputerDF()), ('normalize', StandardScalerDF())])"
   ]
  },
  {
   "cell_type": "code",
   "execution_count": null,
   "metadata": {
    "ExecuteTime": {
     "end_time": "2019-08-02T08:32:47.676779Z",
     "start_time": "2019-08-02T08:32:47.650987Z"
    }
   },
   "outputs": [],
   "source": [
    "rf_pipeline = ModelPipelineDF(\n",
    "    predictor=RandomForestRegressorDF(random_state=0), preprocessing=preprocessing)\n",
    "lgbm_pipeline = ModelPipelineDF(\n",
    "    predictor=LGBMRegressorDF(random_state=0), preprocessing=preprocessing)"
   ]
  },
  {
   "cell_type": "code",
   "execution_count": null,
   "metadata": {
    "ExecuteTime": {
     "end_time": "2019-08-02T08:32:47.687845Z",
     "start_time": "2019-08-02T08:32:47.680782Z"
    }
   },
   "outputs": [],
   "source": [
    "grids = [\n",
    "    ModelGrid(pipeline=rf_pipeline, predictor_parameters={\"n_estimators\": [10, 20]}),\n",
    "    ModelGrid(pipeline=lgbm_pipeline, predictor_parameters={\"learning_rate\": [0.1, 0.2]})\n",
    "]"
   ]
  },
  {
   "cell_type": "raw",
   "metadata": {
    "ExecuteTime": {
     "end_time": "2019-07-26T07:44:24.925690Z",
     "start_time": "2019-07-26T07:44:24.918647Z"
    },
    "raw_mimetype": "text/restructuredtext"
   },
   "source": [
    "A :class:`~gamma.model.selection.ModelRanker` finds the best model using cross-validation. \n",
    "We use a custom CV splitter :class:`~gamma.model.validation.CircularCrossValidator`:"
   ]
  },
  {
   "cell_type": "code",
   "execution_count": null,
   "metadata": {
    "ExecuteTime": {
     "end_time": "2019-08-02T08:32:59.190666Z",
     "start_time": "2019-08-02T08:32:47.693100Z"
    },
    "pycharm": {
     "is_executing": false,
     "name": "#%%\n"
    }
   },
   "outputs": [],
   "source": [
    "circular_cv = CircularCrossValidator(test_ratio=1/3, num_splits=3)\n",
    "ranker = ModelRanker(grids=grids, cv=circular_cv)\n",
    "ranking = ranker.run(sample_imputed, n_jobs=-3)\n",
    "print(summary_report(ranking))"
   ]
  },
  {
   "cell_type": "markdown",
   "metadata": {},
   "source": [
    "## Model inspection"
   ]
  },
  {
   "cell_type": "raw",
   "metadata": {
    "raw_mimetype": "text/restructuredtext"
   },
   "source": [
    "When inspecting the model\n",
    "**we get the full benefit of** :mod:`gamma.sklearndf` **by having the impact on the model of each feature by its name**.\n",
    "We first retrieve the champion model:"
   ]
  },
  {
   "cell_type": "code",
   "execution_count": null,
   "metadata": {
    "ExecuteTime": {
     "end_time": "2019-08-02T08:32:59.206331Z",
     "start_time": "2019-08-02T08:32:59.193669Z"
    }
   },
   "outputs": [],
   "source": [
    "top_model = ranking[0]"
   ]
  },
  {
   "cell_type": "raw",
   "metadata": {
    "raw_mimetype": "text/restructuredtext"
   },
   "source": [
    ":class:`~gamma.model.prediction.PredictorFitCV` takes a :class:`~gamma.sklearndf.pipeline.ModelPipelineDF`, a cross-validator, and a :class:`~gamma.Sample`, and fits it:"
   ]
  },
  {
   "cell_type": "code",
   "execution_count": null,
   "metadata": {
    "ExecuteTime": {
     "end_time": "2019-08-02T08:32:59.222170Z",
     "start_time": "2019-08-02T08:32:59.210983Z"
    }
   },
   "outputs": [],
   "source": [
    "predictor = PredictorFitCV(model=top_model.model, cv=circular_cv, sample=sample_imputed)"
   ]
  },
  {
   "cell_type": "markdown",
   "metadata": {},
   "source": [
    "We can retrieve the predictions for all splits, hence make a full inspection of the model:"
   ]
  },
  {
   "cell_type": "code",
   "execution_count": null,
   "metadata": {
    "ExecuteTime": {
     "end_time": "2019-08-02T08:32:59.766265Z",
     "start_time": "2019-08-02T08:32:59.225784Z"
    }
   },
   "outputs": [],
   "source": [
    "predictor.predictions_for_split(split_id=0).head()"
   ]
  },
  {
   "cell_type": "raw",
   "metadata": {
    "raw_mimetype": "text/restructuredtext"
   },
   "source": [
    "Shap values compute additive contribution coefficients for each, feature and each sample  hence\n",
    "giving great insights to better understand non-linear models like Tree ensembles (see `here <http://papers.nips.cc/paper/7062-a-unified-approach-to-interpreting-model-predictions>`_).\n",
    ":class:`~gamma.model.inspection.ModelInspector` computes shap values by averaging over all test folds:"
   ]
  },
  {
   "cell_type": "code",
   "execution_count": null,
   "metadata": {
    "ExecuteTime": {
     "end_time": "2019-08-02T08:33:00.353903Z",
     "start_time": "2019-08-02T08:32:59.772712Z"
    }
   },
   "outputs": [],
   "source": [
    "inspector = ModelInspector(predictor)\n",
    "inspector.shap_matrix().head()"
   ]
  },
  {
   "cell_type": "raw",
   "metadata": {
    "raw_mimetype": "text/restructuredtext"
   },
   "source": [
    "The ``feature_importances`` are computed based on the shap values of the test splits of the cross-validation:"
   ]
  },
  {
   "cell_type": "code",
   "execution_count": null,
   "metadata": {
    "ExecuteTime": {
     "end_time": "2019-08-02T08:33:00.398891Z",
     "start_time": "2019-08-02T08:33:00.356985Z"
    },
    "scrolled": true
   },
   "outputs": [],
   "source": [
    "inspector.feature_importances().head()"
   ]
  },
  {
   "cell_type": "raw",
   "metadata": {
    "raw_mimetype": "text/restructuredtext"
   },
   "source": [
    "**Shap clustering** is a method to cluster features using the correlation matrix of the shap values and hierarchical clustering. With visualization styles defined in :mod:`!gamma`, one can easily visualize the shap clustering:"
   ]
  },
  {
   "cell_type": "code",
   "execution_count": null,
   "metadata": {
    "ExecuteTime": {
     "end_time": "2019-08-02T08:33:02.048646Z",
     "start_time": "2019-08-02T08:33:00.403919Z"
    }
   },
   "outputs": [],
   "source": [
    "linkage_tree = inspector.cluster_dependent_features()\n",
    "ax = plt.figure(figsize=(10, 10)).add_subplot(111)\n",
    "style_matplotlib = DendrogramFeatMapStyle(ax)\n",
    "DendrogramDrawer(title=TARGET, linkage_tree=linkage_tree, style=style_matplotlib).draw()"
   ]
  },
  {
   "cell_type": "raw",
   "metadata": {
    "raw_mimetype": "text/restructuredtext"
   },
   "source": [
    "Changing the style to :class:`~gamma.viz.dendrogram.DendrogramReportStyle` one gets a text report:"
   ]
  },
  {
   "cell_type": "code",
   "execution_count": null,
   "metadata": {
    "ExecuteTime": {
     "end_time": "2019-08-02T08:33:02.111999Z",
     "start_time": "2019-08-02T08:33:02.056355Z"
    }
   },
   "outputs": [],
   "source": [
    "style_report = DendrogramReportStyle()\n",
    "DendrogramDrawer(title=TARGET, linkage_tree=linkage_tree, style=style_report).draw()"
   ]
  },
  {
   "cell_type": "markdown",
   "metadata": {},
   "source": [
    "## Simulation"
   ]
  },
  {
   "cell_type": "raw",
   "metadata": {
    "ExecuteTime": {
     "end_time": "2019-07-23T21:00:14.418618Z",
     "start_time": "2019-07-23T21:00:14.403000Z"
    },
    "raw_mimetype": "text/restructuredtext"
   },
   "source": [
    "What-if analysis are handled by :class:`~gamma.yieldengine.simulation.UnivariateSimulator`:"
   ]
  },
  {
   "cell_type": "code",
   "execution_count": null,
   "metadata": {
    "ExecuteTime": {
     "end_time": "2019-08-02T08:33:02.143352Z",
     "start_time": "2019-08-02T08:33:02.120286Z"
    }
   },
   "outputs": [],
   "source": [
    "simulator = UnivariateSimulator(model_fit=predictor)"
   ]
  },
  {
   "cell_type": "raw",
   "metadata": {
    "raw_mimetype": "text/restructuredtext"
   },
   "source": [
    "To simulate the impact of the surface of the living room ``GrLivArea`` on the house prices:\n",
    "\n",
    "- with partitioning classs like :class:`~gamma.yieldengine.partition.ContinuousRangePartitioning` one gets human-readable values to simulate on\n",
    "- the vizualisation is controlled by styles\n",
    "- :class:`~gamma.viz.simulation.SimulationDrawerSimulationDrawer` combines all of it in charts"
   ]
  },
  {
   "cell_type": "code",
   "execution_count": null,
   "metadata": {
    "ExecuteTime": {
     "end_time": "2019-08-02T08:33:02.174043Z",
     "start_time": "2019-08-02T08:33:02.149016Z"
    }
   },
   "outputs": [],
   "source": [
    "feature = \"LSTAT\"\n",
    "partition = ContinuousRangePartitioning(values=predictor.sample.features[feature])"
   ]
  },
  {
   "cell_type": "code",
   "execution_count": null,
   "metadata": {
    "ExecuteTime": {
     "end_time": "2019-08-02T08:33:04.848964Z",
     "start_time": "2019-08-02T08:33:02.183984Z"
    }
   },
   "outputs": [],
   "source": [
    "univariate_simulation = simulator.simulate_feature(feature_name=feature, partitioning=partition)"
   ]
  },
  {
   "cell_type": "code",
   "execution_count": null,
   "metadata": {
    "ExecuteTime": {
     "end_time": "2019-08-02T08:33:05.932572Z",
     "start_time": "2019-08-02T08:33:04.855166Z"
    }
   },
   "outputs": [],
   "source": [
    "ax = plt.figure(figsize=(10,10)).add_subplot(111)\n",
    "style = SimulationPlotStyle(ax)\n",
    "drawer = SimulationDrawer(title=f\"{feature} Simulation\", simulation=univariate_simulation, style=style)\n",
    "drawer.draw()"
   ]
  }
 ],
 "metadata": {
  "celltoolbar": "Raw Cell Format",
  "kernelspec": {
   "display_name": "Python 3",
   "language": "python",
   "name": "python3"
  },
  "language_info": {
   "codemirror_mode": {
    "name": "ipython",
    "version": 3
   },
   "file_extension": ".py",
   "mimetype": "text/x-python",
   "name": "python",
   "nbconvert_exporter": "python",
   "pygments_lexer": "ipython3",
   "version": "3.6.7"
  },
  "pycharm": {
   "stem_cell": {
    "cell_type": "raw",
    "metadata": {
     "collapsed": false
    },
    "source": []
   }
  },
  "toc": {
   "base_numbering": 1,
   "nav_menu": {},
   "number_sections": true,
   "sideBar": false,
   "skip_h1_title": false,
   "title_cell": "Table of Contents",
   "title_sidebar": "Contents",
   "toc_cell": false,
   "toc_position": {
    "height": "688px",
    "left": "97px",
    "top": "110.233px",
    "width": "229.6px"
   },
   "toc_section_display": true,
   "toc_window_display": false
  },
  "varInspector": {
   "cols": {
    "lenName": 16,
    "lenType": 16,
    "lenVar": 40
   },
   "kernels_config": {
    "python": {
     "delete_cmd_postfix": "",
     "delete_cmd_prefix": "del ",
     "library": "var_list.py",
     "varRefreshCmd": "print(var_dic_list())"
    },
    "r": {
     "delete_cmd_postfix": ") ",
     "delete_cmd_prefix": "rm(",
     "library": "var_list.r",
     "varRefreshCmd": "cat(var_dic_list()) "
    }
   },
   "types_to_exclude": [
    "module",
    "function",
    "builtin_function_or_method",
    "instance",
    "_Feature"
   ],
   "window_display": false
  }
 },
 "nbformat": 4,
 "nbformat_minor": 2
}
