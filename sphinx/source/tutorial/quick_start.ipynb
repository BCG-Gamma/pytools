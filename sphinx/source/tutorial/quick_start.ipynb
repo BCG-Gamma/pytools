{
 "cells": [
  {
   "cell_type": "markdown",
   "metadata": {},
   "source": [
    "# Quick Start"
   ]
  },
  {
   "cell_type": "code",
   "execution_count": 1,
   "metadata": {
    "ExecuteTime": {
     "end_time": "2019-07-22T19:57:49.197143Z",
     "start_time": "2019-07-22T19:57:49.183143Z"
    },
    "nbsphinx": "hidden"
   },
   "outputs": [
    {
     "name": "stdout",
     "output_type": "stream",
     "text": [
      "working dir is 'C:\\Users\\martin florent\\Documents\\projects\\yield-engine'\n",
      "added `src` to python paths\n"
     ]
    }
   ],
   "source": [
    "# this cell's metadata contains\n",
    "# \"nbsphinx\": \"hidden\" so it is hidden by nbsphinx\n",
    "PATH_YIELD_ENGINE = 'src'\n",
    "def set_paths() -> None:\n",
    "    import sys\n",
    "    import os\n",
    "    \n",
    "    if 'cwd' not in globals():\n",
    "        global cwd\n",
    "        cwd = os.path.join(os.getcwd(), os.pardir, os.pardir, os.pardir)\n",
    "        os.chdir(cwd)   \n",
    "    print(f\"working dir is '{os.getcwd()}'\")                            \n",
    "    if PATH_YIELD_ENGINE not in sys.path:\n",
    "        sys.path.insert(0, PATH_YIELD_ENGINE)\n",
    "    print(f\"added `{sys.path[0]}` to python paths\")\n",
    "set_paths()"
   ]
  },
  {
   "cell_type": "code",
   "execution_count": 2,
   "metadata": {
    "ExecuteTime": {
     "end_time": "2019-07-22T19:57:53.969182Z",
     "start_time": "2019-07-22T19:57:50.178739Z"
    },
    "pycharm": {
     "is_executing": false
    }
   },
   "outputs": [],
   "source": [
    "import pandas as pd\n",
    "from lightgbm import LGBMRegressor\n",
    "from sklearn.ensemble import RandomForestRegressor\n",
    "import matplotlib.pyplot as plt\n",
    "\n",
    "from yieldengine import Sample\n",
    "from yieldengine.dendrogram import DendrogramDrawer\n",
    "from yieldengine.dendrogram.style import FeatMapStyle, LineStyle\n",
    "from yieldengine.df.pipeline import PipelineDF\n",
    "from yieldengine.preprocessing.impute import SimpleImputerDF, MissingIndicatorDF\n",
    "from yieldengine.preprocessing.selection import BorutaDF\n",
    "from yieldengine.model.inspection import ModelInspector\n",
    "from yieldengine.model.prediction import PredictorFitCV\n",
    "from yieldengine.model.selection import ModelPipelineDF, ModelGrid, ModelRanker, summary_report\n",
    "from yieldengine.model.validation import CircularCrossValidator\n",
    "from yieldengine.simulation import UnivariateSimulation\n",
    "from yieldengine.partition import ContinuousRangePartitioning"
   ]
  },
  {
   "cell_type": "code",
   "execution_count": 3,
   "metadata": {
    "ExecuteTime": {
     "end_time": "2019-07-22T19:57:54.747509Z",
     "start_time": "2019-07-22T19:57:54.683514Z"
    }
   },
   "outputs": [
    {
     "data": {
      "text/html": [
       "<div>\n",
       "<style scoped>\n",
       "    .dataframe tbody tr th:only-of-type {\n",
       "        vertical-align: middle;\n",
       "    }\n",
       "\n",
       "    .dataframe tbody tr th {\n",
       "        vertical-align: top;\n",
       "    }\n",
       "\n",
       "    .dataframe thead th {\n",
       "        text-align: right;\n",
       "    }\n",
       "</style>\n",
       "<table border=\"1\" class=\"dataframe\">\n",
       "  <thead>\n",
       "    <tr style=\"text-align: right;\">\n",
       "      <th></th>\n",
       "      <th>Id</th>\n",
       "      <th>MSSubClass</th>\n",
       "      <th>MSZoning</th>\n",
       "      <th>LotFrontage</th>\n",
       "      <th>LotArea</th>\n",
       "      <th>Street</th>\n",
       "      <th>Alley</th>\n",
       "      <th>LotShape</th>\n",
       "      <th>LandContour</th>\n",
       "      <th>Utilities</th>\n",
       "      <th>...</th>\n",
       "      <th>PoolArea</th>\n",
       "      <th>PoolQC</th>\n",
       "      <th>Fence</th>\n",
       "      <th>MiscFeature</th>\n",
       "      <th>MiscVal</th>\n",
       "      <th>MoSold</th>\n",
       "      <th>YrSold</th>\n",
       "      <th>SaleType</th>\n",
       "      <th>SaleCondition</th>\n",
       "      <th>SalePrice</th>\n",
       "    </tr>\n",
       "  </thead>\n",
       "  <tbody>\n",
       "    <tr>\n",
       "      <th>0</th>\n",
       "      <td>1</td>\n",
       "      <td>60</td>\n",
       "      <td>RL</td>\n",
       "      <td>65.0</td>\n",
       "      <td>8450</td>\n",
       "      <td>Pave</td>\n",
       "      <td>NaN</td>\n",
       "      <td>Reg</td>\n",
       "      <td>Lvl</td>\n",
       "      <td>AllPub</td>\n",
       "      <td>...</td>\n",
       "      <td>0</td>\n",
       "      <td>NaN</td>\n",
       "      <td>NaN</td>\n",
       "      <td>NaN</td>\n",
       "      <td>0</td>\n",
       "      <td>2</td>\n",
       "      <td>2008</td>\n",
       "      <td>WD</td>\n",
       "      <td>Normal</td>\n",
       "      <td>208500</td>\n",
       "    </tr>\n",
       "    <tr>\n",
       "      <th>1</th>\n",
       "      <td>2</td>\n",
       "      <td>20</td>\n",
       "      <td>RL</td>\n",
       "      <td>80.0</td>\n",
       "      <td>9600</td>\n",
       "      <td>Pave</td>\n",
       "      <td>NaN</td>\n",
       "      <td>Reg</td>\n",
       "      <td>Lvl</td>\n",
       "      <td>AllPub</td>\n",
       "      <td>...</td>\n",
       "      <td>0</td>\n",
       "      <td>NaN</td>\n",
       "      <td>NaN</td>\n",
       "      <td>NaN</td>\n",
       "      <td>0</td>\n",
       "      <td>5</td>\n",
       "      <td>2007</td>\n",
       "      <td>WD</td>\n",
       "      <td>Normal</td>\n",
       "      <td>181500</td>\n",
       "    </tr>\n",
       "    <tr>\n",
       "      <th>2</th>\n",
       "      <td>3</td>\n",
       "      <td>60</td>\n",
       "      <td>RL</td>\n",
       "      <td>68.0</td>\n",
       "      <td>11250</td>\n",
       "      <td>Pave</td>\n",
       "      <td>NaN</td>\n",
       "      <td>IR1</td>\n",
       "      <td>Lvl</td>\n",
       "      <td>AllPub</td>\n",
       "      <td>...</td>\n",
       "      <td>0</td>\n",
       "      <td>NaN</td>\n",
       "      <td>NaN</td>\n",
       "      <td>NaN</td>\n",
       "      <td>0</td>\n",
       "      <td>9</td>\n",
       "      <td>2008</td>\n",
       "      <td>WD</td>\n",
       "      <td>Normal</td>\n",
       "      <td>223500</td>\n",
       "    </tr>\n",
       "    <tr>\n",
       "      <th>3</th>\n",
       "      <td>4</td>\n",
       "      <td>70</td>\n",
       "      <td>RL</td>\n",
       "      <td>60.0</td>\n",
       "      <td>9550</td>\n",
       "      <td>Pave</td>\n",
       "      <td>NaN</td>\n",
       "      <td>IR1</td>\n",
       "      <td>Lvl</td>\n",
       "      <td>AllPub</td>\n",
       "      <td>...</td>\n",
       "      <td>0</td>\n",
       "      <td>NaN</td>\n",
       "      <td>NaN</td>\n",
       "      <td>NaN</td>\n",
       "      <td>0</td>\n",
       "      <td>2</td>\n",
       "      <td>2006</td>\n",
       "      <td>WD</td>\n",
       "      <td>Abnorml</td>\n",
       "      <td>140000</td>\n",
       "    </tr>\n",
       "    <tr>\n",
       "      <th>4</th>\n",
       "      <td>5</td>\n",
       "      <td>60</td>\n",
       "      <td>RL</td>\n",
       "      <td>84.0</td>\n",
       "      <td>14260</td>\n",
       "      <td>Pave</td>\n",
       "      <td>NaN</td>\n",
       "      <td>IR1</td>\n",
       "      <td>Lvl</td>\n",
       "      <td>AllPub</td>\n",
       "      <td>...</td>\n",
       "      <td>0</td>\n",
       "      <td>NaN</td>\n",
       "      <td>NaN</td>\n",
       "      <td>NaN</td>\n",
       "      <td>0</td>\n",
       "      <td>12</td>\n",
       "      <td>2008</td>\n",
       "      <td>WD</td>\n",
       "      <td>Normal</td>\n",
       "      <td>250000</td>\n",
       "    </tr>\n",
       "  </tbody>\n",
       "</table>\n",
       "<p>5 rows × 81 columns</p>\n",
       "</div>"
      ],
      "text/plain": [
       "   Id  MSSubClass MSZoning  LotFrontage  LotArea Street Alley LotShape  \\\n",
       "0   1          60       RL         65.0     8450   Pave   NaN      Reg   \n",
       "1   2          20       RL         80.0     9600   Pave   NaN      Reg   \n",
       "2   3          60       RL         68.0    11250   Pave   NaN      IR1   \n",
       "3   4          70       RL         60.0     9550   Pave   NaN      IR1   \n",
       "4   5          60       RL         84.0    14260   Pave   NaN      IR1   \n",
       "\n",
       "  LandContour Utilities  ... PoolArea PoolQC Fence MiscFeature MiscVal MoSold  \\\n",
       "0         Lvl    AllPub  ...        0    NaN   NaN         NaN       0      2   \n",
       "1         Lvl    AllPub  ...        0    NaN   NaN         NaN       0      5   \n",
       "2         Lvl    AllPub  ...        0    NaN   NaN         NaN       0      9   \n",
       "3         Lvl    AllPub  ...        0    NaN   NaN         NaN       0      2   \n",
       "4         Lvl    AllPub  ...        0    NaN   NaN         NaN       0     12   \n",
       "\n",
       "  YrSold  SaleType  SaleCondition  SalePrice  \n",
       "0   2008        WD         Normal     208500  \n",
       "1   2007        WD         Normal     181500  \n",
       "2   2008        WD         Normal     223500  \n",
       "3   2006        WD        Abnorml     140000  \n",
       "4   2008        WD         Normal     250000  \n",
       "\n",
       "[5 rows x 81 columns]"
      ]
     },
     "execution_count": 3,
     "metadata": {},
     "output_type": "execute_result"
    }
   ],
   "source": [
    "df = pd.read_csv('data/ames-housing-dataset/train.csv')\n",
    "df.head()"
   ]
  },
  {
   "cell_type": "code",
   "execution_count": 4,
   "metadata": {
    "ExecuteTime": {
     "end_time": "2019-07-22T19:57:55.392700Z",
     "start_time": "2019-07-22T19:57:55.388699Z"
    }
   },
   "outputs": [],
   "source": [
    "df = df.drop(['Id', 'YrSold', 'MoSold'], axis=1)"
   ]
  },
  {
   "cell_type": "code",
   "execution_count": 5,
   "metadata": {
    "ExecuteTime": {
     "end_time": "2019-07-22T19:57:55.875648Z",
     "start_time": "2019-07-22T19:57:55.853606Z"
    }
   },
   "outputs": [],
   "source": [
    "TARGET = \"SalePrice\"\n",
    "num_features = df.select_dtypes('number').columns\n",
    "df = df[list(num_features)]"
   ]
  },
  {
   "cell_type": "raw",
   "metadata": {
    "raw_mimetype": "text/restructuredtext"
   },
   "source": [
    "We create a :class:`~yieldengine.Sample` object that wraps around our data and the target name."
   ]
  },
  {
   "cell_type": "code",
   "execution_count": 6,
   "metadata": {
    "ExecuteTime": {
     "end_time": "2019-07-22T19:57:57.246330Z",
     "start_time": "2019-07-22T19:57:57.242325Z"
    }
   },
   "outputs": [],
   "source": [
    "sample = Sample(observations=df, target_name=TARGET)"
   ]
  },
  {
   "cell_type": "raw",
   "metadata": {
    "raw_mimetype": "text/restructuredtext"
   },
   "source": [
    ":class:`~yieldengine.df.pipeline.PipelineDF` is a wrapper around :class:`sklearn.pipeline.Pipeline` that deals with dataframes.\n",
    "Likewise :class:`~yieldengine.preprocessing.selection.BorutaDF` is a *dataframe compatible* wrapper around the feature selection algorithm \n",
    ":class:`BorutaPY <https://github.com/scikit-learn-contrib/boruta_py>`."
   ]
  },
  {
   "cell_type": "code",
   "execution_count": 7,
   "metadata": {
    "ExecuteTime": {
     "end_time": "2019-07-22T19:58:00.129728Z",
     "start_time": "2019-07-22T19:58:00.125727Z"
    }
   },
   "outputs": [],
   "source": [
    "boruta_selector = PipelineDF(steps = [\n",
    "        ('preprocess', SimpleImputerDF(strategy=\"median\")),\n",
    "        ('boruta', BorutaDF(estimator=RandomForestRegressor(),n_estimators=10, verbose=2, max_iter=10))\n",
    "])"
   ]
  },
  {
   "cell_type": "code",
   "execution_count": 8,
   "metadata": {
    "ExecuteTime": {
     "end_time": "2019-07-22T19:58:03.855337Z",
     "start_time": "2019-07-22T19:58:02.016956Z"
    },
    "scrolled": true
   },
   "outputs": [
    {
     "name": "stdout",
     "output_type": "stream",
     "text": [
      "Iteration: \t1 / 10\n",
      "Confirmed: \t0\n",
      "Tentative: \t34\n",
      "Rejected: \t0\n",
      "Iteration: \t2 / 10\n",
      "Confirmed: \t0\n",
      "Tentative: \t34\n",
      "Rejected: \t0\n",
      "Iteration: \t3 / 10\n",
      "Confirmed: \t0\n",
      "Tentative: \t34\n",
      "Rejected: \t0\n",
      "Iteration: \t4 / 10\n",
      "Confirmed: \t0\n",
      "Tentative: \t34\n",
      "Rejected: \t0\n",
      "Iteration: \t5 / 10\n",
      "Confirmed: \t0\n",
      "Tentative: \t34\n",
      "Rejected: \t0\n",
      "Iteration: \t6 / 10\n",
      "Confirmed: \t0\n",
      "Tentative: \t34\n",
      "Rejected: \t0\n",
      "Iteration: \t7 / 10\n",
      "Confirmed: \t0\n",
      "Tentative: \t34\n",
      "Rejected: \t0\n",
      "Iteration: \t8 / 10\n",
      "Confirmed: \t10\n",
      "Tentative: \t8\n",
      "Rejected: \t16\n",
      "Iteration: \t9 / 10\n",
      "Confirmed: \t10\n",
      "Tentative: \t8\n",
      "Rejected: \t16\n",
      "\n",
      "\n",
      "BorutaPy finished running.\n",
      "\n",
      "Iteration: \t10 / 10\n",
      "Confirmed: \t10\n",
      "Tentative: \t2\n",
      "Rejected: \t16\n"
     ]
    }
   ],
   "source": [
    "boruta_selector.fit(sample.features, sample.target);"
   ]
  },
  {
   "cell_type": "code",
   "execution_count": 9,
   "metadata": {
    "ExecuteTime": {
     "end_time": "2019-07-22T19:58:03.865340Z",
     "start_time": "2019-07-22T19:58:03.857366Z"
    }
   },
   "outputs": [
    {
     "data": {
      "text/plain": [
       "column_out\n",
       "LotArea            LotArea\n",
       "OverallQual    OverallQual\n",
       "YearBuilt        YearBuilt\n",
       "BsmtFinSF1      BsmtFinSF1\n",
       "TotalBsmtSF    TotalBsmtSF\n",
       "1stFlrSF          1stFlrSF\n",
       "2ndFlrSF          2ndFlrSF\n",
       "GrLivArea        GrLivArea\n",
       "GarageCars      GarageCars\n",
       "GarageArea      GarageArea\n",
       "Name: column_in, dtype: object"
      ]
     },
     "execution_count": 9,
     "metadata": {},
     "output_type": "execute_result"
    }
   ],
   "source": [
    "boruta_selector.columns_original"
   ]
  },
  {
   "cell_type": "code",
   "execution_count": 10,
   "metadata": {
    "ExecuteTime": {
     "end_time": "2019-07-22T19:58:03.880343Z",
     "start_time": "2019-07-22T19:58:03.869342Z"
    }
   },
   "outputs": [],
   "source": [
    "sample = sample.select_features(boruta_selector.columns_original)"
   ]
  },
  {
   "cell_type": "raw",
   "metadata": {
    "raw_mimetype": "text/restructuredtext"
   },
   "source": [
    "We use the custom CV splitter :class:`~yieldengine.model.validation.CircularCrossValidator`."
   ]
  },
  {
   "cell_type": "code",
   "execution_count": 11,
   "metadata": {
    "ExecuteTime": {
     "end_time": "2019-07-22T19:58:04.496960Z",
     "start_time": "2019-07-22T19:58:04.494992Z"
    },
    "pycharm": {
     "is_executing": false,
     "name": "#%%\n"
    }
   },
   "outputs": [],
   "source": [
    "circular_cv = CircularCrossValidator(test_ratio=1/3, num_splits=3)"
   ]
  },
  {
   "cell_type": "markdown",
   "metadata": {},
   "source": [
    "The class **ModelPipelineDF** specifies a model as an estimator and a preprocessing pipeline.\n",
    "The class **ModelGrid** specifies a **ModelPipelineDF**  and a hyperparameter grid."
   ]
  },
  {
   "cell_type": "code",
   "execution_count": 12,
   "metadata": {
    "ExecuteTime": {
     "end_time": "2019-07-22T19:58:05.841029Z",
     "start_time": "2019-07-22T19:58:05.047026Z"
    }
   },
   "outputs": [
    {
     "ename": "TypeError",
     "evalue": "arg predictor expected to be a DataFramePredictor but is a RandomForestRegressor",
     "output_type": "error",
     "traceback": [
      "\u001b[1;31m---------------------------------------------------------------------------\u001b[0m",
      "\u001b[1;31mTypeError\u001b[0m                                 Traceback (most recent call last)",
      "\u001b[1;32m<ipython-input-12-2793bb5312ed>\u001b[0m in \u001b[0;36m<module>\u001b[1;34m\u001b[0m\n\u001b[1;32m----> 1\u001b[1;33m \u001b[0mrf_model\u001b[0m \u001b[1;33m=\u001b[0m \u001b[0mModel\u001b[0m\u001b[1;33m(\u001b[0m\u001b[0mpredictor\u001b[0m\u001b[1;33m=\u001b[0m\u001b[0mRandomForestRegressor\u001b[0m\u001b[1;33m(\u001b[0m\u001b[1;33m)\u001b[0m\u001b[1;33m,\u001b[0m \u001b[0mpreprocessing\u001b[0m\u001b[1;33m=\u001b[0m\u001b[0mSimpleImputerDF\u001b[0m\u001b[1;33m(\u001b[0m\u001b[1;33m)\u001b[0m\u001b[1;33m)\u001b[0m\u001b[1;33m\u001b[0m\u001b[1;33m\u001b[0m\u001b[0m\n\u001b[0m\u001b[0;32m      2\u001b[0m \u001b[0mlgbm_model\u001b[0m \u001b[1;33m=\u001b[0m \u001b[0mModel\u001b[0m\u001b[1;33m(\u001b[0m\u001b[0mpredictor\u001b[0m\u001b[1;33m=\u001b[0m\u001b[0mLGBMRegressor\u001b[0m\u001b[1;33m(\u001b[0m\u001b[1;33m)\u001b[0m\u001b[1;33m,\u001b[0m \u001b[0mpreprocessing\u001b[0m\u001b[1;33m=\u001b[0m\u001b[0mSimpleImputerDF\u001b[0m\u001b[1;33m(\u001b[0m\u001b[1;33m)\u001b[0m\u001b[1;33m)\u001b[0m\u001b[1;33m\u001b[0m\u001b[1;33m\u001b[0m\u001b[0m\n",
      "\u001b[1;32m~\\Documents\\projects\\yield-engine\\src\\yieldengine\\model\\__init__.py\u001b[0m in \u001b[0;36m__init__\u001b[1;34m(self, predictor, preprocessing)\u001b[0m\n\u001b[0;32m     58\u001b[0m         \u001b[1;32mif\u001b[0m \u001b[1;32mnot\u001b[0m \u001b[0misinstance\u001b[0m\u001b[1;33m(\u001b[0m\u001b[0mpredictor\u001b[0m\u001b[1;33m,\u001b[0m \u001b[0mDataFramePredictor\u001b[0m\u001b[1;33m)\u001b[0m\u001b[1;33m:\u001b[0m\u001b[1;33m\u001b[0m\u001b[1;33m\u001b[0m\u001b[0m\n\u001b[0;32m     59\u001b[0m             raise TypeError(\n\u001b[1;32m---> 60\u001b[1;33m                 \u001b[1;34m\"arg predictor expected to be a DataFramePredictor but is a \"\u001b[0m\u001b[1;33m\u001b[0m\u001b[1;33m\u001b[0m\u001b[0m\n\u001b[0m\u001b[0;32m     61\u001b[0m                 \u001b[1;34mf\"{type(predictor).__name__}\"\u001b[0m\u001b[1;33m\u001b[0m\u001b[1;33m\u001b[0m\u001b[0m\n\u001b[0;32m     62\u001b[0m             )\n",
      "\u001b[1;31mTypeError\u001b[0m: arg predictor expected to be a DataFramePredictor but is a RandomForestRegressor"
     ]
    }
   ],
   "source": [
    "rf_model = ModelPipelineDF(predictor=RandomForestRegressor(), preprocessing=SimpleImputerDF())\n",
    "lgbm_model = ModelPipelineDF(predictor=LGBMRegressor(), preprocessing=SimpleImputerDF())"
   ]
  },
  {
   "cell_type": "code",
   "execution_count": null,
   "metadata": {
    "ExecuteTime": {
     "end_time": "2019-07-22T19:58:05.843029Z",
     "start_time": "2019-07-22T19:58:05.678Z"
    }
   },
   "outputs": [],
   "source": [
    "help(Model)"
   ]
  },
  {
   "cell_type": "code",
   "execution_count": null,
   "metadata": {
    "ExecuteTime": {
     "end_time": "2019-07-22T19:58:05.844026Z",
     "start_time": "2019-07-22T19:58:05.835Z"
    }
   },
   "outputs": [],
   "source": [
    "grids = [\n",
    "    ModelGrid(model=rf_model, estimator_parameters={\"n_estimators\": [10, 20]}),\n",
    "    ModelGrid(model=lgbm_model, estimator_parameters={\"learning_rate\": [0.1, 0.2]})\n",
    "]"
   ]
  },
  {
   "cell_type": "code",
   "execution_count": 13,
   "metadata": {
    "ExecuteTime": {
     "end_time": "2019-07-22T19:58:06.006621Z",
     "start_time": "2019-07-22T19:58:05.994627Z"
    },
    "pycharm": {
     "is_executing": false,
     "name": "#%%\n"
    }
   },
   "outputs": [
    {
     "ename": "NameError",
     "evalue": "name 'grids' is not defined",
     "output_type": "error",
     "traceback": [
      "\u001b[1;31m---------------------------------------------------------------------------\u001b[0m",
      "\u001b[1;31mNameError\u001b[0m                                 Traceback (most recent call last)",
      "\u001b[1;32m<ipython-input-13-cdda54e9ed12>\u001b[0m in \u001b[0;36m<module>\u001b[1;34m\u001b[0m\n\u001b[1;32m----> 1\u001b[1;33m \u001b[0mranker\u001b[0m \u001b[1;33m=\u001b[0m \u001b[0mModelRanker\u001b[0m\u001b[1;33m(\u001b[0m\u001b[0mgrids\u001b[0m\u001b[1;33m=\u001b[0m\u001b[0mgrids\u001b[0m\u001b[1;33m,\u001b[0m \u001b[0mcv\u001b[0m\u001b[1;33m=\u001b[0m\u001b[0mcircular_cv\u001b[0m\u001b[1;33m)\u001b[0m\u001b[1;33m\u001b[0m\u001b[1;33m\u001b[0m\u001b[0m\n\u001b[0m\u001b[0;32m      2\u001b[0m \u001b[0mranking\u001b[0m \u001b[1;33m=\u001b[0m \u001b[0mranker\u001b[0m\u001b[1;33m.\u001b[0m\u001b[0mrun\u001b[0m\u001b[1;33m(\u001b[0m\u001b[0msample\u001b[0m\u001b[1;33m,\u001b[0m \u001b[0mn_jobs\u001b[0m\u001b[1;33m=\u001b[0m\u001b[1;33m-\u001b[0m\u001b[1;36m3\u001b[0m\u001b[1;33m)\u001b[0m\u001b[1;33m\u001b[0m\u001b[1;33m\u001b[0m\u001b[0m\n\u001b[0;32m      3\u001b[0m \u001b[0mprint\u001b[0m\u001b[1;33m(\u001b[0m\u001b[0msummary_report\u001b[0m\u001b[1;33m(\u001b[0m\u001b[0mranking\u001b[0m\u001b[1;33m)\u001b[0m\u001b[1;33m)\u001b[0m\u001b[1;33m\u001b[0m\u001b[1;33m\u001b[0m\u001b[0m\n",
      "\u001b[1;31mNameError\u001b[0m: name 'grids' is not defined"
     ]
    }
   ],
   "source": [
    "ranker = ModelRanker(grids=grids, cv=circular_cv)\n",
    "ranking = ranker.run(sample, n_jobs=-3)\n",
    "print(summary_report(ranking))"
   ]
  },
  {
   "cell_type": "code",
   "execution_count": null,
   "metadata": {
    "ExecuteTime": {
     "end_time": "2019-07-22T12:02:56.582268Z",
     "start_time": "2019-07-22T12:02:56.575301Z"
    }
   },
   "outputs": [],
   "source": [
    "top_model = ranking[0]\n",
    "print(top_model.scoring['test_score'])\n",
    "print(top_model.parameters)"
   ]
  },
  {
   "cell_type": "markdown",
   "metadata": {},
   "source": [
    "## ModelPipelineDF inspection\n",
    "The **PredictorFitCV** summarizes all the information of a model: the estimator used for the model, the CV (=cross-validation) type, and the **Sample** itself."
   ]
  },
  {
   "cell_type": "code",
   "execution_count": null,
   "metadata": {
    "ExecuteTime": {
     "end_time": "2019-07-22T11:58:52.008594Z",
     "start_time": "2019-07-22T11:58:51.828515Z"
    }
   },
   "outputs": [],
   "source": [
    "predictor = PredictorFitCV(model=top_model.model, cv=circular_cv, sample=sample)\n",
    "inspector = ModelInspector(predictor)\n",
    "predictions = predictor.predictions_for_all_splits()"
   ]
  },
  {
   "cell_type": "markdown",
   "metadata": {},
   "source": [
    "## Shape values"
   ]
  },
  {
   "cell_type": "markdown",
   "metadata": {},
   "source": [
    "The inspector object allows directly to acces the shap values of the model. These shap values are computed for a given sample as the average of the shap values over all the test folds containg that given sample."
   ]
  },
  {
   "cell_type": "code",
   "execution_count": null,
   "metadata": {
    "ExecuteTime": {
     "end_time": "2019-07-22T11:58:54.706566Z",
     "start_time": "2019-07-22T11:58:52.010507Z"
    },
    "scrolled": true
   },
   "outputs": [],
   "source": [
    "inspector.feature_importances()"
   ]
  },
  {
   "cell_type": "markdown",
   "metadata": {},
   "source": [
    "## Shap clustering\n",
    "The Shap clustering clusters the features using as distance between the features, the correlation matrix of the shap values.\n",
    "Then using a hierarchical clustering, and visualization style defined in the yield-engine package, one can easily visualize the clustering of the features."
   ]
  },
  {
   "cell_type": "code",
   "execution_count": null,
   "metadata": {
    "ExecuteTime": {
     "end_time": "2019-07-22T11:58:54.728541Z",
     "start_time": "2019-07-22T11:58:54.708526Z"
    }
   },
   "outputs": [],
   "source": [
    "linkage_tree = inspector.cluster_dependent_features()"
   ]
  },
  {
   "cell_type": "code",
   "execution_count": null,
   "metadata": {
    "ExecuteTime": {
     "end_time": "2019-07-22T11:58:55.151526Z",
     "start_time": "2019-07-22T11:58:54.730526Z"
    },
    "scrolled": false
   },
   "outputs": [],
   "source": [
    "number_features = predictor.sample.features.shape[1]\n",
    "ax = plt.figure(figsize=(10, number_features*.5)).add_subplot(111)\n",
    "style = FeatMapStyle(ax)\n",
    "DendrogramDrawer(title=TARGET, linkage_tree=linkage_tree, style=style).draw()"
   ]
  },
  {
   "cell_type": "markdown",
   "metadata": {},
   "source": [
    "It is desirable to have a model with\n",
    "- good predictivity (good R2 score for instance)\n",
    "- few features\n",
    "- independent features  \n",
    "\n",
    "With the above dendrograms one can isolate **features with low importance and which are strongly realted to other features. It makes sense to discard those.**"
   ]
  },
  {
   "cell_type": "markdown",
   "metadata": {},
   "source": [
    "## Shap clustering iterations"
   ]
  },
  {
   "cell_type": "markdown",
   "metadata": {},
   "source": [
    "## Method the run an iteration\n",
    "Based on the above remarks, who are going to run a clustering iteration as:\n",
    "1. Based on the shap dendrogram select features to discard\n",
    "2. Re-run the model with the new set of features\n",
    "3. Plot again the shap dendrogram to see if the feautures are more independent, and iterate this process if necessary"
   ]
  },
  {
   "cell_type": "markdown",
   "metadata": {},
   "source": [
    "## Simulation\n",
    "The simulation builds partial dependency plots which allow to assess the impact thta the value of a given feature has on the model predictions."
   ]
  },
  {
   "cell_type": "code",
   "execution_count": null,
   "metadata": {
    "ExecuteTime": {
     "end_time": "2019-07-22T11:58:55.157532Z",
     "start_time": "2019-07-22T11:58:55.154533Z"
    }
   },
   "outputs": [],
   "source": [
    "model_fit = inspector.model_fit\n",
    "sim = UnivariateSimulation(model_fit=model_fit)"
   ]
  },
  {
   "cell_type": "code",
   "execution_count": null,
   "metadata": {
    "ExecuteTime": {
     "end_time": "2019-07-22T11:58:55.726533Z",
     "start_time": "2019-07-22T11:58:55.159546Z"
    }
   },
   "outputs": [],
   "source": [
    "from IPython.display import display, clear_output\n",
    "import ipywidgets as widgets\n",
    "\n",
    "dd = widgets.Dropdown(\n",
    "    options=predictor.sample.features.columns,\n",
    "    description='Feature:',\n",
    "    disabled=False,\n",
    "    layout={\"width\":\"550px\"}\n",
    ")\n",
    "\n",
    "btn = widgets.Button(description='Simulate')\n",
    "\n",
    "def plot_simulation(feature:str):\n",
    "    feature_values = ContinuousRangePartitioning(df.loc[:,feature]).partitions()\n",
    "    yield_change = sim.simulate_feature(\n",
    "            feature_name=feature,\n",
    "            feature_values=feature_values,\n",
    "    )\n",
    "    \n",
    "    yield_change_aggr = UnivariateSimulation.aggregate_simulation_results(\n",
    "                    results_per_split=yield_change, percentiles=[10, 50, 90])\n",
    "    \n",
    "    XLABEL_TITLE = f\"{feature}\"\n",
    "    YLABEL_TITLE = f\"Predicted mean yield uplift ({TARGET})\"\n",
    "    COLOR1 = 'red'\n",
    "    COLOR2 = 'silver'\n",
    "    \n",
    "    fig, (ax1, ax2) = plt.subplots(nrows=2, figsize=(10,10), sharex=True)\n",
    "    \n",
    "    # plot lines of prediction\n",
    "    ax1.set_xlabel(XLABEL_TITLE, color='black', labelpad=10, fontsize=12)\n",
    "    ax1.set_ylabel(YLABEL_TITLE, color='black', fontsize=12)\n",
    "    line1, = ax1.plot(yield_change_aggr.index, yield_change_aggr.iloc[:,0], color=COLOR2, linewidth=1)\n",
    "    line2, = ax1.plot(yield_change_aggr.index, yield_change_aggr.iloc[:,1], color=COLOR1)\n",
    "    line3, = ax1.plot(yield_change_aggr.index, yield_change_aggr.iloc[:,2], color=COLOR2, linewidth=1)\n",
    "    ax1.axhline(y=0, color='black', linewidth=.5)\n",
    "    ax1.tick_params(axis='x', labelcolor='black')\n",
    "    for pos in ['top', 'right', 'bottom']:\n",
    "        ax1.spines[pos].set_visible(False)\n",
    "    ax1.tick_params(axis='x', labelbottom=True, bottom=False)\n",
    "    ax1.legend((line3, line2, line1), ('90th percentile', 'Median', '10th percentile'), frameon=False)\n",
    "    \n",
    "    # plot the histogram\n",
    "    x = sample.features[feature].dropna()\n",
    "    hist_range = (min(yield_change_aggr.index), max(yield_change_aggr.index))\n",
    "    n, bins, patches = ax2.hist(x, edgecolor='white', color=COLOR2, range=hist_range)\n",
    "    bins1 = pd.Series(bins).rolling(window=2).mean().shift(-1).dropna()\n",
    "    ax2.invert_yaxis()\n",
    "    ax2.tick_params(axis='y', labelcolor='black')\n",
    "    max_y = max(n)\n",
    "    y_offset = max_y * 0.05\n",
    "    for (x,y) in zip(bins1, n):\n",
    "        if y>0:\n",
    "            ax2.text(x, y + y_offset, str(int(y)), color='black', horizontalalignment='center')\n",
    "    ax2.get_yaxis().set_visible(False)\n",
    "    ax2.get_xaxis().set_visible(False)\n",
    "    for pos in ['top', 'right', 'left', 'bottom']:\n",
    "        ax2.spines[pos].set_visible(False)\n",
    "    plt.subplots_adjust(hspace=.2)\n",
    "    plt.show()\n",
    "\n",
    "def on_click(btn):\n",
    "    clear_output()\n",
    "    display(widgets.HBox([dd, btn]))\n",
    "    plot_simulation(feature=dd.value)\n",
    "    \n",
    "btn.on_click(on_click)    \n",
    "display(widgets.HBox([dd, btn]))\n",
    "btn.click()"
   ]
  },
  {
   "cell_type": "code",
   "execution_count": null,
   "metadata": {},
   "outputs": [],
   "source": []
  }
 ],
 "metadata": {
  "celltoolbar": "Raw Cell Format",
  "kernelspec": {
   "display_name": "Python 3",
   "language": "python",
   "name": "python3"
  },
  "language_info": {
   "codemirror_mode": {
    "name": "ipython",
    "version": 3
   },
   "file_extension": ".py",
   "mimetype": "text/x-python",
   "name": "python",
   "nbconvert_exporter": "python",
   "pygments_lexer": "ipython3",
   "version": "3.6.7"
  },
  "pycharm": {
   "stem_cell": {
    "cell_type": "raw",
    "metadata": {
     "collapsed": false
    },
    "source": []
   }
  },
  "toc": {
   "base_numbering": 1,
   "nav_menu": {},
   "number_sections": true,
   "sideBar": false,
   "skip_h1_title": false,
   "title_cell": "Table of Contents",
   "title_sidebar": "Contents",
   "toc_cell": false,
   "toc_position": {
    "height": "688px",
    "left": "97px",
    "top": "110.233px",
    "width": "229.6px"
   },
   "toc_section_display": true,
   "toc_window_display": false
  },
  "varInspector": {
   "cols": {
    "lenName": 16,
    "lenType": 16,
    "lenVar": 40
   },
   "kernels_config": {
    "python": {
     "delete_cmd_postfix": "",
     "delete_cmd_prefix": "del ",
     "library": "var_list.py",
     "varRefreshCmd": "print(var_dic_list())"
    },
    "r": {
     "delete_cmd_postfix": ") ",
     "delete_cmd_prefix": "rm(",
     "library": "var_list.r",
     "varRefreshCmd": "cat(var_dic_list()) "
    }
   },
   "types_to_exclude": [
    "module",
    "function",
    "builtin_function_or_method",
    "instance",
    "_Feature"
   ],
   "window_display": false
  }
 },
 "nbformat": 4,
 "nbformat_minor": 2
}
