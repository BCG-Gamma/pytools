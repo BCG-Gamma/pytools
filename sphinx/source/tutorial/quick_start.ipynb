{
 "cells": [
  {
   "cell_type": "markdown",
   "metadata": {},
   "source": [
    "# Quick Start"
   ]
  },
  {
   "cell_type": "code",
   "execution_count": null,
   "metadata": {
    "ExecuteTime": {
     "end_time": "2019-08-02T16:31:10.907292Z",
     "start_time": "2019-08-02T16:31:10.895293Z"
    },
    "nbsphinx": "hidden",
    "scrolled": true
   },
   "outputs": [],
   "source": [
    "# this cell's metadata contains\n",
    "# \"nbsphinx\": \"hidden\" so it is hidden by nbsphinx\n",
    "PATH_YIELD_ENGINE = 'src'\n",
    "def set_paths() -> None:\n",
    "    import sys\n",
    "    import os\n",
    "    \n",
    "    if 'cwd' not in globals():\n",
    "        global cwd\n",
    "        cwd = os.path.join(os.getcwd(), os.pardir, os.pardir, os.pardir)\n",
    "        os.chdir(cwd)   \n",
    "    print(f\"working dir is '{os.getcwd()}'\")                            \n",
    "    if PATH_YIELD_ENGINE not in sys.path:\n",
    "        sys.path.insert(0, PATH_YIELD_ENGINE)\n",
    "    print(f\"added `{sys.path[0]}` to python paths\")\n",
    "set_paths()\n",
    "\n"
   ]
  },
  {
   "cell_type": "raw",
   "metadata": {
    "raw_mimetype": "text/restructuredtext"
   },
   "source": [
    "The :mod:`!gamma` package allows to\n",
    "\n",
    "- build data science pipelines that follow scikit-learn API and are compatible with pandas dataframe\n",
    "- select relevant features\n",
    "- inspect the trained models\n",
    "- visualize the results of the inspection\n",
    "\n",
    "**This 15 minutes tutorial will show you the main funtionalities of** :mod:`gamma`."
   ]
  },
  {
   "cell_type": "markdown",
   "metadata": {},
   "source": [
    "## TL;DR"
   ]
  },
  {
   "cell_type": "raw",
   "metadata": {
    "raw_mimetype": "text/restructuredtext"
   },
   "source": [
    "- :class:`~gamma.Sample` holds the data\n",
    "- :class:`~gamma.sklearndf.pipeline.ModelPipelineDF` holds a preprocessing pipeline and a predictor (regressor or classifier)\n",
    "- :class:`~gamma.model.selection.ModelRanker` uses :class:`~gamma.model.selection.ModelGrid` to optimize hyperparameters and select the top model\n",
    "- :class:`~gamma.model.prediction.PredictorFitCV` fits a model using cross-validation\n",
    "- :class:`~gamma.model.inspection.ModelInspector` explains what the model learnt\n",
    "- :class:`~gamma.yieldengine.simulation.UnivariateSimulator` optimizes the model target variable\n",
    "- :class:`~gamma.viz.dendrogram.DendrogramDrawer` and :class:`~gamma.yieldengine.viz.SimulationDrawer` turn the inspection and simulation into high-quality charts"
   ]
  },
  {
   "cell_type": "markdown",
   "metadata": {},
   "source": [
    "We first make our imports:"
   ]
  },
  {
   "cell_type": "code",
   "execution_count": null,
   "metadata": {
    "ExecuteTime": {
     "end_time": "2019-08-02T16:31:14.629880Z",
     "start_time": "2019-08-02T16:31:10.939291Z"
    },
    "pycharm": {
     "is_executing": false
    }
   },
   "outputs": [],
   "source": [
    "import pandas as pd\n",
    "from sklearn import datasets\n",
    "from sklearn.impute import SimpleImputer\n",
    "import matplotlib.pyplot as plt\n",
    "\n",
    "from gamma import Sample\n",
    "from gamma.viz.dendrogram import DendrogramDrawer, DendrogramFeatMapStyle, DendrogramLineStyle, DendrogramReportStyle\n",
    "from gamma.sklearndf.pipeline import RegressionPipelineDF\n",
    "from gamma.sklearndf.transformation import SimpleImputerDF, MissingIndicatorDF, StandardScalerDF\n",
    "from gamma.sklearndf.transformation.extra import BorutaDF\n",
    "from gamma.sklearndf.regression import RandomForestRegressorDF, LGBMRegressorDF\n",
    "from gamma.model.inspection import RegressionModelInspector\n",
    "from gamma.model.fitcv import RegressorFitCV\n",
    "from gamma.model.selection import ModelParameterGrid, ModelRanker, summary_report\n",
    "from gamma.model.validation import CircularCrossValidator\n",
    "from gamma.yieldengine.simulation import UnivariateUpliftSimulator\n",
    "from gamma.yieldengine.partition import ContinuousRangePartitioning\n",
    "from gamma.yieldengine.viz import SimulationDrawer, SimulationPlotStyle"
   ]
  },
  {
   "cell_type": "code",
   "execution_count": null,
   "metadata": {
    "ExecuteTime": {
     "end_time": "2019-08-02T16:31:14.634363Z",
     "start_time": "2019-08-02T16:31:14.631359Z"
    },
    "nbsphinx": "hidden"
   },
   "outputs": [],
   "source": [
    "import warnings\n",
    "warnings.filterwarnings(\"ignore\", category=DeprecationWarning)"
   ]
  },
  {
   "cell_type": "markdown",
   "metadata": {},
   "source": [
    "We load the Boston dataset, a regression problem on house prices in boston suburbs:"
   ]
  },
  {
   "cell_type": "code",
   "execution_count": null,
   "metadata": {
    "ExecuteTime": {
     "end_time": "2019-08-02T16:31:14.688361Z",
     "start_time": "2019-08-02T16:31:14.636366Z"
    }
   },
   "outputs": [],
   "source": [
    "boston = datasets.load_boston()\n",
    "TARGET='MEDIAN_HOUSE_PRICE'\n",
    "df = pd.DataFrame(data=boston.data, columns=boston.feature_names).assign(MEDIAN_HOUSE_PRICE=boston.target)\n",
    "df.head()"
   ]
  },
  {
   "cell_type": "raw",
   "metadata": {
    "raw_mimetype": "text/restructuredtext"
   },
   "source": [
    "A :class:`~gamma.Sample` provides the features as a dataframe and the target as series:"
   ]
  },
  {
   "cell_type": "code",
   "execution_count": null,
   "metadata": {
    "ExecuteTime": {
     "end_time": "2019-08-02T16:31:14.693365Z",
     "start_time": "2019-08-02T16:31:14.690362Z"
    }
   },
   "outputs": [],
   "source": [
    "sample = Sample(observations=df, target_name=TARGET)"
   ]
  },
  {
   "cell_type": "raw",
   "metadata": {
    "raw_mimetype": "text/restructuredtext"
   },
   "source": [
    "The underlying pandas dataframe is kept in the ``features`` attribute:"
   ]
  },
  {
   "cell_type": "code",
   "execution_count": null,
   "metadata": {
    "ExecuteTime": {
     "end_time": "2019-08-02T16:31:14.716362Z",
     "start_time": "2019-08-02T16:31:14.695363Z"
    }
   },
   "outputs": [],
   "source": [
    "sample.features.head()"
   ]
  },
  {
   "cell_type": "raw",
   "metadata": {
    "raw_mimetype": "text/restructuredtext"
   },
   "source": [
    "The target is kept as a pandas series in the ``target`` attribute of :class:`.Sample`:"
   ]
  },
  {
   "cell_type": "code",
   "execution_count": null,
   "metadata": {
    "ExecuteTime": {
     "end_time": "2019-08-02T16:31:14.728405Z",
     "start_time": "2019-08-02T16:31:14.718362Z"
    }
   },
   "outputs": [],
   "source": [
    "sample.target.head()"
   ]
  },
  {
   "cell_type": "markdown",
   "metadata": {},
   "source": [
    "##  Dataframes instead of arrays"
   ]
  },
  {
   "cell_type": "raw",
   "metadata": {
    "raw_mimetype": "text/restructuredtext"
   },
   "source": [
    "Scikit-learn works by default with numpy arrays: if one uses a scikit-learn transformer with a dataframe as input, one gets a numpy array as output. \n",
    "However in the process we loose the feature names which are needed to inspect a model.\n",
    "For the majority of scikit-learn classes :mod:`!gamma` provides a sibling class that \n",
    "\n",
    "- **behaves exactly like the native scikit-learn class** \n",
    "- **returns  dataframes instead of numpy arrays**\n",
    "- provides additional functionalities like mapping output columns to their original input columns\n",
    "\n",
    ":mod:`!gamma` follows a **simple naming convention: simply append DF at the end of the  scikit-learn classes**:\n",
    "\n",
    "- :class:`~sklearn.preprocessing.OneHotEncoder` becomes :class:`~gamma.sklearndf.transformation.OneHotEncoderDF`\n",
    "- :class:`~sklearn.pipeline.Pipeline` becomes :class:`~gamma.sklearndf.pipeline.PipelineDF`\n",
    "\n",
    "For instance :class:`~sklearn.impute.SimpleImputer` returnr a numpy array:"
   ]
  },
  {
   "cell_type": "code",
   "execution_count": null,
   "metadata": {
    "ExecuteTime": {
     "end_time": "2019-08-02T16:31:14.745364Z",
     "start_time": "2019-08-02T16:31:14.730362Z"
    }
   },
   "outputs": [],
   "source": [
    "imputed_array = SimpleImputer().fit_transform(sample.features)\n",
    "imputed_array"
   ]
  },
  {
   "cell_type": "raw",
   "metadata": {
    "raw_mimetype": "text/restructuredtext"
   },
   "source": [
    "With :class:`~gamma.sklearndf.transformation.SimpleImputerDF` one gets the same scikit-learn API but the output is a dataframe:"
   ]
  },
  {
   "cell_type": "code",
   "execution_count": null,
   "metadata": {
    "ExecuteTime": {
     "end_time": "2019-08-02T16:31:14.771366Z",
     "start_time": "2019-08-02T16:31:14.748361Z"
    }
   },
   "outputs": [],
   "source": [
    "imputed_df = SimpleImputerDF().fit_transform(sample.features)\n",
    "imputed_df.head()"
   ]
  },
  {
   "cell_type": "raw",
   "metadata": {
    "raw_mimetype": "text/restructuredtext"
   },
   "source": [
    "The ``fit_transform_sample`` acts directly on :class:`.Sample`:"
   ]
  },
  {
   "cell_type": "code",
   "execution_count": null,
   "metadata": {
    "ExecuteTime": {
     "end_time": "2019-08-02T16:31:14.781367Z",
     "start_time": "2019-08-02T16:31:14.772366Z"
    }
   },
   "outputs": [],
   "source": [
    "sample_imputed = SimpleImputerDF().fit_transform_sample(sample=sample)"
   ]
  },
  {
   "cell_type": "markdown",
   "metadata": {},
   "source": [
    "## Cross-validation and model selection"
   ]
  },
  {
   "cell_type": "raw",
   "metadata": {
    "raw_mimetype": "text/restructuredtext"
   },
   "source": [
    ":class:`~gamma.sklearndf.pipeline.ModelPipelineDF` specifies a predictor (regressor or classifier) and a preprocessing pipeline.\n",
    ":class:`~gamma.model.selection.ModelGrid` specifies a :class:`~gamma.sklearndf.pipeline.ModelPipelineDF` and a hyperparameter grid:"
   ]
  },
  {
   "cell_type": "code",
   "execution_count": null,
   "metadata": {
    "ExecuteTime": {
     "end_time": "2019-08-02T16:31:14.795365Z",
     "start_time": "2019-08-02T16:31:14.783366Z"
    }
   },
   "outputs": [],
   "source": [
    "preprocessing = PipelineDF(steps=[('impute', SimpleImputerDF()), ('normalize', StandardScalerDF())])"
   ]
  },
  {
   "cell_type": "code",
   "execution_count": null,
   "metadata": {
    "ExecuteTime": {
     "end_time": "2019-08-02T16:31:14.810368Z",
     "start_time": "2019-08-02T16:31:14.796362Z"
    }
   },
   "outputs": [],
   "source": [
    "rf_pipeline = RegressionPipelineDF(\n",
    "    regressor=RandomForestRegressorDF(random_state=0), preprocessing=preprocessing)\n",
    "lgbm_pipeline = RegressionPipelineDF(\n",
    "    regressor=LGBMRegressorDF(random_state=0), preprocessing=preprocessing)"
   ]
  },
  {
   "cell_type": "code",
   "execution_count": null,
   "metadata": {
    "ExecuteTime": {
     "end_time": "2019-08-02T16:31:14.822370Z",
     "start_time": "2019-08-02T16:31:14.811363Z"
    }
   },
   "outputs": [],
   "source": [
    "grids = [\n",
    "    ModelParameterGrid(pipeline=rf_pipeline, estimator_parameters={\"n_estimators\": [10, 50]}),\n",
    "    ModelParameterGrid(pipeline=lgbm_pipeline, estimator_parameters={\"learning_rate\": [0.1, 0.2]})\n",
    "]"
   ]
  },
  {
   "cell_type": "raw",
   "metadata": {
    "ExecuteTime": {
     "end_time": "2019-07-26T07:44:24.925690Z",
     "start_time": "2019-07-26T07:44:24.918647Z"
    },
    "raw_mimetype": "text/restructuredtext"
   },
   "source": [
    "A :class:`~gamma.model.selection.ModelRanker` finds the best model using cross-validation. \n",
    "We use a custom CV splitter :class:`~gamma.model.validation.CircularCrossValidator`:"
   ]
  },
  {
   "cell_type": "code",
   "execution_count": null,
   "metadata": {
    "ExecuteTime": {
     "end_time": "2019-08-02T16:31:19.886515Z",
     "start_time": "2019-08-02T16:31:14.823364Z"
    },
    "pycharm": {
     "is_executing": false,
     "name": "#%%\n"
    }
   },
   "outputs": [],
   "source": [
    "cv = CircularCrossValidator(test_ratio=1/3, num_splits=3)\n",
    "ranker = ModelRanker(grids=grids, cv=cv)\n",
    "ranking = ranker.run(sample_imputed, n_jobs=-3)\n",
    "print(summary_report(ranking))"
   ]
  },
  {
   "cell_type": "markdown",
   "metadata": {},
   "source": [
    "## Model inspection"
   ]
  },
  {
   "cell_type": "raw",
   "metadata": {
    "raw_mimetype": "text/restructuredtext"
   },
   "source": [
    "When inspecting the model\n",
    "**we get the full benefit of** :mod:`gamma.sklearndf` **by having the impact on the model of each feature by its name**.\n",
    "We first retrieve the champion model:"
   ]
  },
  {
   "cell_type": "code",
   "execution_count": null,
   "metadata": {
    "ExecuteTime": {
     "end_time": "2019-08-02T16:31:19.890514Z",
     "start_time": "2019-08-02T16:31:19.888513Z"
    }
   },
   "outputs": [],
   "source": [
    "top_model = ranking[0].model"
   ]
  },
  {
   "cell_type": "raw",
   "metadata": {
    "raw_mimetype": "text/restructuredtext"
   },
   "source": [
    ":class:`~gamma.model.fitcv.RegressorFitCV` takes a :class:`~gamma.sklearndf.pipeline.RegressionPipelineDF`, a cross-validator, and a :class:`~gamma.Sample`, and fits it:"
   ]
  },
  {
   "cell_type": "code",
   "execution_count": null,
   "metadata": {
    "ExecuteTime": {
     "end_time": "2019-08-02T16:31:19.918514Z",
     "start_time": "2019-08-02T16:31:19.892515Z"
    }
   },
   "outputs": [],
   "source": [
    "regressor = RegressorFitCV(pipeline=top_model, cv=cv, sample=sample_imputed)"
   ]
  },
  {
   "cell_type": "markdown",
   "metadata": {},
   "source": [
    "We can retrieve the predictions for all splits, hence make a full inspection of the model:"
   ]
  },
  {
   "cell_type": "code",
   "execution_count": null,
   "metadata": {
    "ExecuteTime": {
     "end_time": "2019-08-02T16:31:20.127516Z",
     "start_time": "2019-08-02T16:31:19.920517Z"
    }
   },
   "outputs": [],
   "source": [
    "regressor.predictions_for_split(split_id=0).head()"
   ]
  },
  {
   "cell_type": "raw",
   "metadata": {
    "raw_mimetype": "text/restructuredtext"
   },
   "source": [
    "Shap values compute additive contribution coefficients for each, feature and each sample  hence\n",
    "giving great insights to better understand non-linear models like Tree ensembles (see `here <http://papers.nips.cc/paper/7062-a-unified-approach-to-interpreting-model-predictions>`_).\n",
    ":class:`~gamma.model.inspection.RegressionModelInspector` computes shap values by averaging over all test folds:"
   ]
  },
  {
   "cell_type": "code",
   "execution_count": null,
   "metadata": {
    "ExecuteTime": {
     "end_time": "2019-08-02T16:31:20.421519Z",
     "start_time": "2019-08-02T16:31:20.129516Z"
    }
   },
   "outputs": [],
   "source": [
    "inspector = RegressionModelInspector(regressor)\n",
    "inspector.shap_matrix().head()"
   ]
  },
  {
   "cell_type": "raw",
   "metadata": {
    "raw_mimetype": "text/restructuredtext"
   },
   "source": [
    "The ``feature_importances`` are computed based on the shap values of the test splits of the cross-validation:"
   ]
  },
  {
   "cell_type": "code",
   "execution_count": null,
   "metadata": {
    "ExecuteTime": {
     "end_time": "2019-08-02T16:31:20.446522Z",
     "start_time": "2019-08-02T16:31:20.423521Z"
    },
    "scrolled": true
   },
   "outputs": [],
   "source": [
    "inspector.feature_importances().head()"
   ]
  },
  {
   "cell_type": "raw",
   "metadata": {
    "raw_mimetype": "text/restructuredtext"
   },
   "source": [
    "**Shap clustering** is a method to cluster features using the correlation matrix of the shap values and hierarchical clustering. With visualization styles defined in :mod:`!gamma`, one can easily visualize the shap clustering:"
   ]
  },
  {
   "cell_type": "code",
   "execution_count": null,
   "metadata": {
    "ExecuteTime": {
     "end_time": "2019-08-02T16:31:20.929527Z",
     "start_time": "2019-08-02T16:31:20.448520Z"
    }
   },
   "outputs": [],
   "source": [
    "linkage_tree = inspector.cluster_dependent_features()\n",
    "ax = plt.figure(figsize=(10, 10)).add_subplot(111)\n",
    "style_matplotlib = DendrogramFeatMapStyle(ax)\n",
    "DendrogramDrawer(title=TARGET, linkage_tree=linkage_tree, style=style_matplotlib).draw()"
   ]
  },
  {
   "cell_type": "raw",
   "metadata": {
    "raw_mimetype": "text/restructuredtext"
   },
   "source": [
    "Changing the style to :class:`~gamma.viz.dendrogram.DendrogramReportStyle` one gets a text report:"
   ]
  },
  {
   "cell_type": "code",
   "execution_count": null,
   "metadata": {
    "ExecuteTime": {
     "end_time": "2019-08-02T16:31:20.946529Z",
     "start_time": "2019-08-02T16:31:20.931526Z"
    }
   },
   "outputs": [],
   "source": [
    "style_report = DendrogramReportStyle()\n",
    "DendrogramDrawer(title=TARGET, linkage_tree=linkage_tree, style=style_report).draw()"
   ]
  },
  {
   "cell_type": "markdown",
   "metadata": {},
   "source": [
    "## Feature independence engineering"
   ]
  },
  {
   "cell_type": "raw",
   "metadata": {
    "raw_mimetype": "text/restructuredtext"
   },
   "source": [
    "For a univariate simulation, one needs to have a model with independent features.\n",
    "The above shap clustering dendrogram helps to:\n",
    "\n",
    "- assess if the features of the model are independent\n",
    "- suggest which features to discard to increase the independence of the features in the model\n",
    "\n",
    "For instance let us keep the features ``RM``, ``LSTAT``, ``AGE`` and ``CRIM`` as they are quite independent and concentrate much of the model importance.\n",
    "With :attr:`!Sample.select_features we create a new :class:`gamma.Sample` with the selected features:"
   ]
  },
  {
   "cell_type": "code",
   "execution_count": null,
   "metadata": {
    "ExecuteTime": {
     "end_time": "2019-08-02T16:31:20.956529Z",
     "start_time": "2019-08-02T16:31:20.948527Z"
    }
   },
   "outputs": [],
   "source": [
    "sample_new = sample_imputed.select_features(['RM', 'LSTAT','AGE', 'CRIM'])"
   ]
  },
  {
   "cell_type": "markdown",
   "metadata": {},
   "source": [
    "And we can rerun our pipeline to select, fit and inspect our model with this new data:"
   ]
  },
  {
   "cell_type": "code",
   "execution_count": null,
   "metadata": {
    "ExecuteTime": {
     "end_time": "2019-08-02T16:31:21.914539Z",
     "start_time": "2019-08-02T16:31:20.958528Z"
    }
   },
   "outputs": [],
   "source": [
    "ranking = ranker.run(sample_new, n_jobs=-3)\n",
    "top_model = ranking[0].model\n",
    "predictor = RegressorFitCV(pipeline=top_model, cv=cv, sample=sample_new)\n",
    "inspector = RegressionModelInspector(predictor)\n",
    "linkage_tree = inspector.cluster_dependent_features()\n",
    "ax = plt.figure(figsize=(10, 10)).add_subplot(111)\n",
    "style = DendrogramFeatMapStyle(ax)\n",
    "DendrogramDrawer(title=TARGET, linkage_tree=linkage_tree, style=style).draw()"
   ]
  },
  {
   "cell_type": "markdown",
   "metadata": {},
   "source": [
    "## Simulation"
   ]
  },
  {
   "cell_type": "raw",
   "metadata": {
    "ExecuteTime": {
     "end_time": "2019-07-23T21:00:14.418618Z",
     "start_time": "2019-07-23T21:00:14.403000Z"
    },
    "raw_mimetype": "text/restructuredtext"
   },
   "source": [
    "With more independent features, it makes sense to simulate one feature. \n",
    "What-if analysis are handled by :class:`~gamma.yieldengine.simulation.UnivariateSimulator`:"
   ]
  },
  {
   "cell_type": "code",
   "execution_count": null,
   "metadata": {
    "ExecuteTime": {
     "end_time": "2019-08-02T16:31:21.919544Z",
     "start_time": "2019-08-02T16:31:21.916539Z"
    }
   },
   "outputs": [],
   "source": [
    "simulator = UnivariateUpliftSimulator(models=regressor)"
   ]
  },
  {
   "cell_type": "raw",
   "metadata": {
    "raw_mimetype": "text/restructuredtext"
   },
   "source": [
    "Let us simulate the impact of `LSTAT` (percentage of lower status population in the suburb) on the house prices:\n",
    "\n",
    "- with :class:`~gamma.yieldengine.partition.ContinuousRangePartitioning` one gets human-readable values to simulate on\n",
    "- the vizualisation is controlled by styles\n",
    "- :class:`~gamma.viz.simulation.SimulationDrawerSimulationDrawer` combines all of it in charts"
   ]
  },
  {
   "cell_type": "code",
   "execution_count": null,
   "metadata": {
    "ExecuteTime": {
     "end_time": "2019-08-02T16:31:58.959922Z",
     "start_time": "2019-08-02T16:31:58.953918Z"
    }
   },
   "outputs": [],
   "source": [
    "partition = ContinuousRangePartitioning(values=predictor.sample.features[\"LSTAT\"])"
   ]
  },
  {
   "cell_type": "code",
   "execution_count": null,
   "metadata": {
    "ExecuteTime": {
     "end_time": "2019-08-02T16:32:00.205282Z",
     "start_time": "2019-08-02T16:31:59.149267Z"
    }
   },
   "outputs": [],
   "source": [
    "univariate_simulation = simulator.simulate_feature(feature_name=\"LSTAT\", partitioning=partition)"
   ]
  },
  {
   "cell_type": "code",
   "execution_count": null,
   "metadata": {
    "ExecuteTime": {
     "end_time": "2019-08-02T16:32:00.624292Z",
     "start_time": "2019-08-02T16:32:00.208283Z"
    }
   },
   "outputs": [],
   "source": [
    "ax = plt.figure(figsize=(10,10)).add_subplot(111)\n",
    "style = SimulationPlotStyle(ax)\n",
    "drawer = SimulationDrawer(simulation=univariate_simulation, style=style)\n",
    "drawer.draw()"
   ]
  }
 ],
 "metadata": {
  "celltoolbar": "Raw Cell Format",
  "kernelspec": {
   "display_name": "Python 3",
   "language": "python",
   "name": "python3"
  },
  "language_info": {
   "codemirror_mode": {
    "name": "ipython",
    "version": 3
   },
   "file_extension": ".py",
   "mimetype": "text/x-python",
   "name": "python",
   "nbconvert_exporter": "python",
   "pygments_lexer": "ipython3",
   "version": "3.6.7"
  },
  "pycharm": {
   "stem_cell": {
    "cell_type": "raw",
    "metadata": {
     "collapsed": false
    },
    "source": []
   }
  },
  "toc": {
   "base_numbering": 1,
   "nav_menu": {},
   "number_sections": true,
   "sideBar": false,
   "skip_h1_title": false,
   "title_cell": "Table of Contents",
   "title_sidebar": "Contents",
   "toc_cell": false,
   "toc_position": {
    "height": "688px",
    "left": "97px",
    "top": "110.233px",
    "width": "229.6px"
   },
   "toc_section_display": true,
   "toc_window_display": false
  },
  "varInspector": {
   "cols": {
    "lenName": 16,
    "lenType": 16,
    "lenVar": 40
   },
   "kernels_config": {
    "python": {
     "delete_cmd_postfix": "",
     "delete_cmd_prefix": "del ",
     "library": "var_list.py",
     "varRefreshCmd": "print(var_dic_list())"
    },
    "r": {
     "delete_cmd_postfix": ") ",
     "delete_cmd_prefix": "rm(",
     "library": "var_list.r",
     "varRefreshCmd": "cat(var_dic_list()) "
    }
   },
   "types_to_exclude": [
    "module",
    "function",
    "builtin_function_or_method",
    "instance",
    "_Feature"
   ],
   "window_display": false
  }
 },
 "nbformat": 4,
 "nbformat_minor": 2
}
