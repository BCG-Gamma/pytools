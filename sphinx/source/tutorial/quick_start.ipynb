{
 "cells": [
  {
   "cell_type": "markdown",
   "metadata": {},
   "source": [
    "# Quick Start"
   ]
  },
  {
   "cell_type": "code",
   "execution_count": null,
   "metadata": {
    "ExecuteTime": {
     "end_time": "2019-07-23T21:05:44.902000Z",
     "start_time": "2019-07-23T21:05:44.870747Z"
    },
    "nbsphinx": "hidden"
   },
   "outputs": [],
   "source": [
    "# this cell's metadata contains\n",
    "# \"nbsphinx\": \"hidden\" so it is hidden by nbsphinx\n",
    "PATH_YIELD_ENGINE = 'src'\n",
    "def set_paths() -> None:\n",
    "    import sys\n",
    "    import os\n",
    "    \n",
    "    if 'cwd' not in globals():\n",
    "        global cwd\n",
    "        cwd = os.path.join(os.getcwd(), os.pardir, os.pardir, os.pardir)\n",
    "        os.chdir(cwd)   \n",
    "    print(f\"working dir is '{os.getcwd()}'\")                            \n",
    "    if PATH_YIELD_ENGINE not in sys.path:\n",
    "        sys.path.insert(0, PATH_YIELD_ENGINE)\n",
    "    print(f\"added `{sys.path[0]}` to python paths\")\n",
    "set_paths()"
   ]
  },
  {
   "cell_type": "code",
   "execution_count": null,
   "metadata": {
    "ExecuteTime": {
     "end_time": "2019-07-23T21:05:48.797831Z",
     "start_time": "2019-07-23T21:05:44.902000Z"
    },
    "pycharm": {
     "is_executing": false
    }
   },
   "outputs": [],
   "source": [
    "import pandas as pd\n",
    "from lightgbm import LGBMRegressor\n",
    "from sklearn.ensemble import RandomForestRegressor\n",
    "import matplotlib.pyplot as plt\n",
    "\n",
    "from gamma import Sample\n",
    "from gamma.viz.dendrogram import DendrogramDrawer, FeatMapStyle, LineStyle\n",
    "from gamma.sklearndf.pipeline import PipelineDF\n",
    "from gamma.sklearndf.transformation import SimpleImputerDF, MissingIndicatorDF\n",
    "from gamma.sklearndf.transformation.extra import BorutaDF\n",
    "from gamma.sklearndf.regression import RandomForestRegressorDF, LGBMRegressorDF\n",
    "from gamma.model.inspection import ModelInspector\n",
    "from gamma.model.prediction import PredictorFitCV\n",
    "from gamma.model.selection import ModelPipelineDF, ModelGrid, ModelRanker, summary_report\n",
    "from gamma.model.validation import CircularCrossValidator\n",
    "from gamma.yieldengine.simulation import UnivariateSimulator\n",
    "from gamma.yieldengine.partition import ContinuousRangePartitioning\n",
    "from gamma.viz.simulation import SimulationDrawer, SimulationData, SimulationMatplotStyle"
   ]
  },
  {
   "cell_type": "code",
   "execution_count": null,
   "metadata": {
    "ExecuteTime": {
     "end_time": "2019-07-23T21:05:48.875951Z",
     "start_time": "2019-07-23T21:05:48.797831Z"
    }
   },
   "outputs": [],
   "source": [
    "df = pd.read_csv('data/ames-housing-dataset/train.csv')\n",
    "df.head()"
   ]
  },
  {
   "cell_type": "code",
   "execution_count": null,
   "metadata": {
    "ExecuteTime": {
     "end_time": "2019-07-23T21:05:48.891546Z",
     "start_time": "2019-07-23T21:05:48.875951Z"
    }
   },
   "outputs": [],
   "source": [
    "df = df.drop(['Id', 'YrSold', 'MoSold'], axis=1)"
   ]
  },
  {
   "cell_type": "code",
   "execution_count": null,
   "metadata": {
    "ExecuteTime": {
     "end_time": "2019-07-23T21:05:48.922780Z",
     "start_time": "2019-07-23T21:05:48.891546Z"
    }
   },
   "outputs": [],
   "source": [
    "TARGET = \"SalePrice\"\n",
    "num_features = df.select_dtypes('number').columns\n",
    "df = df[list(num_features)]"
   ]
  },
  {
   "cell_type": "raw",
   "metadata": {
    "raw_mimetype": "text/restructuredtext"
   },
   "source": [
    "We create a :class:`~gamma.Sample` object that wraps around our data and the target name."
   ]
  },
  {
   "cell_type": "code",
   "execution_count": null,
   "metadata": {
    "ExecuteTime": {
     "end_time": "2019-07-23T21:05:48.938403Z",
     "start_time": "2019-07-23T21:05:48.922780Z"
    }
   },
   "outputs": [],
   "source": [
    "sample = Sample(observations=df, target_name=TARGET)"
   ]
  },
  {
   "cell_type": "raw",
   "metadata": {
    "raw_mimetype": "text/restructuredtext"
   },
   "source": [
    ":class:`~gamma.sklearndf.pipeline.PipelineDF` is a wrapper around :class:`sklearn.pipeline.Pipeline` that deals with dataframes.\n",
    "Likewise :class:`~gamma.sklearndf.transformation.extra.BorutaDF` is a *dataframe compatible* wrapper around the feature selection algorithm \n",
    ":class:`BorutaPY <https://github.com/scikit-learn-contrib/boruta_py>`."
   ]
  },
  {
   "cell_type": "code",
   "execution_count": null,
   "metadata": {
    "ExecuteTime": {
     "end_time": "2019-07-23T21:05:48.954030Z",
     "start_time": "2019-07-23T21:05:48.938403Z"
    }
   },
   "outputs": [],
   "source": [
    "boruta_selector = PipelineDF(steps = [\n",
    "        ('preprocess', SimpleImputerDF(strategy=\"median\")),\n",
    "        ('boruta', BorutaDF(estimator=RandomForestRegressor(),n_estimators=10, verbose=2, max_iter=10))\n",
    "])"
   ]
  },
  {
   "cell_type": "code",
   "execution_count": null,
   "metadata": {
    "ExecuteTime": {
     "end_time": "2019-07-23T21:05:50.750899Z",
     "start_time": "2019-07-23T21:05:48.954030Z"
    },
    "scrolled": true
   },
   "outputs": [],
   "source": [
    "boruta_selector.fit(sample.features, sample.target);"
   ]
  },
  {
   "cell_type": "code",
   "execution_count": null,
   "metadata": {
    "ExecuteTime": {
     "end_time": "2019-07-23T21:05:50.766532Z",
     "start_time": "2019-07-23T21:05:50.750899Z"
    }
   },
   "outputs": [],
   "source": [
    "boruta_selector.columns_original"
   ]
  },
  {
   "cell_type": "code",
   "execution_count": null,
   "metadata": {
    "ExecuteTime": {
     "end_time": "2019-07-23T21:05:50.782110Z",
     "start_time": "2019-07-23T21:05:50.766532Z"
    }
   },
   "outputs": [],
   "source": [
    "sample = sample.select_features(boruta_selector.columns_original)"
   ]
  },
  {
   "cell_type": "raw",
   "metadata": {
    "raw_mimetype": "text/restructuredtext"
   },
   "source": [
    "We use the custom CV splitter :class:`~gamma.model.validation.CircularCrossValidator`."
   ]
  },
  {
   "cell_type": "code",
   "execution_count": null,
   "metadata": {
    "ExecuteTime": {
     "end_time": "2019-07-23T21:05:50.797737Z",
     "start_time": "2019-07-23T21:05:50.782110Z"
    },
    "pycharm": {
     "is_executing": false,
     "name": "#%%\n"
    }
   },
   "outputs": [],
   "source": [
    "circular_cv = CircularCrossValidator(test_ratio=1/3, num_splits=3)"
   ]
  },
  {
   "cell_type": "raw",
   "metadata": {
    "raw_mimetype": "text/restructuredtext"
   },
   "source": [
    ":class:`gamma.model.ModelPipelineDF` specifies a model as an predictor and a preprocessing pipeline.\n",
    ":class:`gamma.model.selection.ModelGrid` specifies a :class:`gamma.model.ModelPipelineDF` and a hyperparameter grid."
   ]
  },
  {
   "cell_type": "code",
   "execution_count": null,
   "metadata": {
    "ExecuteTime": {
     "end_time": "2019-07-23T21:05:50.813411Z",
     "start_time": "2019-07-23T21:05:50.797737Z"
    }
   },
   "outputs": [],
   "source": [
    "rf_pipeline = ModelPipelineDF(predictor=RandomForestRegressorDF(), preprocessing=SimpleImputerDF())\n",
    "lgbm_pipeline = ModelPipelineDF(predictor=LGBMRegressorDF(), preprocessing=SimpleImputerDF())"
   ]
  },
  {
   "cell_type": "code",
   "execution_count": null,
   "metadata": {
    "ExecuteTime": {
     "end_time": "2019-07-23T21:05:50.829024Z",
     "start_time": "2019-07-23T21:05:50.813411Z"
    }
   },
   "outputs": [],
   "source": [
    "grids = [\n",
    "    ModelGrid(pipeline=rf_pipeline, predictor_parameters={\"n_estimators\": [10, 20]}),\n",
    "    ModelGrid(pipeline=lgbm_pipeline, predictor_parameters={\"learning_rate\": [0.1, 0.2]})\n",
    "]"
   ]
  },
  {
   "cell_type": "code",
   "execution_count": null,
   "metadata": {
    "ExecuteTime": {
     "end_time": "2019-07-23T21:05:57.293295Z",
     "start_time": "2019-07-23T21:05:50.829024Z"
    },
    "pycharm": {
     "is_executing": false,
     "name": "#%%\n"
    }
   },
   "outputs": [],
   "source": [
    "ranker = ModelRanker(grids=grids, cv=circular_cv)\n",
    "ranking = ranker.run(sample, n_jobs=-3)\n",
    "print(summary_report(ranking))"
   ]
  },
  {
   "cell_type": "code",
   "execution_count": null,
   "metadata": {
    "ExecuteTime": {
     "end_time": "2019-07-23T21:05:57.308948Z",
     "start_time": "2019-07-23T21:05:57.293295Z"
    }
   },
   "outputs": [],
   "source": [
    "top_model = ranking[0]\n",
    "print(top_model.scoring['test_score'])\n",
    "print(top_model.parameters)"
   ]
  },
  {
   "cell_type": "raw",
   "metadata": {
    "raw_mimetype": "text/restructuredtext"
   },
   "source": [
    ":class:`gamma.model.prediction.PredictorFitCV` summarizes all the information of a model: the estimator used for the model, the CV (=cross-validation) type, and the :class:`gamma.Sample` itself."
   ]
  },
  {
   "cell_type": "code",
   "execution_count": null,
   "metadata": {
    "ExecuteTime": {
     "end_time": "2019-07-23T21:05:57.324549Z",
     "start_time": "2019-07-23T21:05:57.308948Z"
    }
   },
   "outputs": [],
   "source": [
    "predictor = PredictorFitCV(model=top_model.model, cv=circular_cv, sample=sample)"
   ]
  },
  {
   "cell_type": "raw",
   "metadata": {
    "raw_mimetype": "text/restructuredtext"
   },
   "source": [
    ":class:`gamma.model.inspection.ModelInspector` allows directly to acces the shap values of the model. These shap values are computed for a given sample as the average of the shap values over all the test folds containg that given sample."
   ]
  },
  {
   "cell_type": "code",
   "execution_count": null,
   "metadata": {
    "ExecuteTime": {
     "end_time": "2019-07-23T21:05:57.794704Z",
     "start_time": "2019-07-23T21:05:57.324549Z"
    }
   },
   "outputs": [],
   "source": [
    "inspector = ModelInspector(predictor)\n",
    "predictions = predictor.predictions_for_all_splits()"
   ]
  },
  {
   "cell_type": "code",
   "execution_count": null,
   "metadata": {
    "ExecuteTime": {
     "end_time": "2019-07-23T21:05:58.532811Z",
     "start_time": "2019-07-23T21:05:57.794704Z"
    },
    "scrolled": true
   },
   "outputs": [],
   "source": [
    "inspector.feature_importances()"
   ]
  },
  {
   "cell_type": "markdown",
   "metadata": {},
   "source": [
    "The Shap clustering clusters the features using as distance between the features, the correlation matrix of the shap values.\n",
    "Then using a hierarchical clustering, and visualization style defined in the yield-engine package, one can easily visualize the clustering of the features."
   ]
  },
  {
   "cell_type": "code",
   "execution_count": null,
   "metadata": {
    "ExecuteTime": {
     "end_time": "2019-07-23T21:05:58.564063Z",
     "start_time": "2019-07-23T21:05:58.532811Z"
    }
   },
   "outputs": [],
   "source": [
    "linkage_tree = inspector.cluster_dependent_features()"
   ]
  },
  {
   "cell_type": "code",
   "execution_count": null,
   "metadata": {
    "ExecuteTime": {
     "end_time": "2019-07-23T21:05:58.968382Z",
     "start_time": "2019-07-23T21:05:58.564063Z"
    },
    "scrolled": false
   },
   "outputs": [],
   "source": [
    "number_features = predictor.sample.features.shape[1]\n",
    "ax = plt.figure(figsize=(10, number_features*.5)).add_subplot(111)\n",
    "style = FeatMapStyle(ax)\n",
    "DendrogramDrawer(title=TARGET, linkage_tree=linkage_tree, style=style).draw()"
   ]
  },
  {
   "cell_type": "markdown",
   "metadata": {},
   "source": [
    "The simulation builds partial dependency plots which allow to assess the impact that the value of a given feature has on the model predictions."
   ]
  },
  {
   "cell_type": "code",
   "execution_count": null,
   "metadata": {
    "ExecuteTime": {
     "end_time": "2019-07-23T21:05:58.984008Z",
     "start_time": "2019-07-23T21:05:58.968382Z"
    }
   },
   "outputs": [],
   "source": [
    "model_fit = inspector.model_fit\n",
    "sim = UnivariateSimulator(model_fit=model_fit)"
   ]
  },
  {
   "cell_type": "markdown",
   "metadata": {
    "ExecuteTime": {
     "end_time": "2019-07-23T21:00:14.418618Z",
     "start_time": "2019-07-23T21:00:14.403000Z"
    }
   },
   "source": [
    "### Simulation"
   ]
  },
  {
   "cell_type": "code",
   "execution_count": null,
   "metadata": {
    "ExecuteTime": {
     "end_time": "2019-07-23T21:11:13.175417Z",
     "start_time": "2019-07-23T21:11:12.472336Z"
    }
   },
   "outputs": [],
   "source": [
    "feature= model_fit.sample.feature_names[0]\n",
    "simulation_data = SimulationData(model=model_fit, feature=feature)\n",
    "style = SimulationMatplotStyle()\n",
    "drawer = SimulationDrawer(simulation_data=simulation_data, style=style)"
   ]
  },
  {
   "cell_type": "code",
   "execution_count": null,
   "metadata": {
    "ExecuteTime": {
     "end_time": "2019-07-23T21:11:14.144153Z",
     "start_time": "2019-07-23T21:11:13.894191Z"
    }
   },
   "outputs": [],
   "source": [
    "drawer.draw()"
   ]
  },
  {
   "cell_type": "code",
   "execution_count": null,
   "metadata": {
    "ExecuteTime": {
     "end_time": "2019-07-23T21:06:47.124636Z",
     "start_time": "2019-07-23T21:06:45.952867Z"
    }
   },
   "outputs": [],
   "source": [
    "drawer.update_simulation(upper_bound=20000)"
   ]
  },
  {
   "cell_type": "code",
   "execution_count": null,
   "metadata": {
    "ExecuteTime": {
     "end_time": "2019-07-23T21:06:47.968370Z",
     "start_time": "2019-07-23T21:06:47.609001Z"
    }
   },
   "outputs": [],
   "source": [
    "drawer.draw()"
   ]
  },
  {
   "cell_type": "code",
   "execution_count": null,
   "metadata": {},
   "outputs": [],
   "source": []
  }
 ],
 "metadata": {
  "celltoolbar": "Raw Cell Format",
  "kernelspec": {
   "display_name": "Python 3",
   "language": "python",
   "name": "python3"
  },
  "language_info": {
   "codemirror_mode": {
    "name": "ipython",
    "version": 3
   },
   "file_extension": ".py",
   "mimetype": "text/x-python",
   "name": "python",
   "nbconvert_exporter": "python",
   "pygments_lexer": "ipython3",
   "version": "3.6.7"
  },
  "pycharm": {
   "stem_cell": {
    "cell_type": "raw",
    "metadata": {
     "collapsed": false
    },
    "source": []
   }
  },
  "toc": {
   "base_numbering": 1,
   "nav_menu": {},
   "number_sections": true,
   "sideBar": false,
   "skip_h1_title": false,
   "title_cell": "Table of Contents",
   "title_sidebar": "Contents",
   "toc_cell": false,
   "toc_position": {
    "height": "688px",
    "left": "97px",
    "top": "110.233px",
    "width": "229.6px"
   },
   "toc_section_display": true,
   "toc_window_display": false
  },
  "varInspector": {
   "cols": {
    "lenName": 16,
    "lenType": 16,
    "lenVar": 40
   },
   "kernels_config": {
    "python": {
     "delete_cmd_postfix": "",
     "delete_cmd_prefix": "del ",
     "library": "var_list.py",
     "varRefreshCmd": "print(var_dic_list())"
    },
    "r": {
     "delete_cmd_postfix": ") ",
     "delete_cmd_prefix": "rm(",
     "library": "var_list.r",
     "varRefreshCmd": "cat(var_dic_list()) "
    }
   },
   "types_to_exclude": [
    "module",
    "function",
    "builtin_function_or_method",
    "instance",
    "_Feature"
   ],
   "window_display": false
  }
 },
 "nbformat": 4,
 "nbformat_minor": 2
}
