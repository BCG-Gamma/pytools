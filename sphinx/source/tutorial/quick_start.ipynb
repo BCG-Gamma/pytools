{
 "cells": [
  {
   "cell_type": "markdown",
   "metadata": {},
   "source": [
    "# Quick Start"
   ]
  },
  {
   "cell_type": "code",
   "execution_count": null,
   "metadata": {
    "ExecuteTime": {
     "end_time": "2019-08-01T18:22:00.974995Z",
     "start_time": "2019-08-01T18:22:00.969994Z"
    },
    "nbsphinx": "hidden",
    "scrolled": true
   },
   "outputs": [],
   "source": [
    "# this cell's metadata contains\n",
    "# \"nbsphinx\": \"hidden\" so it is hidden by nbsphinx\n",
    "PATH_YIELD_ENGINE = 'src'\n",
    "def set_paths() -> None:\n",
    "    import sys\n",
    "    import os\n",
    "    \n",
    "    if 'cwd' not in globals():\n",
    "        global cwd\n",
    "        cwd = os.path.join(os.getcwd(), os.pardir, os.pardir, os.pardir)\n",
    "        os.chdir(cwd)   \n",
    "    print(f\"working dir is '{os.getcwd()}'\")                            \n",
    "    if PATH_YIELD_ENGINE not in sys.path:\n",
    "        sys.path.insert(0, PATH_YIELD_ENGINE)\n",
    "    print(f\"added `{sys.path[0]}` to python paths\")\n",
    "set_paths()"
   ]
  },
  {
   "cell_type": "raw",
   "metadata": {
    "raw_mimetype": "text/restructuredtext"
   },
   "source": [
    "The :mode:`!gamma` package allows to\n",
    "\n",
    "- build data science pipelines that follow scikit-learn API and are compatible with pandas dataframe\n",
    "- select relevant features\n",
    "- inspect the trained models\n",
    "- visualize the results of the inspection\n",
    "\n",
    "**This 15 minutes quick start tutorial will present the main funtionalities of :mod:`gamma`.**\n",
    "We first make our imports and load the data we will use."
   ]
  },
  {
   "cell_type": "code",
   "execution_count": null,
   "metadata": {
    "ExecuteTime": {
     "end_time": "2019-08-01T18:24:13.699349Z",
     "start_time": "2019-08-01T18:24:11.683255Z"
    },
    "pycharm": {
     "is_executing": false
    }
   },
   "outputs": [],
   "source": [
    "import pandas as pd\n",
    "from sklearn.impute import SimpleImputer\n",
    "import matplotlib.pyplot as plt\n",
    "\n",
    "from gamma import Sample\n",
    "from gamma.viz.dendrogram import DendrogramDrawer, DendrogramFeatMapStyle, DendrogramLineStyle\n",
    "from gamma.sklearndf.pipeline import PipelineDF, ModelPipelineDF\n",
    "from gamma.sklearndf.transformation import SimpleImputerDF, MissingIndicatorDF, StandardScalerDF\n",
    "from gamma.sklearndf.transformation.extra import BorutaDF\n",
    "from gamma.sklearndf.regression import RandomForestRegressorDF, LGBMRegressorDF\n",
    "from gamma.model.inspection import ModelInspector\n",
    "from gamma.model.prediction import PredictorFitCV\n",
    "from gamma.model.selection import ModelGrid, ModelRanker, summary_report\n",
    "from gamma.model.validation import CircularCrossValidator\n",
    "from gamma.yieldengine.simulation import UnivariateSimulator\n",
    "from gamma.yieldengine.partition import ContinuousRangePartitioning\n",
    "from gamma.yieldengine.viz import SimulationDrawer, SimulationPlotStyle"
   ]
  },
  {
   "cell_type": "markdown",
   "metadata": {},
   "source": [
    "We load the Ames housing dataset: a regression problem on house prices."
   ]
  },
  {
   "cell_type": "code",
   "execution_count": null,
   "metadata": {
    "ExecuteTime": {
     "end_time": "2019-08-01T18:24:15.167183Z",
     "start_time": "2019-08-01T18:24:15.102182Z"
    }
   },
   "outputs": [],
   "source": [
    "df = pd.read_csv('data/ames-housing-dataset/train.csv')\n",
    "df.head()"
   ]
  },
  {
   "cell_type": "code",
   "execution_count": null,
   "metadata": {
    "ExecuteTime": {
     "end_time": "2019-08-01T18:24:15.287194Z",
     "start_time": "2019-08-01T18:24:15.265189Z"
    }
   },
   "outputs": [],
   "source": [
    "df = df.drop(['Id', 'YrSold', 'MoSold'], axis=1)\n",
    "TARGET = \"SalePrice\"\n",
    "num_features = df.select_dtypes('number').columns\n",
    "df = df[list(num_features)]"
   ]
  },
  {
   "cell_type": "raw",
   "metadata": {
    "raw_mimetype": "text/restructuredtext"
   },
   "source": [
    "A :class:`~gamma.Sample` provides the features as a dataframe and the target as series."
   ]
  },
  {
   "cell_type": "code",
   "execution_count": null,
   "metadata": {
    "ExecuteTime": {
     "end_time": "2019-08-01T18:24:15.977315Z",
     "start_time": "2019-08-01T18:24:15.973351Z"
    }
   },
   "outputs": [],
   "source": [
    "sample = Sample(observations=df, target_name=TARGET)"
   ]
  },
  {
   "cell_type": "raw",
   "metadata": {
    "raw_mimetype": "text/restructuredtext"
   },
   "source": [
    "The underlying dataframe is kept in the ``features`` attribute:"
   ]
  },
  {
   "cell_type": "code",
   "execution_count": null,
   "metadata": {
    "ExecuteTime": {
     "end_time": "2019-08-01T18:24:16.426062Z",
     "start_time": "2019-08-01T18:24:16.406069Z"
    }
   },
   "outputs": [],
   "source": [
    "sample.features.head()"
   ]
  },
  {
   "cell_type": "raw",
   "metadata": {
    "raw_mimetype": "text/restructuredtext"
   },
   "source": [
    "The target is kept as a pandas series in the ``target`` attribute of :class:`.Sample`:"
   ]
  },
  {
   "cell_type": "code",
   "execution_count": null,
   "metadata": {
    "ExecuteTime": {
     "end_time": "2019-08-01T18:24:17.195057Z",
     "start_time": "2019-08-01T18:24:17.190049Z"
    }
   },
   "outputs": [],
   "source": [
    "sample.target.head()"
   ]
  },
  {
   "cell_type": "markdown",
   "metadata": {},
   "source": [
    "##  Dataframes instead of arrays\n",
    "\n",
    "Scikit-learn works by default with numpy arrays: if one uses a scikit-learn transformer with a dataframe as input, one gets a numpy array as output, and in the process we loose the feature names which are needed to inspect a model."
   ]
  },
  {
   "cell_type": "raw",
   "metadata": {
    "raw_mimetype": "text/restructuredtext"
   },
   "source": [
    "For the majority of scikit-learn classes :mod:`!gamma` privides a sibling class that \n",
    "\n",
    "- **behaves exactly like the native scikit-learn class** \n",
    "- **returns  dataframes instead of numpy arrays**\n",
    "- provides additional functionalities like mapping output columns to their original input columns\n",
    "\n",
    ":mod:`!gamma: follows a simple naming convention: simply append **DF** at the end of the  scikit-learn classes. For instance:\n",
    "\n",
    "- :class:`~sklearn.preprocessing.OneHotEncoder` becomes :class:`.OneHotEncoderDF`\n",
    "- :class:`~sklearn.pipeline.Pipeline` becomes :class:`.PipelineDF`"
   ]
  },
  {
   "cell_type": "raw",
   "metadata": {
    "raw_mimetype": "text/restructuredtext"
   },
   "source": [
    "For instance :class:`~sklearn.impute.SimpleImputer` would return a numpy array:"
   ]
  },
  {
   "cell_type": "code",
   "execution_count": null,
   "metadata": {
    "ExecuteTime": {
     "end_time": "2019-08-01T18:24:18.696989Z",
     "start_time": "2019-08-01T18:24:18.689946Z"
    }
   },
   "outputs": [],
   "source": [
    "imputed_array = SimpleImputer().fit_transform(sample.features)"
   ]
  },
  {
   "cell_type": "code",
   "execution_count": null,
   "metadata": {
    "ExecuteTime": {
     "end_time": "2019-08-01T18:24:19.098680Z",
     "start_time": "2019-08-01T18:24:19.094677Z"
    }
   },
   "outputs": [],
   "source": [
    "imputed_array"
   ]
  },
  {
   "cell_type": "raw",
   "metadata": {
    "raw_mimetype": "text/restructuredtext"
   },
   "source": [
    "With :class:`.SimpleImputerDF` we get the same scikit-learn API but the output is a dataframe:"
   ]
  },
  {
   "cell_type": "code",
   "execution_count": null,
   "metadata": {
    "ExecuteTime": {
     "end_time": "2019-08-01T18:24:20.029715Z",
     "start_time": "2019-08-01T18:24:20.021671Z"
    }
   },
   "outputs": [],
   "source": [
    "imputed_df = SimpleImputerDF().fit_transform(sample.features)"
   ]
  },
  {
   "cell_type": "code",
   "execution_count": null,
   "metadata": {
    "ExecuteTime": {
     "end_time": "2019-08-01T18:24:20.423273Z",
     "start_time": "2019-08-01T18:24:20.394312Z"
    }
   },
   "outputs": [],
   "source": [
    "imputed_df.head()"
   ]
  },
  {
   "cell_type": "raw",
   "metadata": {
    "raw_mimetype": "text/restructuredtext"
   },
   "source": [
    "The ``fit_transform_sample`` acts even directly on :class:`.Sample`:"
   ]
  },
  {
   "cell_type": "code",
   "execution_count": null,
   "metadata": {
    "ExecuteTime": {
     "end_time": "2019-08-01T18:24:21.104813Z",
     "start_time": "2019-08-01T18:24:21.094814Z"
    }
   },
   "outputs": [],
   "source": [
    "sample_imputed = SimpleImputerDF().fit_transform_sample(sample=sample)"
   ]
  },
  {
   "cell_type": "markdown",
   "metadata": {},
   "source": [
    "## Pipeline, cross validation and model selection"
   ]
  },
  {
   "cell_type": "raw",
   "metadata": {
    "raw_mimetype": "text/restructuredtext"
   },
   "source": [
    ":class:`~gamma.sklearndf.pipeline.ModelPipelineDF` specifies a predictor (regressor or classifier) and a preprocessing pipeline.\n",
    ":class:`~gamma.model.selection.ModelGrid` specifies a :class:`~gamma.sklearndf.pipeline.ModelPipelineDF` and a hyperparameter grid."
   ]
  },
  {
   "cell_type": "code",
   "execution_count": null,
   "metadata": {
    "ExecuteTime": {
     "end_time": "2019-08-01T18:24:48.203288Z",
     "start_time": "2019-08-01T18:24:48.200288Z"
    }
   },
   "outputs": [],
   "source": [
    "preprocessing = PipelineDF(steps=[('impute', SimpleImputerDF()), ('normalize', StandardScalerDF())])"
   ]
  },
  {
   "cell_type": "code",
   "execution_count": null,
   "metadata": {
    "ExecuteTime": {
     "end_time": "2019-08-01T18:25:10.728264Z",
     "start_time": "2019-08-01T18:25:10.724300Z"
    }
   },
   "outputs": [],
   "source": [
    "rf_pipeline = ModelPipelineDF(\n",
    "    predictor=RandomForestRegressorDF(random_state=0), preprocessing=preprocessing)\n",
    "lgbm_pipeline = ModelPipelineDF(\n",
    "    predictor=LGBMRegressorDF(random_state=0), preprocessing=preprocessing)"
   ]
  },
  {
   "cell_type": "code",
   "execution_count": null,
   "metadata": {
    "ExecuteTime": {
     "end_time": "2019-08-01T18:25:11.993985Z",
     "start_time": "2019-08-01T18:25:11.989966Z"
    }
   },
   "outputs": [],
   "source": [
    "grids = [\n",
    "    ModelGrid(pipeline=rf_pipeline, predictor_parameters={\"n_estimators\": [10, 20]}),\n",
    "    ModelGrid(pipeline=lgbm_pipeline, predictor_parameters={\"learning_rate\": [0.1, 0.2]})\n",
    "]"
   ]
  },
  {
   "cell_type": "raw",
   "metadata": {
    "ExecuteTime": {
     "end_time": "2019-07-26T07:44:24.925690Z",
     "start_time": "2019-07-26T07:44:24.918647Z"
    },
    "raw_mimetype": "text/restructuredtext"
   },
   "source": [
    "A :class:`~gamma.model.selection.ModelRanker` finds the best model using cross-validation. \n",
    "We use a custom CV splitter :class:`~gamma.model.validation.CircularCrossValidator`:"
   ]
  },
  {
   "cell_type": "code",
   "execution_count": null,
   "metadata": {
    "ExecuteTime": {
     "end_time": "2019-08-01T18:25:19.310743Z",
     "start_time": "2019-08-01T18:25:13.764311Z"
    },
    "pycharm": {
     "is_executing": false,
     "name": "#%%\n"
    }
   },
   "outputs": [],
   "source": [
    "circular_cv = CircularCrossValidator(test_ratio=1/3, num_splits=3)\n",
    "ranker = ModelRanker(grids=grids, cv=circular_cv)\n",
    "ranking = ranker.run(sample_imputed, n_jobs=-3)\n",
    "print(summary_report(ranking))"
   ]
  },
  {
   "cell_type": "markdown",
   "metadata": {},
   "source": [
    "## Model inspection\n",
    "\n",
    "The champion model can be inspected consistently with the cross-valdiation strategy.\n",
    "We first retrieve the champion model:"
   ]
  },
  {
   "cell_type": "code",
   "execution_count": null,
   "metadata": {
    "ExecuteTime": {
     "end_time": "2019-08-01T18:25:29.439863Z",
     "start_time": "2019-08-01T18:25:29.436866Z"
    }
   },
   "outputs": [],
   "source": [
    "top_model = ranking[0]"
   ]
  },
  {
   "cell_type": "raw",
   "metadata": {
    "raw_mimetype": "text/restructuredtext"
   },
   "source": [
    ":class:`~gamma.model.prediction.PredictorFitCV` summarizes all the information of a fitted model: the estimator used for the model, the cross-validation strategy, and the :class:`~gamma.Sample` itself."
   ]
  },
  {
   "cell_type": "code",
   "execution_count": null,
   "metadata": {
    "ExecuteTime": {
     "end_time": "2019-08-01T18:25:30.216845Z",
     "start_time": "2019-08-01T18:25:30.212846Z"
    }
   },
   "outputs": [],
   "source": [
    "predictor = PredictorFitCV(model=top_model.model, cv=circular_cv, sample=sample_imputed)"
   ]
  },
  {
   "cell_type": "raw",
   "metadata": {
    "raw_mimetype": "text/restructuredtext"
   },
   "source": [
    "With a :class:`~gamma.model.inspection.ModelInspector`one can acces the shap values of the model: they are computed as the average of the shap values over all the test folds containg that given sample."
   ]
  },
  {
   "cell_type": "code",
   "execution_count": null,
   "metadata": {
    "ExecuteTime": {
     "end_time": "2019-08-01T18:25:40.884045Z",
     "start_time": "2019-08-01T18:25:40.315028Z"
    }
   },
   "outputs": [],
   "source": [
    "inspector = ModelInspector(predictor)\n",
    "predictions = predictor.predictions_for_all_splits()"
   ]
  },
  {
   "cell_type": "raw",
   "metadata": {
    "raw_mimetype": "text/restructuredtext"
   },
   "source": [
    "The ``feature_importances`` are computed based on the shap values of the test splits of the cross-validation:"
   ]
  },
  {
   "cell_type": "code",
   "execution_count": null,
   "metadata": {
    "ExecuteTime": {
     "end_time": "2019-08-01T18:25:43.996011Z",
     "start_time": "2019-08-01T18:25:43.077981Z"
    },
    "scrolled": true
   },
   "outputs": [],
   "source": [
    "inspector.feature_importances().head()"
   ]
  },
  {
   "cell_type": "markdown",
   "metadata": {},
   "source": [
    "### Shap clustering"
   ]
  },
  {
   "cell_type": "raw",
   "metadata": {
    "raw_mimetype": "text/restructuredtext"
   },
   "source": [
    "Shap values compute additive contribution coefficients for each of the feature and for each sample of a model, hence\n",
    "giving great insights to better understand better non-linear models like Tree ensembles (see `here <http://papers.nips.cc/paper/7062-a-unified-approach-to-interpreting-model-predictions>`_).\n",
    "On top, **Shap clustering** is a method to cluster the features using the correlation matrix of the shap values.\n",
    "Then using hierarchical clustering, and visualization style defined in :mod:`!gamma`, one can easily visualize the clustering of the features."
   ]
  },
  {
   "cell_type": "code",
   "execution_count": null,
   "metadata": {
    "ExecuteTime": {
     "end_time": "2019-08-01T18:34:13.725675Z",
     "start_time": "2019-08-01T18:34:13.688677Z"
    }
   },
   "outputs": [],
   "source": [
    "linkage_tree = inspector.cluster_dependent_features()"
   ]
  },
  {
   "cell_type": "code",
   "execution_count": null,
   "metadata": {
    "ExecuteTime": {
     "end_time": "2019-08-01T18:34:43.321532Z",
     "start_time": "2019-08-01T18:34:42.479524Z"
    },
    "scrolled": false
   },
   "outputs": [],
   "source": [
    "number_features = predictor.sample.features.shape[1]\n",
    "ax = plt.figure(figsize=(10, number_features*.5)).add_subplot(111)\n",
    "style = DendrogramFeatMapStyle(ax)\n",
    "DendrogramDrawer(title=TARGET, linkage_tree=linkage_tree, style=style).draw()"
   ]
  },
  {
   "cell_type": "markdown",
   "metadata": {},
   "source": [
    "## Simulation"
   ]
  },
  {
   "cell_type": "raw",
   "metadata": {
    "ExecuteTime": {
     "end_time": "2019-07-23T21:00:14.418618Z",
     "start_time": "2019-07-23T21:00:14.403000Z"
    },
    "raw_mimetype": "text/restructuredtext"
   },
   "source": [
    "What-if analysis are easily created with :class:`~gamma.yieldengine.simulation.UnivariateSimulator`:"
   ]
  },
  {
   "cell_type": "code",
   "execution_count": null,
   "metadata": {
    "ExecuteTime": {
     "end_time": "2019-08-01T18:34:46.123249Z",
     "start_time": "2019-08-01T18:34:46.120284Z"
    }
   },
   "outputs": [],
   "source": [
    "model_fit = inspector.model_fit\n",
    "simulator = UnivariateSimulator(model_fit=model_fit)"
   ]
  },
  {
   "cell_type": "raw",
   "metadata": {
    "raw_mimetype": "text/restructuredtext"
   },
   "source": [
    "To simulate the impact of the surface of the living room ``GrLivArea`` on the house prices:\n",
    "\n",
    "- with partitioning classs like :class:`~gamma.yieldengine.partition.ContinuousRangePartitioning` one gets human-readable values to simulate on\n",
    "- the vizualisation is controlled by styles\n",
    "- :class:`~gamma.viz.simulation.SimulationDrawerSimulationDrawer` combines all of it in charts"
   ]
  },
  {
   "cell_type": "code",
   "execution_count": null,
   "metadata": {
    "ExecuteTime": {
     "end_time": "2019-08-01T18:34:54.364952Z",
     "start_time": "2019-08-01T18:34:54.358955Z"
    }
   },
   "outputs": [],
   "source": [
    "feature = \"GrLivArea\"\n",
    "partition = ContinuousRangePartitioning(values=model_fit.sample.features[feature])"
   ]
  },
  {
   "cell_type": "code",
   "execution_count": null,
   "metadata": {
    "ExecuteTime": {
     "end_time": "2019-08-01T18:34:55.901786Z",
     "start_time": "2019-08-01T18:34:54.924772Z"
    }
   },
   "outputs": [],
   "source": [
    "univariate_simulation = simulator.simulate_feature(feature_name=feature, partitioning=partition)"
   ]
  },
  {
   "cell_type": "code",
   "execution_count": null,
   "metadata": {
    "ExecuteTime": {
     "end_time": "2019-08-01T18:34:56.184816Z",
     "start_time": "2019-08-01T18:34:55.904783Z"
    }
   },
   "outputs": [],
   "source": [
    "ax = plt.figure(figsize=(10,10)).add_subplot(111)\n",
    "style = SimulationPlotStyle(ax)\n",
    "drawer = SimulationDrawer(title=f\"{feature} Simulation\", simulation=univariate_simulation, style=style)\n",
    "drawer.draw()"
   ]
  }
 ],
 "metadata": {
  "celltoolbar": "Raw Cell Format",
  "kernelspec": {
   "display_name": "Python 3",
   "language": "python",
   "name": "python3"
  },
  "language_info": {
   "codemirror_mode": {
    "name": "ipython",
    "version": 3
   },
   "file_extension": ".py",
   "mimetype": "text/x-python",
   "name": "python",
   "nbconvert_exporter": "python",
   "pygments_lexer": "ipython3",
   "version": "3.6.7"
  },
  "pycharm": {
   "stem_cell": {
    "cell_type": "raw",
    "metadata": {
     "collapsed": false
    },
    "source": []
   }
  },
  "toc": {
   "base_numbering": 1,
   "nav_menu": {},
   "number_sections": true,
   "sideBar": false,
   "skip_h1_title": false,
   "title_cell": "Table of Contents",
   "title_sidebar": "Contents",
   "toc_cell": false,
   "toc_position": {
    "height": "688px",
    "left": "97px",
    "top": "110.233px",
    "width": "229.6px"
   },
   "toc_section_display": true,
   "toc_window_display": false
  },
  "varInspector": {
   "cols": {
    "lenName": 16,
    "lenType": 16,
    "lenVar": 40
   },
   "kernels_config": {
    "python": {
     "delete_cmd_postfix": "",
     "delete_cmd_prefix": "del ",
     "library": "var_list.py",
     "varRefreshCmd": "print(var_dic_list())"
    },
    "r": {
     "delete_cmd_postfix": ") ",
     "delete_cmd_prefix": "rm(",
     "library": "var_list.r",
     "varRefreshCmd": "cat(var_dic_list()) "
    }
   },
   "types_to_exclude": [
    "module",
    "function",
    "builtin_function_or_method",
    "instance",
    "_Feature"
   ],
   "window_display": false
  }
 },
 "nbformat": 4,
 "nbformat_minor": 2
}
