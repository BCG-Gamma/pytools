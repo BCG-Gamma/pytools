{
 "cells": [
  {
   "cell_type": "markdown",
   "metadata": {
    "ExecuteTime": {
     "end_time": "2019-07-26T08:31:08.171058Z",
     "start_time": "2019-07-26T08:31:08.167059Z"
    }
   },
   "source": [
    "# Dataframes and scikit-learn"
   ]
  },
  {
   "cell_type": "raw",
   "metadata": {
    "raw_mimetype": "text/restructuredtext"
   },
   "source": [
    "The :mod:`gamma.sklearndf` package is for those who use scikit-learn together with pandas dataframes.\n",
    "With scikit-learn the output of transformers are numpy arrays, even when the input is a dataframe. \n",
    "On the other hand, to inspect a model it is essential to keep track of the name of the columns.\n",
    "The goal of :class:`gamma.sklearndf` is very simple:\n",
    "\n",
    "**Append DF at the end of scikit-learn classes and you will get dataframes in exchange.**"
   ]
  },
  {
   "cell_type": "code",
   "execution_count": null,
   "metadata": {
    "ExecuteTime": {
     "end_time": "2019-07-30T18:53:36.811401Z",
     "start_time": "2019-07-30T18:53:36.794399Z"
    },
    "nbsphinx": "hidden",
    "scrolled": true
   },
   "outputs": [],
   "source": [
    "# this cell's metadata contains\n",
    "# \"nbsphinx\": \"hidden\" so it is hidden by nbsphinx\n",
    "PATH_YIELD_ENGINE = 'src'\n",
    "def set_paths() -> None:\n",
    "    import sys\n",
    "    import os\n",
    "    \n",
    "    if 'cwd' not in globals():\n",
    "        global cwd\n",
    "        cwd = os.path.join(os.getcwd(), os.pardir, os.pardir, os.pardir)\n",
    "        os.chdir(cwd)   \n",
    "    print(f\"working dir is '{os.getcwd()}'\")                            \n",
    "    if PATH_YIELD_ENGINE not in sys.path:\n",
    "        sys.path.insert(0, PATH_YIELD_ENGINE)\n",
    "    print(f\"added `{sys.path[0]}` to python paths\")\n",
    "set_paths()"
   ]
  },
  {
   "cell_type": "code",
   "execution_count": null,
   "metadata": {
    "ExecuteTime": {
     "end_time": "2019-07-30T18:53:38.950751Z",
     "start_time": "2019-07-30T18:53:36.816398Z"
    }
   },
   "outputs": [],
   "source": [
    "import pandas as pd\n",
    "from sklearn.impute import SimpleImputer\n",
    "from sklearn.preprocessing import OneHotEncoder\n",
    "from sklearn.compose import ColumnTransformer\n",
    "from sklearn.pipeline import Pipeline\n",
    "from sklearn.model_selection import train_test_split\n",
    "from pandas.api.types import is_numeric_dtype\n",
    "\n",
    "from gamma.sklearndf.pipeline import PipelineDF\n",
    "from gamma.sklearndf.transformation import SimpleImputerDF, OneHotEncoderDF, ColumnTransformerDF\n",
    "from gamma.sklearndf.transformation.extra import BorutaDF\n",
    "from gamma.sklearndf.regression import RandomForestRegressorDF, LGBMRegressorDF\n",
    "from gamma.sklearndf.classification import RandomForestClassifierDF"
   ]
  },
  {
   "cell_type": "markdown",
   "metadata": {},
   "source": [
    "We load our data:"
   ]
  },
  {
   "cell_type": "code",
   "execution_count": null,
   "metadata": {
    "ExecuteTime": {
     "end_time": "2019-07-30T18:53:38.991698Z",
     "start_time": "2019-07-30T18:53:38.953342Z"
    }
   },
   "outputs": [],
   "source": [
    "df = pd.read_csv('data/ames-housing-dataset/train.csv')\n",
    "df = df.drop(['Id', 'YrSold', 'MoSold'], axis=1)\n",
    "TARGET = \"SalePrice\"\n",
    "y = df[TARGET]\n",
    "df = df.drop(columns=TARGET)"
   ]
  },
  {
   "cell_type": "markdown",
   "metadata": {},
   "source": [
    "The data contains categorical features and missing values:"
   ]
  },
  {
   "cell_type": "code",
   "execution_count": null,
   "metadata": {
    "ExecuteTime": {
     "end_time": "2019-07-30T18:53:39.002353Z",
     "start_time": "2019-07-30T18:53:38.993328Z"
    }
   },
   "outputs": [],
   "source": [
    "df['GarageType'].unique().tolist()"
   ]
  },
  {
   "cell_type": "code",
   "execution_count": null,
   "metadata": {
    "ExecuteTime": {
     "end_time": "2019-07-30T18:53:39.016313Z",
     "start_time": "2019-07-30T18:53:39.004315Z"
    },
    "scrolled": true
   },
   "outputs": [],
   "source": [
    "df['GarageType'].isna().sum()"
   ]
  },
  {
   "cell_type": "markdown",
   "metadata": {
    "ExecuteTime": {
     "end_time": "2019-07-26T13:42:19.065036Z",
     "start_time": "2019-07-26T13:42:19.058033Z"
    }
   },
   "source": [
    "Let us build a preprocessing pipeline which:\n",
    "\n",
    "- for categorical variables fills missing values with the string 'nan' and then one hot encode\n",
    "- for numerical values fills missing values using median values"
   ]
  },
  {
   "cell_type": "code",
   "execution_count": null,
   "metadata": {
    "ExecuteTime": {
     "end_time": "2019-07-30T18:53:39.044336Z",
     "start_time": "2019-07-30T18:53:39.019314Z"
    }
   },
   "outputs": [],
   "source": [
    "categorical_features = df.select_dtypes([object]).columns\n",
    "numerical_features = [col for col, dtype in df.dtypes.iteritems() if is_numeric_dtype(dtype)]"
   ]
  },
  {
   "cell_type": "markdown",
   "metadata": {},
   "source": [
    "## An sklearn pipeline\n",
    "We first build the preprocessing pipeline with scikit-learn"
   ]
  },
  {
   "cell_type": "code",
   "execution_count": null,
   "metadata": {
    "ExecuteTime": {
     "end_time": "2019-07-30T18:53:39.055313Z",
     "start_time": "2019-07-30T18:53:39.047314Z"
    }
   },
   "outputs": [],
   "source": [
    "ohe = Pipeline(steps=[\n",
    "    ('imputer', SimpleImputer(strategy='constant', fill_value='nan')),\n",
    "    ('ohe', OneHotEncoder(sparse=False))\n",
    "])"
   ]
  },
  {
   "cell_type": "code",
   "execution_count": null,
   "metadata": {
    "ExecuteTime": {
     "end_time": "2019-07-30T18:53:39.068310Z",
     "start_time": "2019-07-30T18:53:39.058314Z"
    }
   },
   "outputs": [],
   "source": [
    "imputer = SimpleImputer(strategy=\"median\")"
   ]
  },
  {
   "cell_type": "code",
   "execution_count": null,
   "metadata": {
    "ExecuteTime": {
     "end_time": "2019-07-30T18:53:39.080353Z",
     "start_time": "2019-07-30T18:53:39.070312Z"
    }
   },
   "outputs": [],
   "source": [
    "preprocessing = ColumnTransformer(transformers=\n",
    "  [('categorical', ohe, categorical_features), ('numerical', imputer, numerical_features)])"
   ]
  },
  {
   "cell_type": "code",
   "execution_count": null,
   "metadata": {
    "ExecuteTime": {
     "end_time": "2019-07-30T18:53:39.134309Z",
     "start_time": "2019-07-30T18:53:39.082355Z"
    }
   },
   "outputs": [],
   "source": [
    "transformed_array = preprocessing.fit_transform(df)"
   ]
  },
  {
   "cell_type": "code",
   "execution_count": null,
   "metadata": {
    "ExecuteTime": {
     "end_time": "2019-07-30T18:53:39.142308Z",
     "start_time": "2019-07-30T18:53:39.136308Z"
    }
   },
   "outputs": [],
   "source": [
    "transformed_array"
   ]
  },
  {
   "cell_type": "raw",
   "metadata": {
    "raw_mimetype": "text/restructuredtext"
   },
   "source": [
    "With a few lines of scikit-learn one builds clean preprocessing pipelines.\n",
    "However keeping track of the column names is not straightforward. \n",
    "The strength of :mod:`gamma.sklearndf` is to keep scikit-learn syntax and expressivity and to also return dataframes, hence keeping track of the column names."
   ]
  },
  {
   "cell_type": "markdown",
   "metadata": {},
   "source": [
    "## An sklearndf pipeline"
   ]
  },
  {
   "cell_type": "raw",
   "metadata": {
    "raw_mimetype": "text/restructuredtext"
   },
   "source": [
    "The convention in :mod:`gamma.sklearndf` is to append **DF** at the end of scikit-learn classes. \n",
    "For instance to reproduce the above example, simply append **DF** to scikit-learn classes:"
   ]
  },
  {
   "cell_type": "code",
   "execution_count": null,
   "metadata": {
    "ExecuteTime": {
     "end_time": "2019-07-30T18:53:39.153308Z",
     "start_time": "2019-07-30T18:53:39.145308Z"
    }
   },
   "outputs": [],
   "source": [
    "ohe_df = PipelineDF(steps=[\n",
    "    ('imputer', SimpleImputerDF(strategy='constant', fill_value='nan')),\n",
    "    ('ohe', OneHotEncoderDF(sparse=False, handle_unknown='ignore'))])"
   ]
  },
  {
   "cell_type": "code",
   "execution_count": null,
   "metadata": {
    "ExecuteTime": {
     "end_time": "2019-07-30T18:53:39.166306Z",
     "start_time": "2019-07-30T18:53:39.155308Z"
    }
   },
   "outputs": [],
   "source": [
    "imputer_df = SimpleImputerDF(strategy=\"median\")"
   ]
  },
  {
   "cell_type": "code",
   "execution_count": null,
   "metadata": {
    "ExecuteTime": {
     "end_time": "2019-07-30T18:53:39.177312Z",
     "start_time": "2019-07-30T18:53:39.168309Z"
    }
   },
   "outputs": [],
   "source": [
    "preprocessing_df = ColumnTransformerDF(transformers=\n",
    "  [('categorical', ohe_df, categorical_features), ('numerical', imputer_df, numerical_features)])"
   ]
  },
  {
   "cell_type": "code",
   "execution_count": null,
   "metadata": {
    "ExecuteTime": {
     "end_time": "2019-07-30T18:53:39.249358Z",
     "start_time": "2019-07-30T18:53:39.180306Z"
    }
   },
   "outputs": [],
   "source": [
    "transformed_df = preprocessing_df.fit_transform(df)"
   ]
  },
  {
   "cell_type": "code",
   "execution_count": null,
   "metadata": {
    "ExecuteTime": {
     "end_time": "2019-07-30T18:53:39.284304Z",
     "start_time": "2019-07-30T18:53:39.252304Z"
    },
    "scrolled": true
   },
   "outputs": [],
   "source": [
    "transformed_df.head()"
   ]
  },
  {
   "cell_type": "raw",
   "metadata": {
    "raw_mimetype": "text/restructuredtext"
   },
   "source": [
    "The :attr:`~gamma.sklearndf.transformation.ColumnTransformerDF.columns_original` attribute returns a series with index  the output columns and with values the input columns:"
   ]
  },
  {
   "cell_type": "code",
   "execution_count": null,
   "metadata": {
    "ExecuteTime": {
     "end_time": "2019-07-30T18:54:35.436833Z",
     "start_time": "2019-07-30T18:54:35.431830Z"
    }
   },
   "outputs": [],
   "source": [
    "preprocessing_df.columns_original.head()"
   ]
  },
  {
   "cell_type": "markdown",
   "metadata": {},
   "source": [
    "Hence it is easy to select columns coming from a given feature:"
   ]
  },
  {
   "cell_type": "code",
   "execution_count": null,
   "metadata": {
    "ExecuteTime": {
     "end_time": "2019-07-30T18:54:47.270660Z",
     "start_time": "2019-07-30T18:54:47.254638Z"
    }
   },
   "outputs": [],
   "source": [
    "mask = preprocessing_df.columns_original == 'GarageType'\n",
    "transformed_df.loc[:, mask].head()"
   ]
  },
  {
   "cell_type": "markdown",
   "metadata": {
    "ExecuteTime": {
     "end_time": "2019-07-26T08:36:43.003042Z",
     "start_time": "2019-07-26T08:36:42.733047Z"
    }
   },
   "source": [
    "## Regressor"
   ]
  },
  {
   "cell_type": "markdown",
   "metadata": {},
   "source": [
    "Like for transformers, scikit-learn regressors have a sklearndf sibling abotained by appending **DF** to the class name, and the API remains the same:"
   ]
  },
  {
   "cell_type": "code",
   "execution_count": null,
   "metadata": {
    "ExecuteTime": {
     "end_time": "2019-07-30T18:54:49.180964Z",
     "start_time": "2019-07-30T18:54:48.757981Z"
    }
   },
   "outputs": [],
   "source": [
    "# define train and test sets. Since sklearn.RandomForest only accepts numercial values,\n",
    "# we restrict to numercial values for now\n",
    "df_numerical = df.select_dtypes(include='number').fillna(0)\n",
    "df_numerical_train, df_numerical_test, y_train, y_test = train_test_split(df_numerical, y, random_state=0)\n",
    "\n",
    "random_forest_regressor_df = RandomForestRegressorDF(n_estimators=50, random_state=0)\n",
    "random_forest_regressor_df.fit(df_numerical_train, y_train)\n",
    "random_forest_regressor_df.score(df_numerical_test, y_test)"
   ]
  },
  {
   "cell_type": "code",
   "execution_count": null,
   "metadata": {
    "ExecuteTime": {
     "end_time": "2019-07-30T18:54:49.188965Z",
     "start_time": "2019-07-30T18:54:49.182965Z"
    }
   },
   "outputs": [],
   "source": [
    "random_forest_regressor_df.get_params()"
   ]
  },
  {
   "cell_type": "code",
   "execution_count": null,
   "metadata": {
    "ExecuteTime": {
     "end_time": "2019-07-30T18:54:49.443565Z",
     "start_time": "2019-07-30T18:54:49.431562Z"
    }
   },
   "outputs": [],
   "source": [
    "random_forest_regressor_df.set_params(max_depth=10)"
   ]
  },
  {
   "cell_type": "raw",
   "metadata": {
    "raw_mimetype": "text/restructuredtext"
   },
   "source": [
    "The underlying scikit-learn regressor is stored in the :attr:`delegate_estimator` attribute:"
   ]
  },
  {
   "cell_type": "code",
   "execution_count": null,
   "metadata": {
    "ExecuteTime": {
     "end_time": "2019-07-30T18:54:49.895830Z",
     "start_time": "2019-07-30T18:54:49.889831Z"
    }
   },
   "outputs": [],
   "source": [
    "random_forest_regressor_df.delegate_estimator"
   ]
  },
  {
   "cell_type": "raw",
   "metadata": {
    "raw_mimetype": "text/restructuredtext"
   },
   "source": [
    "The attribute :attr:`columns_in` holds the name of the input columns and :attr:`is_fitted` tells if the regressor is fitted:"
   ]
  },
  {
   "cell_type": "code",
   "execution_count": null,
   "metadata": {
    "ExecuteTime": {
     "end_time": "2019-07-30T18:54:50.349489Z",
     "start_time": "2019-07-30T18:54:50.345466Z"
    }
   },
   "outputs": [],
   "source": [
    "random_forest_regressor_df.columns_in"
   ]
  },
  {
   "cell_type": "code",
   "execution_count": null,
   "metadata": {
    "ExecuteTime": {
     "end_time": "2019-07-30T18:54:50.523346Z",
     "start_time": "2019-07-30T18:54:50.518398Z"
    }
   },
   "outputs": [],
   "source": [
    "random_forest_regressor_df.is_fitted"
   ]
  },
  {
   "cell_type": "markdown",
   "metadata": {},
   "source": [
    "## Classifier\n",
    "\n",
    "Classifiers follow the same logic:"
   ]
  },
  {
   "cell_type": "code",
   "execution_count": null,
   "metadata": {
    "ExecuteTime": {
     "end_time": "2019-07-30T18:54:50.833368Z",
     "start_time": "2019-07-30T18:54:50.826362Z"
    }
   },
   "outputs": [],
   "source": [
    "# we create a classification target for the house whose price is greater than 200 000\n",
    "y.mean\n",
    "y_classification = y.apply(lambda x: 1 if x > 200000 else 0)\n",
    "df_numerical_train, df_numerical_test, y_classification_train, y_classification_test =\\\n",
    "train_test_split(df_numerical, y_classification, random_state=0)"
   ]
  },
  {
   "cell_type": "code",
   "execution_count": null,
   "metadata": {
    "ExecuteTime": {
     "end_time": "2019-07-30T18:54:51.432224Z",
     "start_time": "2019-07-30T18:54:51.341154Z"
    }
   },
   "outputs": [],
   "source": [
    "random_forest_classifier_df = RandomForestClassifierDF(n_estimators=50)\n",
    "random_forest_classifier_df.fit(df_numerical_train, y_classification_train)\n",
    "random_forest_classifier_df.score(df_numerical_test, y_classification_test)"
   ]
  },
  {
   "cell_type": "markdown",
   "metadata": {},
   "source": [
    "## Pipeline"
   ]
  },
  {
   "cell_type": "raw",
   "metadata": {
    "ExecuteTime": {
     "end_time": "2019-07-26T08:37:37.633663Z",
     "start_time": "2019-07-26T08:37:37.618669Z"
    },
    "raw_mimetype": "text/restructuredtext"
   },
   "source": [
    "We can combine the above steps to build a full pipeline, using a :class:`.PipelineDF`:"
   ]
  },
  {
   "cell_type": "code",
   "execution_count": null,
   "metadata": {
    "ExecuteTime": {
     "end_time": "2019-07-30T18:54:51.520150Z",
     "start_time": "2019-07-30T18:54:51.513148Z"
    }
   },
   "outputs": [],
   "source": [
    "ohe_df = PipelineDF(steps=\n",
    " [('imputer', SimpleImputerDF(strategy='constant', fill_value='nan')), \n",
    "  ('ohe', OneHotEncoderDF(sparse=False, handle_unknown='ignore'))])\n",
    "\n",
    "imputer_df = SimpleImputerDF(strategy=\"median\")\n",
    "\n",
    "preprocessing_df = ColumnTransformerDF(transformers=\n",
    "  [('categorical', ohe_df, categorical_features),('numerical', imputer_df, numerical_features)])\n",
    "\n",
    "pipeline_df = PipelineDF(steps=\n",
    "  [('preprocessing', preprocessing_df), ('rf_model', RandomForestRegressorDF(n_estimators=10))])"
   ]
  },
  {
   "cell_type": "code",
   "execution_count": null,
   "metadata": {
    "ExecuteTime": {
     "end_time": "2019-07-30T18:54:51.874135Z",
     "start_time": "2019-07-30T18:54:51.522150Z"
    }
   },
   "outputs": [],
   "source": [
    "df_train, df_test, y_train, y_test = train_test_split(df, y, random_state=0)\n",
    "pipeline_df.fit(df_train, y_train)\n",
    "pipeline_df.score(df_test, y_test)"
   ]
  },
  {
   "cell_type": "markdown",
   "metadata": {},
   "source": [
    "## Extra"
   ]
  },
  {
   "cell_type": "raw",
   "metadata": {
    "raw_mimetype": "text/restructuredtext"
   },
   "source": [
    ":mod:`gamma.sklearndf` also provides classes which are not from scikit-learn but follow scikit-learn API, like :class:`.LGBMRegressorDF` and :class:`.BorutaPyDF`.\n",
    "Here is an example:"
   ]
  },
  {
   "cell_type": "code",
   "execution_count": null,
   "metadata": {
    "ExecuteTime": {
     "end_time": "2019-07-30T18:54:52.046129Z",
     "start_time": "2019-07-30T18:54:51.876135Z"
    }
   },
   "outputs": [],
   "source": [
    "lgbm_df = LGBMRegressorDF(n_estimators=50, max_depth=10)\n",
    "lgbm_df.fit(df_numerical_train, y_train)\n",
    "lgbm_df.score(df_numerical_test, y_test)"
   ]
  }
 ],
 "metadata": {
  "celltoolbar": "Raw Cell Format",
  "kernelspec": {
   "display_name": "Python 3",
   "language": "python",
   "name": "python3"
  },
  "language_info": {
   "codemirror_mode": {
    "name": "ipython",
    "version": 3
   },
   "file_extension": ".py",
   "mimetype": "text/x-python",
   "name": "python",
   "nbconvert_exporter": "python",
   "pygments_lexer": "ipython3",
   "version": "3.6.7"
  },
  "pycharm": {
   "stem_cell": {
    "cell_type": "raw",
    "metadata": {
     "collapsed": false
    },
    "source": []
   }
  },
  "toc": {
   "base_numbering": 1,
   "nav_menu": {},
   "number_sections": true,
   "sideBar": true,
   "skip_h1_title": false,
   "title_cell": "Table of Contents",
   "title_sidebar": "Contents",
   "toc_cell": false,
   "toc_position": {},
   "toc_section_display": true,
   "toc_window_display": true
  }
 },
 "nbformat": 4,
 "nbformat_minor": 2
}
