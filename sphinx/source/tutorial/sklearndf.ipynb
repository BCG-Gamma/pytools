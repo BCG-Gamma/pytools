{
 "cells": [
  {
   "cell_type": "markdown",
   "metadata": {
    "ExecuteTime": {
     "end_time": "2019-07-26T08:31:08.171058Z",
     "start_time": "2019-07-26T08:31:08.167059Z"
    }
   },
   "source": [
    "# Dataframes and scikit-learn"
   ]
  },
  {
   "cell_type": "raw",
   "metadata": {
    "raw_mimetype": "text/restructuredtext"
   },
   "source": [
    "The :mod:`gamma.sklearndf` package is for people who use scikit-learn together with pandas dataframes.\n",
    "\n",
    "Normally one would always have to converting  numpy arrays outputs of scikit-learn transoformers into dataframes."
   ]
  },
  {
   "cell_type": "code",
   "execution_count": null,
   "metadata": {
    "ExecuteTime": {
     "end_time": "2019-07-29T20:24:12.624226Z",
     "start_time": "2019-07-29T20:24:12.607232Z"
    },
    "nbsphinx": "hidden",
    "scrolled": true
   },
   "outputs": [],
   "source": [
    "# this cell's metadata contains\n",
    "# \"nbsphinx\": \"hidden\" so it is hidden by nbsphinx\n",
    "PATH_YIELD_ENGINE = 'src'\n",
    "def set_paths() -> None:\n",
    "    import sys\n",
    "    import os\n",
    "    \n",
    "    if 'cwd' not in globals():\n",
    "        global cwd\n",
    "        cwd = os.path.join(os.getcwd(), os.pardir, os.pardir, os.pardir)\n",
    "        os.chdir(cwd)   \n",
    "    print(f\"working dir is '{os.getcwd()}'\")                            \n",
    "    if PATH_YIELD_ENGINE not in sys.path:\n",
    "        sys.path.insert(0, PATH_YIELD_ENGINE)\n",
    "    print(f\"added `{sys.path[0]}` to python paths\")\n",
    "set_paths()"
   ]
  },
  {
   "cell_type": "code",
   "execution_count": null,
   "metadata": {
    "ExecuteTime": {
     "end_time": "2019-07-29T20:24:17.716156Z",
     "start_time": "2019-07-29T20:24:12.627230Z"
    }
   },
   "outputs": [],
   "source": [
    "import pandas as pd\n",
    "# todo remove RandomForestRegressor when possible\n",
    "from sklearn.ensemble import RandomForestRegressor\n",
    "from sklearn.impute import SimpleImputer\n",
    "import matplotlib.pyplot as plt\n",
    "from sklearn.preprocessing import OneHotEncoder\n",
    "from sklearn.compose import ColumnTransformer\n",
    "from sklearn.pipeline import Pipeline\n",
    "from sklearn.model_selection import train_test_split\n",
    "from pandas.api.types import is_numeric_dtype\n",
    "\n",
    "from gamma import Sample\n",
    "from gamma.viz.dendrogram import DendrogramDrawer, FeatMapStyle, LineStyle\n",
    "from gamma.sklearndf.pipeline import PipelineDF\n",
    "from gamma.sklearndf.transformation import SimpleImputerDF, MissingIndicatorDF, OneHotEncoderDF, ColumnTransformerDF\n",
    "from gamma.sklearndf.transformation.extra import BorutaDF\n",
    "from gamma.sklearndf.regression import RandomForestRegressorDF, LGBMRegressorDF\n",
    "from gamma.sklearndf.classification import RandomForestClassifierDF\n",
    "from gamma.model.inspection import ModelInspector\n",
    "from gamma.model.prediction import PredictorFitCV\n",
    "from gamma.model.selection import ModelPipelineDF, ModelGrid, ModelRanker, summary_report\n",
    "from gamma.model.validation import CircularCrossValidator\n",
    "from gamma.yieldengine.simulation import UnivariateSimulator\n",
    "from gamma.yieldengine.partition import ContinuousRangePartitioning\n",
    "from gamma.yieldengine.viz import SimulationDrawer, SimulationPlotStyle"
   ]
  },
  {
   "cell_type": "code",
   "execution_count": null,
   "metadata": {
    "ExecuteTime": {
     "end_time": "2019-07-29T20:24:17.762582Z",
     "start_time": "2019-07-29T20:24:17.719583Z"
    }
   },
   "outputs": [],
   "source": [
    "df = pd.read_csv('data/ames-housing-dataset/train.csv')\n",
    "df = df.drop(['Id', 'YrSold', 'MoSold'], axis=1)\n",
    "TARGET = \"SalePrice\""
   ]
  },
  {
   "cell_type": "code",
   "execution_count": null,
   "metadata": {
    "ExecuteTime": {
     "end_time": "2019-07-29T20:24:17.769593Z",
     "start_time": "2019-07-29T20:24:17.764584Z"
    }
   },
   "outputs": [],
   "source": [
    "y = df[TARGET]"
   ]
  },
  {
   "cell_type": "code",
   "execution_count": null,
   "metadata": {
    "ExecuteTime": {
     "end_time": "2019-07-29T20:24:17.786586Z",
     "start_time": "2019-07-29T20:24:17.772588Z"
    }
   },
   "outputs": [],
   "source": [
    "df = df.drop(columns=TARGET)"
   ]
  },
  {
   "cell_type": "markdown",
   "metadata": {
    "ExecuteTime": {
     "end_time": "2019-07-26T08:35:23.334217Z",
     "start_time": "2019-07-26T08:35:23.331217Z"
    }
   },
   "source": [
    "## Transformers and Pipeline"
   ]
  },
  {
   "cell_type": "markdown",
   "metadata": {},
   "source": [
    "Some features are categorical, like **GarageType** and there are some missing values:"
   ]
  },
  {
   "cell_type": "code",
   "execution_count": null,
   "metadata": {
    "ExecuteTime": {
     "end_time": "2019-07-29T20:24:17.805636Z",
     "start_time": "2019-07-29T20:24:17.788586Z"
    },
    "scrolled": true
   },
   "outputs": [],
   "source": [
    "df.GarageType.unique()"
   ]
  },
  {
   "cell_type": "code",
   "execution_count": null,
   "metadata": {
    "ExecuteTime": {
     "end_time": "2019-07-29T20:24:17.823609Z",
     "start_time": "2019-07-29T20:24:17.809099Z"
    }
   },
   "outputs": [],
   "source": [
    "df.GarageType.isna().sum()"
   ]
  },
  {
   "cell_type": "markdown",
   "metadata": {
    "ExecuteTime": {
     "end_time": "2019-07-26T13:42:19.065036Z",
     "start_time": "2019-07-26T13:42:19.058033Z"
    }
   },
   "source": [
    "With scikit-learn to one-hot encode one should first impute missing values, and then one hot encode categorical variables:"
   ]
  },
  {
   "cell_type": "code",
   "execution_count": null,
   "metadata": {
    "ExecuteTime": {
     "end_time": "2019-07-29T20:24:17.866652Z",
     "start_time": "2019-07-29T20:24:17.827610Z"
    }
   },
   "outputs": [],
   "source": [
    "categorical_features = df.select_dtypes([object]).columns\n",
    "numerical_features = [col for col, dtype in df.dtypes.iteritems() if is_numeric_dtype(dtype)]"
   ]
  },
  {
   "cell_type": "markdown",
   "metadata": {},
   "source": [
    "### With sklearn"
   ]
  },
  {
   "cell_type": "code",
   "execution_count": null,
   "metadata": {
    "ExecuteTime": {
     "end_time": "2019-07-29T20:24:17.877610Z",
     "start_time": "2019-07-29T20:24:17.870655Z"
    }
   },
   "outputs": [],
   "source": [
    "ohe_pipeline = Pipeline(steps=[\n",
    "    ('imputer', SimpleImputer(strategy='constant', fill_value='nan')),\n",
    "    ('ohe', OneHotEncoder(sparse=False))\n",
    "])"
   ]
  },
  {
   "cell_type": "code",
   "execution_count": null,
   "metadata": {
    "ExecuteTime": {
     "end_time": "2019-07-29T20:24:17.891611Z",
     "start_time": "2019-07-29T20:24:17.881611Z"
    }
   },
   "outputs": [],
   "source": [
    "imputer = SimpleImputer(strategy=\"median\")"
   ]
  },
  {
   "cell_type": "code",
   "execution_count": null,
   "metadata": {
    "ExecuteTime": {
     "end_time": "2019-07-29T20:24:17.907623Z",
     "start_time": "2019-07-29T20:24:17.894609Z"
    }
   },
   "outputs": [],
   "source": [
    "ohe_transformer = ColumnTransformer(\n",
    "    transformers=[('categorical', ohe_pipeline, categorical_features), \n",
    "                  ('numerical', imputer, numerical_features)])"
   ]
  },
  {
   "cell_type": "code",
   "execution_count": null,
   "metadata": {
    "ExecuteTime": {
     "end_time": "2019-07-29T20:24:17.978636Z",
     "start_time": "2019-07-29T20:24:17.910626Z"
    }
   },
   "outputs": [],
   "source": [
    "array_transformed = ohe_transformer.fit_transform(df)"
   ]
  },
  {
   "cell_type": "code",
   "execution_count": null,
   "metadata": {
    "ExecuteTime": {
     "end_time": "2019-07-29T20:24:17.990638Z",
     "start_time": "2019-07-29T20:24:17.981636Z"
    }
   },
   "outputs": [],
   "source": [
    "array_transformed"
   ]
  },
  {
   "cell_type": "code",
   "execution_count": null,
   "metadata": {
    "ExecuteTime": {
     "end_time": "2019-07-29T20:24:18.010151Z",
     "start_time": "2019-07-29T20:24:17.994641Z"
    }
   },
   "outputs": [],
   "source": [
    "array_transformed.shape"
   ]
  },
  {
   "cell_type": "raw",
   "metadata": {
    "raw_mimetype": "text/restructuredtext"
   },
   "source": [
    "At this point keeping track of the columns is not straightforward. \n",
    "The strength of :mod:`gamma.sklearndf` is to do that for you:"
   ]
  },
  {
   "cell_type": "markdown",
   "metadata": {},
   "source": [
    "### With sklearndf"
   ]
  },
  {
   "cell_type": "code",
   "execution_count": null,
   "metadata": {
    "ExecuteTime": {
     "end_time": "2019-07-29T20:24:18.023672Z",
     "start_time": "2019-07-29T20:24:18.015151Z"
    }
   },
   "outputs": [],
   "source": [
    "ohe_pipeline_df = PipelineDF(steps=[\n",
    "    ('imputer', SimpleImputerDF(strategy='constant', fill_value='nan')),\n",
    "    ('ohe', OneHotEncoderDF(sparse=False, handle_unknown='ignore'))\n",
    "])"
   ]
  },
  {
   "cell_type": "code",
   "execution_count": null,
   "metadata": {
    "ExecuteTime": {
     "end_time": "2019-07-29T20:24:18.039672Z",
     "start_time": "2019-07-29T20:24:18.027674Z"
    }
   },
   "outputs": [],
   "source": [
    "imputer_df = SimpleImputerDF(strategy=\"median\")"
   ]
  },
  {
   "cell_type": "code",
   "execution_count": null,
   "metadata": {
    "ExecuteTime": {
     "end_time": "2019-07-29T20:24:18.055675Z",
     "start_time": "2019-07-29T20:24:18.042675Z"
    }
   },
   "outputs": [],
   "source": [
    "ohe_transformer_df = ColumnTransformerDF(\n",
    "    transformers=[('categorical', ohe_pipeline_df, categorical_features),\n",
    "                  ('numerical', imputer_df, numerical_features)])"
   ]
  },
  {
   "cell_type": "code",
   "execution_count": null,
   "metadata": {
    "ExecuteTime": {
     "end_time": "2019-07-29T20:24:18.169680Z",
     "start_time": "2019-07-29T20:24:18.059671Z"
    }
   },
   "outputs": [],
   "source": [
    "transformed_df = ohe_transformer_df.fit_transform(df)"
   ]
  },
  {
   "cell_type": "code",
   "execution_count": null,
   "metadata": {
    "ExecuteTime": {
     "end_time": "2019-07-29T20:24:18.216211Z",
     "start_time": "2019-07-29T20:24:18.173673Z"
    },
    "scrolled": true
   },
   "outputs": [],
   "source": [
    "transformed_df.head()"
   ]
  },
  {
   "cell_type": "code",
   "execution_count": null,
   "metadata": {
    "ExecuteTime": {
     "end_time": "2019-07-29T20:24:18.227206Z",
     "start_time": "2019-07-29T20:24:18.219210Z"
    }
   },
   "outputs": [],
   "source": [
    "ohe_transformer_df.columns_original.head()"
   ]
  },
  {
   "cell_type": "markdown",
   "metadata": {
    "ExecuteTime": {
     "end_time": "2019-07-26T08:36:43.003042Z",
     "start_time": "2019-07-26T08:36:42.733047Z"
    }
   },
   "source": [
    "## Regressor\n",
    "\n",
    "TODO"
   ]
  },
  {
   "cell_type": "code",
   "execution_count": null,
   "metadata": {
    "ExecuteTime": {
     "end_time": "2019-07-29T20:24:18.242211Z",
     "start_time": "2019-07-29T20:24:18.230207Z"
    }
   },
   "outputs": [],
   "source": [
    "random_forest_regressor_df = RandomForestRegressorDF(n_estimators=50)"
   ]
  },
  {
   "cell_type": "code",
   "execution_count": null,
   "metadata": {
    "ExecuteTime": {
     "end_time": "2019-07-29T20:24:18.287207Z",
     "start_time": "2019-07-29T20:24:18.245207Z"
    }
   },
   "outputs": [],
   "source": [
    "df_numerical = df.select_dtypes(include='number').fillna(0)\n",
    "df_numerical_train, df_numerical_test, y_train, y_test = train_test_split(df_numerical, y)"
   ]
  },
  {
   "cell_type": "code",
   "execution_count": null,
   "metadata": {
    "ExecuteTime": {
     "end_time": "2019-07-29T20:24:18.786503Z",
     "start_time": "2019-07-29T20:24:18.295224Z"
    },
    "scrolled": false
   },
   "outputs": [],
   "source": [
    "random_forest_regressor_df.fit(df_numerical_train, y_train)"
   ]
  },
  {
   "cell_type": "code",
   "execution_count": null,
   "metadata": {
    "ExecuteTime": {
     "end_time": "2019-07-29T20:24:18.802088Z",
     "start_time": "2019-07-29T20:24:18.788545Z"
    }
   },
   "outputs": [],
   "source": [
    "random_forest_regressor_df.score(df_numerical_test, y_test)"
   ]
  },
  {
   "cell_type": "code",
   "execution_count": null,
   "metadata": {
    "ExecuteTime": {
     "end_time": "2019-07-29T20:24:18.811053Z",
     "start_time": "2019-07-29T20:24:18.804051Z"
    }
   },
   "outputs": [],
   "source": [
    "random_forest_regressor_df.get_params()"
   ]
  },
  {
   "cell_type": "code",
   "execution_count": null,
   "metadata": {
    "ExecuteTime": {
     "end_time": "2019-07-29T20:24:18.827050Z",
     "start_time": "2019-07-29T20:24:18.813054Z"
    }
   },
   "outputs": [],
   "source": [
    "random_forest_regressor_df.set_params(max_depth=10)"
   ]
  },
  {
   "cell_type": "code",
   "execution_count": null,
   "metadata": {
    "ExecuteTime": {
     "end_time": "2019-07-29T20:24:18.840053Z",
     "start_time": "2019-07-29T20:24:18.829051Z"
    }
   },
   "outputs": [],
   "source": [
    "random_forest_regressor_df.delegate_estimator"
   ]
  },
  {
   "cell_type": "code",
   "execution_count": null,
   "metadata": {
    "ExecuteTime": {
     "end_time": "2019-07-29T20:24:18.860055Z",
     "start_time": "2019-07-29T20:24:18.844058Z"
    }
   },
   "outputs": [],
   "source": [
    "random_forest_regressor_df.columns_in"
   ]
  },
  {
   "cell_type": "code",
   "execution_count": null,
   "metadata": {
    "ExecuteTime": {
     "end_time": "2019-07-29T20:24:18.875053Z",
     "start_time": "2019-07-29T20:24:18.863055Z"
    }
   },
   "outputs": [],
   "source": [
    "random_forest_regressor_df.is_fitted"
   ]
  },
  {
   "cell_type": "markdown",
   "metadata": {},
   "source": [
    "## Classifier\n",
    "\n",
    "TODO"
   ]
  },
  {
   "cell_type": "code",
   "execution_count": null,
   "metadata": {
    "ExecuteTime": {
     "end_time": "2019-07-29T20:24:19.255168Z",
     "start_time": "2019-07-29T20:24:18.878055Z"
    }
   },
   "outputs": [],
   "source": [
    "y_bin = y.apply(lambda x: 0 if x < y.median() else 1)"
   ]
  },
  {
   "cell_type": "code",
   "execution_count": null,
   "metadata": {
    "ExecuteTime": {
     "end_time": "2019-07-29T20:24:19.260291Z",
     "start_time": "2019-07-29T20:24:19.256793Z"
    }
   },
   "outputs": [],
   "source": [
    "random_forest_classifier_df = RandomForestClassifierDF(n_estimators=50)"
   ]
  },
  {
   "cell_type": "code",
   "execution_count": null,
   "metadata": {
    "ExecuteTime": {
     "end_time": "2019-07-29T20:24:19.467955Z",
     "start_time": "2019-07-29T20:24:19.263295Z"
    },
    "scrolled": true
   },
   "outputs": [],
   "source": [
    "random_forest_classifier_df.fit(df_numerical, y_bin)"
   ]
  },
  {
   "cell_type": "code",
   "execution_count": null,
   "metadata": {
    "ExecuteTime": {
     "end_time": "2019-07-29T20:24:19.493964Z",
     "start_time": "2019-07-29T20:24:19.470953Z"
    }
   },
   "outputs": [],
   "source": [
    "random_forest_classifier_df.score(df_numerical, y_bin)"
   ]
  },
  {
   "cell_type": "code",
   "execution_count": null,
   "metadata": {
    "ExecuteTime": {
     "end_time": "2019-07-29T20:24:19.501967Z",
     "start_time": "2019-07-29T20:24:19.495965Z"
    }
   },
   "outputs": [],
   "source": [
    "random_forest_classifier_df.get_params()"
   ]
  },
  {
   "cell_type": "code",
   "execution_count": null,
   "metadata": {
    "ExecuteTime": {
     "end_time": "2019-07-29T20:24:19.517967Z",
     "start_time": "2019-07-29T20:24:19.503967Z"
    }
   },
   "outputs": [],
   "source": [
    "random_forest_classifier_df.set_params(max_depth=10)"
   ]
  },
  {
   "cell_type": "code",
   "execution_count": null,
   "metadata": {
    "ExecuteTime": {
     "end_time": "2019-07-29T20:24:19.533972Z",
     "start_time": "2019-07-29T20:24:19.520967Z"
    }
   },
   "outputs": [],
   "source": [
    "random_forest_classifier_df.delegate_estimator"
   ]
  },
  {
   "cell_type": "code",
   "execution_count": null,
   "metadata": {
    "ExecuteTime": {
     "end_time": "2019-07-29T20:24:19.547966Z",
     "start_time": "2019-07-29T20:24:19.536969Z"
    }
   },
   "outputs": [],
   "source": [
    "random_forest_classifier_df.columns_in"
   ]
  },
  {
   "cell_type": "code",
   "execution_count": null,
   "metadata": {
    "ExecuteTime": {
     "end_time": "2019-07-29T20:24:19.562476Z",
     "start_time": "2019-07-29T20:24:19.550966Z"
    }
   },
   "outputs": [],
   "source": [
    "random_forest_classifier_df.is_fitted"
   ]
  },
  {
   "cell_type": "markdown",
   "metadata": {
    "ExecuteTime": {
     "end_time": "2019-07-26T08:37:37.633663Z",
     "start_time": "2019-07-26T08:37:37.618669Z"
    }
   },
   "source": [
    "## Pipeline\n",
    "\n",
    "TODO"
   ]
  },
  {
   "cell_type": "code",
   "execution_count": null,
   "metadata": {
    "ExecuteTime": {
     "end_time": "2019-07-29T20:24:19.575005Z",
     "start_time": "2019-07-29T20:24:19.566980Z"
    }
   },
   "outputs": [],
   "source": [
    "ohe_pipeline_df = PipelineDF(steps=[\n",
    "    ('imputer', SimpleImputerDF(strategy='constant', fill_value='nan')),\n",
    "    ('ohe', OneHotEncoderDF(sparse=False, handle_unknown='ignore'))\n",
    "])"
   ]
  },
  {
   "cell_type": "code",
   "execution_count": null,
   "metadata": {
    "ExecuteTime": {
     "end_time": "2019-07-29T20:24:19.590992Z",
     "start_time": "2019-07-29T20:24:19.578991Z"
    }
   },
   "outputs": [],
   "source": [
    "imputer_df = SimpleImputerDF(strategy=\"median\")"
   ]
  },
  {
   "cell_type": "code",
   "execution_count": null,
   "metadata": {
    "ExecuteTime": {
     "end_time": "2019-07-29T20:24:19.606991Z",
     "start_time": "2019-07-29T20:24:19.593990Z"
    }
   },
   "outputs": [],
   "source": [
    "ohe_transformer_df = ColumnTransformerDF(\n",
    "    transformers=[('categorical', ohe_pipeline_df, categorical_features),\n",
    "                  ('numerical', imputer_df, numerical_features)])"
   ]
  },
  {
   "cell_type": "code",
   "execution_count": null,
   "metadata": {
    "ExecuteTime": {
     "end_time": "2019-07-29T20:24:19.622987Z",
     "start_time": "2019-07-29T20:24:19.609989Z"
    }
   },
   "outputs": [],
   "source": [
    "full_pipeline_df = PipelineDF(steps=[\n",
    "    ('preprocessing', ohe_transformer_df),\n",
    "    ('rf_model', RandomForestRegressorDF(n_estimators=10))\n",
    "])"
   ]
  },
  {
   "cell_type": "code",
   "execution_count": null,
   "metadata": {
    "ExecuteTime": {
     "end_time": "2019-07-29T20:24:19.640989Z",
     "start_time": "2019-07-29T20:24:19.625988Z"
    }
   },
   "outputs": [],
   "source": [
    "df_train, df_test, y_train, y_test = train_test_split(df, y)"
   ]
  },
  {
   "cell_type": "code",
   "execution_count": null,
   "metadata": {
    "ExecuteTime": {
     "end_time": "2019-07-29T20:24:19.715587Z",
     "start_time": "2019-07-29T20:24:19.644987Z"
    }
   },
   "outputs": [],
   "source": [
    "ohe_transformer_df.fit(df_train)"
   ]
  },
  {
   "cell_type": "code",
   "execution_count": null,
   "metadata": {
    "ExecuteTime": {
     "end_time": "2019-07-29T20:24:19.773113Z",
     "start_time": "2019-07-29T20:24:19.717588Z"
    }
   },
   "outputs": [],
   "source": [
    "ohe_transformer_df.transform(df_test).head()"
   ]
  },
  {
   "cell_type": "code",
   "execution_count": null,
   "metadata": {
    "ExecuteTime": {
     "end_time": "2019-07-29T20:24:20.174229Z",
     "start_time": "2019-07-29T20:24:19.776114Z"
    }
   },
   "outputs": [],
   "source": [
    "full_pipeline_df.fit(df_train, y_train)"
   ]
  },
  {
   "cell_type": "code",
   "execution_count": null,
   "metadata": {
    "ExecuteTime": {
     "end_time": "2019-07-29T20:24:20.211194Z",
     "start_time": "2019-07-29T20:24:20.176196Z"
    }
   },
   "outputs": [],
   "source": [
    "full_pipeline_df.predict(df_test).head()"
   ]
  },
  {
   "cell_type": "code",
   "execution_count": null,
   "metadata": {
    "ExecuteTime": {
     "end_time": "2019-07-29T20:24:20.250228Z",
     "start_time": "2019-07-29T20:24:20.213193Z"
    }
   },
   "outputs": [],
   "source": [
    "full_pipeline_df.score(df_test, y_test)"
   ]
  },
  {
   "cell_type": "markdown",
   "metadata": {},
   "source": [
    "## Extra\n",
    "\n",
    "TODO\n",
    "Boruta, LGBM..."
   ]
  },
  {
   "cell_type": "code",
   "execution_count": null,
   "metadata": {},
   "outputs": [],
   "source": []
  }
 ],
 "metadata": {
  "celltoolbar": "Raw Cell Format",
  "kernelspec": {
   "display_name": "Python 3",
   "language": "python",
   "name": "python3"
  },
  "language_info": {
   "codemirror_mode": {
    "name": "ipython",
    "version": 3
   },
   "file_extension": ".py",
   "mimetype": "text/x-python",
   "name": "python",
   "nbconvert_exporter": "python",
   "pygments_lexer": "ipython3",
   "version": "3.6.7"
  },
  "toc": {
   "base_numbering": 1,
   "nav_menu": {},
   "number_sections": true,
   "sideBar": true,
   "skip_h1_title": false,
   "title_cell": "Table of Contents",
   "title_sidebar": "Contents",
   "toc_cell": false,
   "toc_position": {},
   "toc_section_display": true,
   "toc_window_display": false
  }
 },
 "nbformat": 4,
 "nbformat_minor": 2
}
