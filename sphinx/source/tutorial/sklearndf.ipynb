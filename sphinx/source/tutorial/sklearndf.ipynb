{
 "cells": [
  {
   "cell_type": "markdown",
   "metadata": {
    "ExecuteTime": {
     "end_time": "2019-07-26T08:31:08.171058Z",
     "start_time": "2019-07-26T08:31:08.167059Z"
    }
   },
   "source": [
    "# Dataframes and scikit-learn"
   ]
  },
  {
   "cell_type": "raw",
   "metadata": {
    "raw_mimetype": "text/restructuredtext"
   },
   "source": [
    "The :mod:`gamma.sklearndf` package is for those who use scikit-learn together with pandas dataframes.\n",
    "With scikit-learn the output of transformers are numpy arrays, even when the input is a dataframe. \n",
    "On the other hand, to inspect a model it is essential to keep track of the name of the columns.\n",
    "The goal of :class:`gamma.sklearndf` is very simple:\n",
    "\n",
    "**Append DF at the end of scikit-learn classes and you will get dataframes in exchange.**"
   ]
  },
  {
   "cell_type": "code",
   "execution_count": null,
   "metadata": {
    "ExecuteTime": {
     "end_time": "2019-07-30T16:10:43.550305Z",
     "start_time": "2019-07-30T16:10:43.538304Z"
    },
    "nbsphinx": "hidden",
    "scrolled": true
   },
   "outputs": [],
   "source": [
    "# this cell's metadata contains\n",
    "# \"nbsphinx\": \"hidden\" so it is hidden by nbsphinx\n",
    "PATH_YIELD_ENGINE = 'src'\n",
    "def set_paths() -> None:\n",
    "    import sys\n",
    "    import os\n",
    "    \n",
    "    if 'cwd' not in globals():\n",
    "        global cwd\n",
    "        cwd = os.path.join(os.getcwd(), os.pardir, os.pardir, os.pardir)\n",
    "        os.chdir(cwd)   \n",
    "    print(f\"working dir is '{os.getcwd()}'\")                            \n",
    "    if PATH_YIELD_ENGINE not in sys.path:\n",
    "        sys.path.insert(0, PATH_YIELD_ENGINE)\n",
    "    print(f\"added `{sys.path[0]}` to python paths\")\n",
    "set_paths()"
   ]
  },
  {
   "cell_type": "code",
   "execution_count": null,
   "metadata": {
    "ExecuteTime": {
     "end_time": "2019-07-30T16:10:45.607325Z",
     "start_time": "2019-07-30T16:10:43.553303Z"
    }
   },
   "outputs": [],
   "source": [
    "import pandas as pd\n",
    "from sklearn.impute import SimpleImputer\n",
    "from sklearn.preprocessing import OneHotEncoder\n",
    "from sklearn.compose import ColumnTransformer\n",
    "from sklearn.pipeline import Pipeline\n",
    "from sklearn.model_selection import train_test_split\n",
    "from pandas.api.types import is_numeric_dtype\n",
    "\n",
    "from gamma.sklearndf.pipeline import PipelineDF\n",
    "from gamma.sklearndf.transformation import SimpleImputerDF, OneHotEncoderDF, ColumnTransformerDF\n",
    "from gamma.sklearndf.transformation.extra import BorutaDF\n",
    "from gamma.sklearndf.regression import RandomForestRegressorDF, LGBMRegressorDF\n",
    "from gamma.sklearndf.classification import RandomForestClassifierDF"
   ]
  },
  {
   "cell_type": "markdown",
   "metadata": {},
   "source": [
    "We load our data:"
   ]
  },
  {
   "cell_type": "code",
   "execution_count": null,
   "metadata": {
    "ExecuteTime": {
     "end_time": "2019-07-30T16:10:45.642262Z",
     "start_time": "2019-07-30T16:10:45.609290Z"
    }
   },
   "outputs": [],
   "source": [
    "df = pd.read_csv('data/ames-housing-dataset/train.csv')\n",
    "df = df.drop(['Id', 'YrSold', 'MoSold'], axis=1)\n",
    "TARGET = \"SalePrice\"\n",
    "y = df[TARGET]\n",
    "df = df.drop(columns=TARGET)"
   ]
  },
  {
   "cell_type": "markdown",
   "metadata": {
    "ExecuteTime": {
     "end_time": "2019-07-26T08:35:23.334217Z",
     "start_time": "2019-07-26T08:35:23.331217Z"
    }
   },
   "source": [
    "## Preprocessing: transformers and Pipeline"
   ]
  },
  {
   "cell_type": "markdown",
   "metadata": {},
   "source": [
    "The data contains categorical features and missing values:"
   ]
  },
  {
   "cell_type": "code",
   "execution_count": null,
   "metadata": {
    "ExecuteTime": {
     "end_time": "2019-07-30T16:10:45.653266Z",
     "start_time": "2019-07-30T16:10:45.644266Z"
    }
   },
   "outputs": [],
   "source": [
    "df['GarageType'].unique().tolist()"
   ]
  },
  {
   "cell_type": "code",
   "execution_count": null,
   "metadata": {
    "ExecuteTime": {
     "end_time": "2019-07-30T16:10:45.666267Z",
     "start_time": "2019-07-30T16:10:45.655263Z"
    },
    "scrolled": true
   },
   "outputs": [],
   "source": [
    "df['GarageType'].isna().sum()"
   ]
  },
  {
   "cell_type": "markdown",
   "metadata": {
    "ExecuteTime": {
     "end_time": "2019-07-26T13:42:19.065036Z",
     "start_time": "2019-07-26T13:42:19.058033Z"
    }
   },
   "source": [
    "Let us build a preprocessing pipeline which:\n",
    "\n",
    "- for categorical variables fills missing values with the string 'nan' and then one hot encode\n",
    "- for numerical values fills missing values using median values"
   ]
  },
  {
   "cell_type": "code",
   "execution_count": null,
   "metadata": {
    "ExecuteTime": {
     "end_time": "2019-07-30T16:10:45.711261Z",
     "start_time": "2019-07-30T16:10:45.685263Z"
    }
   },
   "outputs": [],
   "source": [
    "categorical_features = df.select_dtypes([object]).columns\n",
    "numerical_features = [col for col, dtype in df.dtypes.iteritems() if is_numeric_dtype(dtype)]"
   ]
  },
  {
   "cell_type": "markdown",
   "metadata": {},
   "source": [
    "### With sklearn\n",
    "We first build the preprocessing pipeline with scikit-learn"
   ]
  },
  {
   "cell_type": "code",
   "execution_count": null,
   "metadata": {
    "ExecuteTime": {
     "end_time": "2019-07-30T16:10:45.722265Z",
     "start_time": "2019-07-30T16:10:45.715263Z"
    }
   },
   "outputs": [],
   "source": [
    "ohe_pipeline = Pipeline(steps=[\n",
    "    ('imputer', SimpleImputer(strategy='constant', fill_value='nan')),\n",
    "    ('ohe', OneHotEncoder(sparse=False))\n",
    "])"
   ]
  },
  {
   "cell_type": "code",
   "execution_count": null,
   "metadata": {
    "ExecuteTime": {
     "end_time": "2019-07-30T16:10:45.737262Z",
     "start_time": "2019-07-30T16:10:45.724262Z"
    }
   },
   "outputs": [],
   "source": [
    "imputer = SimpleImputer(strategy=\"median\")"
   ]
  },
  {
   "cell_type": "code",
   "execution_count": null,
   "metadata": {
    "ExecuteTime": {
     "end_time": "2019-07-30T16:10:45.752303Z",
     "start_time": "2019-07-30T16:10:45.740266Z"
    }
   },
   "outputs": [],
   "source": [
    "ohe_transformer = ColumnTransformer(transformers=\n",
    "  [('categorical', ohe_pipeline, categorical_features), ('numerical', imputer, numerical_features)])"
   ]
  },
  {
   "cell_type": "code",
   "execution_count": null,
   "metadata": {
    "ExecuteTime": {
     "end_time": "2019-07-30T16:10:45.796295Z",
     "start_time": "2019-07-30T16:10:45.755263Z"
    }
   },
   "outputs": [],
   "source": [
    "transformed_array = ohe_transformer.fit_transform(df)"
   ]
  },
  {
   "cell_type": "code",
   "execution_count": null,
   "metadata": {
    "ExecuteTime": {
     "end_time": "2019-07-30T16:10:45.804282Z",
     "start_time": "2019-07-30T16:10:45.798262Z"
    }
   },
   "outputs": [],
   "source": [
    "transformed_array"
   ]
  },
  {
   "cell_type": "raw",
   "metadata": {
    "raw_mimetype": "text/restructuredtext"
   },
   "source": [
    "With a few lines of scikit-learn one builds clean preprocessing pipelines.\n",
    "However keeping track of the column names is not straightforward. \n",
    "The strength of :mod:`gamma.sklearndf` is to keep scikit-learn syntax and expressivity and to also return dataframes, hence keeping track of the column names."
   ]
  },
  {
   "cell_type": "markdown",
   "metadata": {},
   "source": [
    "### With sklearndf"
   ]
  },
  {
   "cell_type": "raw",
   "metadata": {
    "raw_mimetype": "text/restructuredtext"
   },
   "source": [
    "The convention in :mod:`gamma.sklearndf` is to append **DF** at the end of scikit-learn classes. \n",
    "For instance to reproduce the above example, simply append **DF** to scikit-learn classes:"
   ]
  },
  {
   "cell_type": "code",
   "execution_count": null,
   "metadata": {
    "ExecuteTime": {
     "end_time": "2019-07-30T16:10:45.815301Z",
     "start_time": "2019-07-30T16:10:45.807264Z"
    }
   },
   "outputs": [],
   "source": [
    "ohe_pipeline_df = PipelineDF(steps=[\n",
    "    ('imputer', SimpleImputerDF(strategy='constant', fill_value='nan')),\n",
    "    ('ohe', OneHotEncoderDF(sparse=False, handle_unknown='ignore'))])"
   ]
  },
  {
   "cell_type": "code",
   "execution_count": null,
   "metadata": {
    "ExecuteTime": {
     "end_time": "2019-07-30T16:10:45.831303Z",
     "start_time": "2019-07-30T16:10:45.817261Z"
    }
   },
   "outputs": [],
   "source": [
    "imputer_df = SimpleImputerDF(strategy=\"median\")"
   ]
  },
  {
   "cell_type": "code",
   "execution_count": null,
   "metadata": {
    "ExecuteTime": {
     "end_time": "2019-07-30T16:10:45.843298Z",
     "start_time": "2019-07-30T16:10:45.834259Z"
    }
   },
   "outputs": [],
   "source": [
    "ohe_transformer_df = ColumnTransformerDF(transformers=\n",
    "  [('categorical', ohe_pipeline_df, categorical_features), ('numerical', imputer_df, numerical_features)])"
   ]
  },
  {
   "cell_type": "code",
   "execution_count": null,
   "metadata": {
    "ExecuteTime": {
     "end_time": "2019-07-30T16:10:45.923259Z",
     "start_time": "2019-07-30T16:10:45.845259Z"
    }
   },
   "outputs": [],
   "source": [
    "transformed_df = ohe_transformer_df.fit_transform(df)"
   ]
  },
  {
   "cell_type": "code",
   "execution_count": null,
   "metadata": {
    "ExecuteTime": {
     "end_time": "2019-07-30T16:10:45.964261Z",
     "start_time": "2019-07-30T16:10:45.925262Z"
    },
    "scrolled": true
   },
   "outputs": [],
   "source": [
    "transformed_df.head()"
   ]
  },
  {
   "cell_type": "raw",
   "metadata": {
    "raw_mimetype": "text/restructuredtext"
   },
   "source": [
    "The :attr:`~gamma.sklearndf.transformation.ColumnTransformerDF.columns_original` attribute returns a series with index  the output columns and with values the input columns:"
   ]
  },
  {
   "cell_type": "code",
   "execution_count": null,
   "metadata": {
    "ExecuteTime": {
     "end_time": "2019-07-30T16:10:45.972264Z",
     "start_time": "2019-07-30T16:10:45.966259Z"
    }
   },
   "outputs": [],
   "source": [
    "ohe_transformer_df.columns_original.head()"
   ]
  },
  {
   "cell_type": "markdown",
   "metadata": {},
   "source": [
    "Hence it is easy to select columns coming from a given feature:"
   ]
  },
  {
   "cell_type": "code",
   "execution_count": null,
   "metadata": {
    "ExecuteTime": {
     "end_time": "2019-07-30T16:10:45.993258Z",
     "start_time": "2019-07-30T16:10:45.975259Z"
    }
   },
   "outputs": [],
   "source": [
    "mask = ohe_transformer_df.columns_original == 'GarageType'\n",
    "transformed_df.loc[:, mask].head()"
   ]
  },
  {
   "cell_type": "markdown",
   "metadata": {
    "ExecuteTime": {
     "end_time": "2019-07-26T08:36:43.003042Z",
     "start_time": "2019-07-26T08:36:42.733047Z"
    }
   },
   "source": [
    "## Regressor"
   ]
  },
  {
   "cell_type": "markdown",
   "metadata": {},
   "source": [
    "Like for transformers, scikit-learn regressors have a sklearndf sibling abotained by appending **DF** to the class name, and the API remains the same:"
   ]
  },
  {
   "cell_type": "code",
   "execution_count": null,
   "metadata": {
    "ExecuteTime": {
     "end_time": "2019-07-30T16:10:46.438283Z",
     "start_time": "2019-07-30T16:10:45.995257Z"
    }
   },
   "outputs": [],
   "source": [
    "# define train and test sets. Since sklearn.RandomForest only accepts numercial values,\n",
    "# we restrict to numercial values for now\n",
    "df_numerical = df.select_dtypes(include='number').fillna(0)\n",
    "df_numerical_train, df_numerical_test, y_train, y_test = train_test_split(df_numerical, y, random_state=0)\n",
    "\n",
    "random_forest_regressor_df = RandomForestRegressorDF(n_estimators=50, random_state=0)\n",
    "random_forest_regressor_df.fit(df_numerical_train, y_train)\n",
    "random_forest_regressor_df.score(df_numerical_test, y_test)"
   ]
  },
  {
   "cell_type": "code",
   "execution_count": null,
   "metadata": {
    "ExecuteTime": {
     "end_time": "2019-07-30T16:10:46.446294Z",
     "start_time": "2019-07-30T16:10:46.440251Z"
    }
   },
   "outputs": [],
   "source": [
    "random_forest_regressor_df.get_params()"
   ]
  },
  {
   "cell_type": "code",
   "execution_count": null,
   "metadata": {
    "ExecuteTime": {
     "end_time": "2019-07-30T16:10:46.460251Z",
     "start_time": "2019-07-30T16:10:46.448251Z"
    }
   },
   "outputs": [],
   "source": [
    "random_forest_regressor_df.set_params(max_depth=10)"
   ]
  },
  {
   "cell_type": "raw",
   "metadata": {
    "raw_mimetype": "text/restructuredtext"
   },
   "source": [
    "The underlying scikit-learn regressor is stored in the :attr:`delegate_estimator` attribute:"
   ]
  },
  {
   "cell_type": "code",
   "execution_count": null,
   "metadata": {
    "ExecuteTime": {
     "end_time": "2019-07-30T16:10:46.473270Z",
     "start_time": "2019-07-30T16:10:46.464248Z"
    }
   },
   "outputs": [],
   "source": [
    "random_forest_regressor_df.delegate_estimator"
   ]
  },
  {
   "cell_type": "raw",
   "metadata": {
    "raw_mimetype": "text/restructuredtext"
   },
   "source": [
    "The attribute :attr:`columns_in` holds the name of the input columns and :attr:`is_fitted` tells if the regressor is fitted:"
   ]
  },
  {
   "cell_type": "code",
   "execution_count": null,
   "metadata": {
    "ExecuteTime": {
     "end_time": "2019-07-30T16:10:46.489257Z",
     "start_time": "2019-07-30T16:10:46.476251Z"
    }
   },
   "outputs": [],
   "source": [
    "random_forest_regressor_df.columns_in"
   ]
  },
  {
   "cell_type": "code",
   "execution_count": null,
   "metadata": {
    "ExecuteTime": {
     "end_time": "2019-07-30T16:10:46.500250Z",
     "start_time": "2019-07-30T16:10:46.492248Z"
    }
   },
   "outputs": [],
   "source": [
    "random_forest_regressor_df.is_fitted"
   ]
  },
  {
   "cell_type": "markdown",
   "metadata": {},
   "source": [
    "## Classifier\n",
    "\n",
    "Classifiers follow the same logic:"
   ]
  },
  {
   "cell_type": "code",
   "execution_count": null,
   "metadata": {
    "ExecuteTime": {
     "end_time": "2019-07-30T16:10:46.515247Z",
     "start_time": "2019-07-30T16:10:46.502250Z"
    }
   },
   "outputs": [],
   "source": [
    "# we create a classification target for the house whose price is greater than 200 000\n",
    "y.mean\n",
    "y_classification = y.apply(lambda x: 1 if x > 200000 else 0)\n",
    "df_numerical_train, df_numerical_test, y_classification_train, y_classification_test =\\\n",
    "train_test_split(df_numerical, y_classification, random_state=0)"
   ]
  },
  {
   "cell_type": "code",
   "execution_count": null,
   "metadata": {
    "ExecuteTime": {
     "end_time": "2019-07-30T16:10:46.628266Z",
     "start_time": "2019-07-30T16:10:46.517247Z"
    }
   },
   "outputs": [],
   "source": [
    "random_forest_classifier_df = RandomForestClassifierDF(n_estimators=50)\n",
    "random_forest_classifier_df.fit(df_numerical_train, y_classification_train)\n",
    "random_forest_classifier_df.score(df_numerical_test, y_classification_test)"
   ]
  },
  {
   "cell_type": "markdown",
   "metadata": {},
   "source": [
    "## Pipeline"
   ]
  },
  {
   "cell_type": "raw",
   "metadata": {
    "ExecuteTime": {
     "end_time": "2019-07-26T08:37:37.633663Z",
     "start_time": "2019-07-26T08:37:37.618669Z"
    },
    "raw_mimetype": "text/restructuredtext"
   },
   "source": [
    "We can combine the above steps to build a full pipeline, using a :class:`.PipelineDF`:"
   ]
  },
  {
   "cell_type": "code",
   "execution_count": null,
   "metadata": {
    "ExecuteTime": {
     "end_time": "2019-07-30T16:10:46.635256Z",
     "start_time": "2019-07-30T16:10:46.630248Z"
    }
   },
   "outputs": [],
   "source": [
    "ohe_pipeline_df = PipelineDF(steps=\n",
    " [('imputer', SimpleImputerDF(strategy='constant', fill_value='nan')), \n",
    "  ('ohe', OneHotEncoderDF(sparse=False, handle_unknown='ignore'))])\n",
    "\n",
    "imputer_df = SimpleImputerDF(strategy=\"median\")\n",
    "\n",
    "ohe_transformer_df = ColumnTransformerDF(transformers=\n",
    "  [('categorical', ohe_pipeline_df, categorical_features),('numerical', imputer_df, numerical_features)])\n",
    "\n",
    "full_pipeline_df = PipelineDF(steps=\n",
    "  [('preprocessing', ohe_transformer_df), ('rf_model', RandomForestRegressorDF(n_estimators=10))])"
   ]
  },
  {
   "cell_type": "code",
   "execution_count": null,
   "metadata": {
    "ExecuteTime": {
     "end_time": "2019-07-30T16:10:46.937242Z",
     "start_time": "2019-07-30T16:10:46.637245Z"
    }
   },
   "outputs": [],
   "source": [
    "df_train, df_test, y_train, y_test = train_test_split(df, y, random_state=0)\n",
    "full_pipeline_df.fit(df_train, y_train)\n",
    "full_pipeline_df.score(df_test, y_test)"
   ]
  },
  {
   "cell_type": "markdown",
   "metadata": {},
   "source": [
    "## Extra"
   ]
  },
  {
   "cell_type": "raw",
   "metadata": {
    "raw_mimetype": "text/restructuredtext"
   },
   "source": [
    ":mod:`gamma.sklearndf` also provides classes which are not from scikit-learn but follow scikit-learn API, like :class:`.LGBMRegressorDF` and :class:`.BorutaPyDF`.\n",
    "Here is an example:"
   ]
  },
  {
   "cell_type": "code",
   "execution_count": null,
   "metadata": {
    "ExecuteTime": {
     "end_time": "2019-07-30T16:10:47.042237Z",
     "start_time": "2019-07-30T16:10:46.939245Z"
    }
   },
   "outputs": [],
   "source": [
    "lgbm_df = LGBMRegressorDF(n_estimators=50, max_depth=10)\n",
    "lgbm_df.fit(df_numerical_train, y_train)\n",
    "lgbm_df.score(df_numerical_test, y_test)"
   ]
  }
 ],
 "metadata": {
  "celltoolbar": "Raw Cell Format",
  "kernelspec": {
   "display_name": "Python 3",
   "language": "python",
   "name": "python3"
  },
  "language_info": {
   "codemirror_mode": {
    "name": "ipython",
    "version": 3
   },
   "file_extension": ".py",
   "mimetype": "text/x-python",
   "name": "python",
   "nbconvert_exporter": "python",
   "pygments_lexer": "ipython3",
   "version": "3.6.7"
  },
  "pycharm": {
   "stem_cell": {
    "cell_type": "raw",
    "metadata": {
     "collapsed": false
    },
    "source": []
   }
  },
  "toc": {
   "base_numbering": 1,
   "nav_menu": {},
   "number_sections": true,
   "sideBar": true,
   "skip_h1_title": false,
   "title_cell": "Table of Contents",
   "title_sidebar": "Contents",
   "toc_cell": false,
   "toc_position": {},
   "toc_section_display": true,
   "toc_window_display": true
  }
 },
 "nbformat": 4,
 "nbformat_minor": 2
}
