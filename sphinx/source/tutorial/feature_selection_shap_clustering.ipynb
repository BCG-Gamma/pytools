{
 "cells": [
  {
   "cell_type": "markdown",
   "metadata": {},
   "source": [
    "# Feature selection and shap clustering"
   ]
  },
  {
   "cell_type": "raw",
   "metadata": {
    "raw_mimetype": "text/restructuredtext"
   },
   "source": [
    "Reducing the number of features can improve the quality of a model. We support two such methods:\n",
    "\n",
    "- :class:`.BorutaDF`: identify features that carry information about the target \n",
    "  variable, even if the relationship is non-linear (as opposed to statistical \n",
    "  hypothesis testing)\n",
    "- **SHAP clustering**: identify features that mutually share information about the \n",
    "  target, even if the relationship is non-linear, allowing us to eliminate/combine \n",
    "  features to obtain a set of mutually independent features"
   ]
  },
  {
   "cell_type": "code",
   "execution_count": null,
   "metadata": {
    "ExecuteTime": {
     "end_time": "2019-08-02T12:07:45.607623Z",
     "start_time": "2019-08-02T12:07:45.576373Z"
    },
    "nbsphinx": "hidden"
   },
   "outputs": [],
   "source": [
    "# this cell's metadata contains\n",
    "# \"nbsphinx\": \"hidden\" so it is hidden by nbsphinx\n",
    "PATH_YIELD_ENGINE = 'src'\n",
    "def set_paths() -> None:\n",
    "    import sys\n",
    "    import os\n",
    "    \n",
    "    if 'cwd' not in globals():\n",
    "        global cwd\n",
    "        cwd = os.path.join(os.getcwd(), os.pardir, os.pardir, os.pardir)\n",
    "        os.chdir(cwd)   \n",
    "    print(f\"working dir is '{os.getcwd()}'\")                            \n",
    "    if PATH_YIELD_ENGINE not in sys.path:\n",
    "        sys.path.insert(0, PATH_YIELD_ENGINE)\n",
    "    print(f\"added `{sys.path[0]}` to python paths\")\n",
    "set_paths()"
   ]
  },
  {
   "cell_type": "code",
   "execution_count": null,
   "metadata": {
    "ExecuteTime": {
     "end_time": "2019-08-02T12:07:49.568490Z",
     "start_time": "2019-08-02T12:07:45.607623Z"
    }
   },
   "outputs": [],
   "source": [
    "import pandas as pd\n",
    "#from lightgbm import LGBMRegressor\n",
    "from sklearn.ensemble import RandomForestRegressor\n",
    "import matplotlib.pyplot as plt\n",
    "\n",
    "from gamma import Sample\n",
    "from gamma.viz.dendrogram import DendrogramDrawer, DendrogramFeatMapStyle, DendrogramLineStyle, DendrogramReportStyle\n",
    "from gamma.sklearndf.pipeline import PipelineDF, ModelPipelineDF\n",
    "from gamma.sklearndf.transformation import SimpleImputerDF, MissingIndicatorDF\n",
    "from gamma.sklearndf.transformation.extra import BorutaDF\n",
    "from gamma.sklearndf.regression import RandomForestRegressorDF, LGBMRegressorDF\n",
    "from gamma.model.inspection import ModelInspector\n",
    "from gamma.model.prediction import PredictorFitCV\n",
    "from gamma.model.selection import ModelGrid, ModelRanker, summary_report\n",
    "from gamma.model.validation import CircularCrossValidator\n",
    "from gamma.yieldengine.simulation import UnivariateSimulator\n",
    "from gamma.yieldengine.partition import ContinuousRangePartitioning"
   ]
  },
  {
   "cell_type": "code",
   "execution_count": null,
   "metadata": {
    "ExecuteTime": {
     "end_time": "2019-08-02T12:07:49.631093Z",
     "start_time": "2019-08-02T12:07:49.568490Z"
    }
   },
   "outputs": [],
   "source": [
    "df = pd.read_csv('data/ames-housing-dataset/train.csv')\n",
    "df.head()\n",
    "df = df.drop(['Id', 'YrSold', 'MoSold'], axis=1)\n",
    "TARGET = \"SalePrice\"\n",
    "num_features = df.select_dtypes('number').columns\n",
    "df = df[list(num_features)]\n",
    "sample = Sample(observations=df, target_name=TARGET)"
   ]
  },
  {
   "cell_type": "markdown",
   "metadata": {},
   "source": [
    "## BorutaDF"
   ]
  },
  {
   "cell_type": "raw",
   "metadata": {
    "raw_mimetype": "text/restructuredtext"
   },
   "source": [
    ":class:`~gamma.sklearndf.pipeline.PipelineDF` is the :mod:`!gamma` sibling for :class:`sklearn.pipeline.Pipeline`.\n",
    "Likewise :class:`~gamma.sklearndf.transformation.extra.BorutaDF` is a dataframe compatible wrapper around the feature selection algorithm \n",
    ":class:`BorutaPY <https://github.com/scikit-learn-contrib/boruta_py>`."
   ]
  },
  {
   "cell_type": "code",
   "execution_count": null,
   "metadata": {
    "ExecuteTime": {
     "end_time": "2019-08-02T12:07:49.646670Z",
     "start_time": "2019-08-02T12:07:49.631093Z"
    }
   },
   "outputs": [],
   "source": [
    "boruta_selector = PipelineDF(steps = [\n",
    "  ('preprocess', SimpleImputerDF()),\n",
    "  ('boruta', BorutaDF(estimator=RandomForestRegressor(), n_estimators=10, verbose=2, max_iter=10, random_state=0, perc=90))])"
   ]
  },
  {
   "cell_type": "code",
   "execution_count": null,
   "metadata": {
    "ExecuteTime": {
     "end_time": "2019-08-02T12:07:52.025779Z",
     "start_time": "2019-08-02T12:07:49.646670Z"
    }
   },
   "outputs": [],
   "source": [
    "boruta_selector.fit(sample.features, sample.target);"
   ]
  },
  {
   "cell_type": "raw",
   "metadata": {
    "raw_mimetype": "text/restructuredtext"
   },
   "source": [
    "The ``columns_original`` attribute is a series with index the input columns names and values the output columns names."
   ]
  },
  {
   "cell_type": "code",
   "execution_count": null,
   "metadata": {
    "ExecuteTime": {
     "end_time": "2019-08-02T12:07:52.041405Z",
     "start_time": "2019-08-02T12:07:52.025779Z"
    }
   },
   "outputs": [],
   "source": [
    "boruta_selector.columns_original"
   ]
  },
  {
   "cell_type": "code",
   "execution_count": null,
   "metadata": {
    "ExecuteTime": {
     "end_time": "2019-08-02T12:07:52.088283Z",
     "start_time": "2019-08-02T12:07:52.041405Z"
    }
   },
   "outputs": [],
   "source": [
    "sample_post_boruta = sample.select_features(boruta_selector.columns_original)"
   ]
  },
  {
   "cell_type": "markdown",
   "metadata": {},
   "source": [
    "## Shap clustering vizualisation"
   ]
  },
  {
   "cell_type": "raw",
   "metadata": {
    "raw_mimetype": "text/restructuredtext"
   },
   "source": [
    "The idea of shap clustering is:\n",
    "\n",
    "- for each feature, compute the aggregated shap values accros all splits. For each feature we get the column of the shap values accros all individual sample.\n",
    "- compute the correlation between each features based on the shap values for each features. The idea is: if two features have close shap value columns, then their impact on the model is simimilar and those features might be redundant.\n",
    "- using the correlation coefficients between the shap value columns, compute a distance matrix between the features\n",
    "- use this distance matrix to make some hierarchical clustering on the coefficient\n",
    "- visualize the hierarchical clustering and decide which features to discard\n",
    "\n",
    "We first instantiate our inspector"
   ]
  },
  {
   "cell_type": "code",
   "execution_count": null,
   "metadata": {
    "ExecuteTime": {
     "end_time": "2019-08-02T12:07:52.103906Z",
     "start_time": "2019-08-02T12:07:52.088283Z"
    }
   },
   "outputs": [],
   "source": [
    "cv = CircularCrossValidator(test_ratio=1/3, num_splits=6)\n",
    "model = ModelPipelineDF(predictor=RandomForestRegressorDF(n_estimators=10, random_state=0), preprocessing=SimpleImputerDF())\n",
    "predictor = PredictorFitCV(model=model, cv=cv, sample=sample_post_boruta)\n",
    "inspector = ModelInspector(predictor_fit=predictor)"
   ]
  },
  {
   "cell_type": "raw",
   "metadata": {
    "raw_mimetype": "text/restructuredtext"
   },
   "source": [
    "A :class:`.LinkageTree` contains the outcome of the shap hierarchical clustering:"
   ]
  },
  {
   "cell_type": "code",
   "execution_count": null,
   "metadata": {
    "ExecuteTime": {
     "end_time": "2019-08-02T12:07:58.115690Z",
     "start_time": "2019-08-02T12:07:52.103906Z"
    }
   },
   "outputs": [],
   "source": [
    "linkage_tree = inspector.cluster_dependent_features()"
   ]
  },
  {
   "cell_type": "code",
   "execution_count": null,
   "metadata": {
    "ExecuteTime": {
     "end_time": "2019-08-02T12:07:58.615650Z",
     "start_time": "2019-08-02T12:07:58.115690Z"
    }
   },
   "outputs": [],
   "source": [
    "ax = plt.figure(figsize=(10, 10)).add_subplot(111)\n",
    "style = DendrogramFeatMapStyle(ax)\n",
    "DendrogramDrawer(title=TARGET, linkage_tree=linkage_tree, style=style).draw()"
   ]
  },
  {
   "cell_type": "raw",
   "metadata": {
    "raw_mimetype": "text/restructuredtext"
   },
   "source": [
    "Above we have used the :class:`.FeatMapStyle` to vizualise the shap clustering. \n",
    "Other styles are supported like :class:`.LineStyle`:"
   ]
  },
  {
   "cell_type": "code",
   "execution_count": null,
   "metadata": {
    "ExecuteTime": {
     "end_time": "2019-08-02T12:07:58.972644Z",
     "start_time": "2019-08-02T12:07:58.615650Z"
    }
   },
   "outputs": [],
   "source": [
    "ax = plt.figure(figsize=(10, 10)).add_subplot(111)\n",
    "style = DendrogramLineStyle(ax)\n",
    "DendrogramDrawer(title=TARGET, linkage_tree=linkage_tree, style=style).draw()"
   ]
  },
  {
   "cell_type": "raw",
   "metadata": {
    "raw_mimetype": "text/restructuredtext"
   },
   "source": [
    "And a :class:`DendrogramTextStyle` which returns an ASCI style report.  This is useful for text or logging reports:"
   ]
  },
  {
   "cell_type": "code",
   "execution_count": null,
   "metadata": {
    "ExecuteTime": {
     "end_time": "2019-08-02T12:07:58.987808Z",
     "start_time": "2019-08-02T12:07:58.972644Z"
    }
   },
   "outputs": [],
   "source": [
    "style = DendrogramReportStyle()\n",
    "DendrogramDrawer(title=TARGET, linkage_tree=linkage_tree, style=style).draw()"
   ]
  },
  {
   "cell_type": "markdown",
   "metadata": {},
   "source": [
    "## Shap clustering iteration"
   ]
  },
  {
   "cell_type": "markdown",
   "metadata": {},
   "source": [
    "The next step is to use the denrogram visualization to discard features.\n",
    "A strategy here is to choose features which are strongly correlated with others, and have smaller feature importance.\n",
    "Based on the [heat map dendrogram](#HeatMap-dendrogram-style) we could decide to discard \n",
    "the features ``1stFlrSF`` and  ``2ndFlrSF``."
   ]
  },
  {
   "cell_type": "raw",
   "metadata": {
    "raw_mimetype": "text/restructuredtext"
   },
   "source": [
    "We first create a new :class:`.Sample` discarding those features:"
   ]
  },
  {
   "cell_type": "code",
   "execution_count": null,
   "metadata": {
    "ExecuteTime": {
     "end_time": "2019-08-02T12:07:59.003787Z",
     "start_time": "2019-08-02T12:07:58.987808Z"
    }
   },
   "outputs": [],
   "source": [
    "black_list = [\"1stFlrSF\", \"2ndFlrSF\"]\n",
    "white_list = sorted(list(set(sample_post_boruta.feature_names) - set(black_list)))\n",
    "new_sample = sample_post_boruta.select_features(white_list)"
   ]
  },
  {
   "cell_type": "raw",
   "metadata": {
    "raw_mimetype": "text/restructuredtext"
   },
   "source": [
    "Then we instantiate a new :class:`.ModelInspector`:"
   ]
  },
  {
   "cell_type": "code",
   "execution_count": null,
   "metadata": {
    "ExecuteTime": {
     "end_time": "2019-08-02T12:07:59.019421Z",
     "start_time": "2019-08-02T12:07:59.003787Z"
    }
   },
   "outputs": [],
   "source": [
    "predictor_new = PredictorFitCV(model=model, cv=cv, sample=new_sample)\n",
    "inspector_new = ModelInspector(predictor_new)"
   ]
  },
  {
   "cell_type": "markdown",
   "metadata": {
    "ExecuteTime": {
     "end_time": "2019-07-31T08:20:25.790770Z",
     "start_time": "2019-07-31T08:20:25.780771Z"
    }
   },
   "source": [
    "And we can visualize the new shap clustering:"
   ]
  },
  {
   "cell_type": "code",
   "execution_count": null,
   "metadata": {
    "ExecuteTime": {
     "end_time": "2019-08-02T12:08:04.095026Z",
     "start_time": "2019-08-02T12:07:59.019421Z"
    }
   },
   "outputs": [],
   "source": [
    "linkage_tree_new = inspector_new.cluster_dependent_features()"
   ]
  },
  {
   "cell_type": "code",
   "execution_count": null,
   "metadata": {
    "ExecuteTime": {
     "end_time": "2019-08-02T12:08:04.454012Z",
     "start_time": "2019-08-02T12:08:04.095026Z"
    }
   },
   "outputs": [],
   "source": [
    "ax = plt.figure(figsize=(10, 10)).add_subplot(111)\n",
    "style = DendrogramFeatMapStyle(ax)\n",
    "DendrogramDrawer(title=TARGET, linkage_tree=linkage_tree_new, style=style).draw()"
   ]
  },
  {
   "cell_type": "markdown",
   "metadata": {},
   "source": [
    "If necessary, we can keep going and make a new round of feature selection based on shap clustering."
   ]
  }
 ],
 "metadata": {
  "celltoolbar": "Raw Cell Format",
  "kernelspec": {
   "display_name": "Python 3",
   "language": "python",
   "name": "python3"
  },
  "language_info": {
   "codemirror_mode": {
    "name": "ipython",
    "version": 3
   },
   "file_extension": ".py",
   "mimetype": "text/x-python",
   "name": "python",
   "nbconvert_exporter": "python",
   "pygments_lexer": "ipython3",
   "version": "3.6.7"
  },
  "pycharm": {
   "stem_cell": {
    "cell_type": "raw",
    "metadata": {
     "collapsed": false
    },
    "source": []
   }
  },
  "toc": {
   "base_numbering": 1,
   "nav_menu": {},
   "number_sections": true,
   "sideBar": true,
   "skip_h1_title": false,
   "title_cell": "Table of Contents",
   "title_sidebar": "Contents",
   "toc_cell": false,
   "toc_position": {},
   "toc_section_display": true,
   "toc_window_display": true
  }
 },
 "nbformat": 4,
 "nbformat_minor": 2
}
