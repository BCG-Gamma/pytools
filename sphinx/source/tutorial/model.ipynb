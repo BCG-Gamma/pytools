{
 "cells": [
  {
   "cell_type": "markdown",
   "metadata": {},
   "source": [
    "# Training models: validation, selection, inspection"
   ]
  },
  {
   "cell_type": "raw",
   "metadata": {
    "raw_mimetype": "text/restructuredtext"
   },
   "source": [
    "- :class:`.ModelPipelineDF` holds the model including preprocessing\n",
    "- :class:`.ModelGrid` adds the hyperparameter grid\n",
    "- :class:`.ModelRanker` search the best model from a list of :class:`.ModelGrid`\n",
    "- :class:`.PredictorFitCV` holds the full information for all test splits of a model\n",
    "- :class:`.ModelInspector` allows to analyse a model\n"
   ]
  },
  {
   "cell_type": "code",
   "execution_count": null,
   "metadata": {
    "ExecuteTime": {
     "end_time": "2019-07-31T07:28:52.272032Z",
     "start_time": "2019-07-31T07:28:52.260069Z"
    },
    "nbsphinx": "hidden"
   },
   "outputs": [],
   "source": [
    "# this cell's metadata contains\n",
    "# \"nbsphinx\": \"hidden\" so it is hidden by nbsphinx\n",
    "PATH_YIELD_ENGINE = 'src'\n",
    "def set_paths() -> None:\n",
    "    import sys\n",
    "    import os\n",
    "    \n",
    "    if 'cwd' not in globals():\n",
    "        global cwd\n",
    "        cwd = os.path.join(os.getcwd(), os.pardir, os.pardir, os.pardir)\n",
    "        os.chdir(cwd)   \n",
    "    print(f\"working dir is '{os.getcwd()}'\")                            \n",
    "    if PATH_YIELD_ENGINE not in sys.path:\n",
    "        sys.path.insert(0, PATH_YIELD_ENGINE)\n",
    "    print(f\"added `{sys.path[0]}` to python paths\")\n",
    "set_paths()"
   ]
  },
  {
   "cell_type": "code",
   "execution_count": null,
   "metadata": {
    "ExecuteTime": {
     "end_time": "2019-07-31T07:28:56.274587Z",
     "start_time": "2019-07-31T07:28:52.274030Z"
    }
   },
   "outputs": [],
   "source": [
    "import pandas as pd\n",
    "from sklearn.impute import SimpleImputer\n",
    "from sklearn.preprocessing import OneHotEncoder\n",
    "from sklearn.compose import ColumnTransformer\n",
    "from sklearn.pipeline import Pipeline\n",
    "from sklearn.model_selection import train_test_split\n",
    "from pandas.api.types import is_numeric_dtype\n",
    "\n",
    "from gamma.model.prediction import PredictorFitCV\n",
    "from gamma.model.inspection import ModelInspector\n",
    "from gamma.model.selection import  ModelGrid\n",
    "from gamma.model.validation import CircularCrossValidator\n",
    "from gamma import Sample\n",
    "from gamma.model.selection import ModelGrid, ModelRanker, summary_report\n",
    "from gamma.sklearndf.pipeline import PipelineDF, ModelPipelineDF \n",
    "from gamma.sklearndf.transformation import SimpleImputerDF, OneHotEncoderDF, ColumnTransformerDF\n",
    "from gamma.sklearndf.transformation.extra import BorutaDF\n",
    "from gamma.sklearndf.regression import RandomForestRegressorDF, LGBMRegressorDF\n",
    "from gamma.sklearndf.classification import RandomForestClassifierDF"
   ]
  },
  {
   "cell_type": "code",
   "execution_count": null,
   "metadata": {
    "ExecuteTime": {
     "end_time": "2019-07-31T07:28:56.310630Z",
     "start_time": "2019-07-31T07:28:56.276549Z"
    }
   },
   "outputs": [],
   "source": [
    "df = pd.read_csv('data/ames-housing-dataset/train.csv')\n",
    "df = df.drop(['Id', 'YrSold', 'MoSold'], axis=1)\n",
    "TARGET = \"SalePrice\"\n",
    "sample = Sample(observations=df, target_name=TARGET)"
   ]
  },
  {
   "cell_type": "code",
   "execution_count": null,
   "metadata": {
    "ExecuteTime": {
     "end_time": "2019-07-31T07:28:56.332524Z",
     "start_time": "2019-07-31T07:28:56.311565Z"
    }
   },
   "outputs": [],
   "source": [
    "categorical_features = sample.features.select_dtypes([object]).columns\n",
    "numerical_features = [col for col, dtype in sample.features.dtypes.iteritems() if is_numeric_dtype(dtype)]"
   ]
  },
  {
   "cell_type": "markdown",
   "metadata": {},
   "source": [
    "## ModelPipeline"
   ]
  },
  {
   "cell_type": "raw",
   "metadata": {
    "raw_mimetype": "text/restructuredtext"
   },
   "source": [
    ":class:`.ModelPipelineDF` holds the information about the algorithms. It is defined with \n",
    "\n",
    "- :attr:`predictor` which is the estimator used to make predictions (must have fit and predict methods)\n",
    "- :attr:`processing` which is the preprocessing pipeline"
   ]
  },
  {
   "cell_type": "code",
   "execution_count": null,
   "metadata": {
    "ExecuteTime": {
     "end_time": "2019-07-31T07:28:56.342522Z",
     "start_time": "2019-07-31T07:28:56.333521Z"
    },
    "pycharm": {
     "name": "#%%\n"
    }
   },
   "outputs": [],
   "source": [
    "ohe_df = PipelineDF(steps=\n",
    " [('imputer', SimpleImputerDF(strategy='constant', fill_value='nan')), \n",
    "  ('ohe', OneHotEncoderDF(sparse=False, handle_unknown='ignore'))])\n",
    "\n",
    "imputer_df = SimpleImputerDF(strategy=\"median\")\n",
    "\n",
    "preprocessing_df = ColumnTransformerDF(transformers=\n",
    "  [('categorical', ohe_df, categorical_features),('numerical', imputer_df, numerical_features)])"
   ]
  },
  {
   "cell_type": "code",
   "execution_count": null,
   "metadata": {
    "ExecuteTime": {
     "end_time": "2019-07-31T07:28:56.359556Z",
     "start_time": "2019-07-31T07:28:56.343522Z"
    },
    "pycharm": {
     "name": "#%%\n"
    },
    "scrolled": true
   },
   "outputs": [],
   "source": [
    "predictor = RandomForestRegressorDF()\n",
    "model_pipeline_df = ModelPipelineDF(predictor=predictor, preprocessing=preprocessing_df)"
   ]
  },
  {
   "cell_type": "raw",
   "metadata": {
    "raw_mimetype": "text/restructuredtext"
   },
   "source": [
    ":class:`ModelPipelineDF` has :attr:`fit`, :attr:`predict` and :attr:`score` methods:"
   ]
  },
  {
   "cell_type": "code",
   "execution_count": null,
   "metadata": {
    "ExecuteTime": {
     "end_time": "2019-07-31T07:28:56.760514Z",
     "start_time": "2019-07-31T07:28:56.361525Z"
    }
   },
   "outputs": [],
   "source": [
    "model_pipeline_df.fit(sample.features, sample.target)\n",
    "model_pipeline_df.score(sample.features, sample.target)"
   ]
  },
  {
   "cell_type": "markdown",
   "metadata": {},
   "source": [
    "## Cross-validation"
   ]
  },
  {
   "cell_type": "raw",
   "metadata": {
    "raw_mimetype": "text/restructuredtext"
   },
   "source": [
    "With :mod:`gamma`, model validation is made with **cross-validation** using scikit-learn API. \n",
    "One can either use scikit-learn cross validators, or the custom cross validator we provide like \n",
    ":class:`.CircularCrossValidator` which makes out-of-time validation:"
   ]
  },
  {
   "cell_type": "code",
   "execution_count": null,
   "metadata": {
    "ExecuteTime": {
     "end_time": "2019-07-31T07:28:56.767517Z",
     "start_time": "2019-07-31T07:28:56.763517Z"
    }
   },
   "outputs": [],
   "source": [
    "cv = CircularCrossValidator(test_ratio=1/3, num_splits=6)"
   ]
  },
  {
   "cell_type": "markdown",
   "metadata": {},
   "source": [
    "## Model and hyperparameter optimization"
   ]
  },
  {
   "cell_type": "raw",
   "metadata": {
    "raw_mimetype": "text/restructuredtext"
   },
   "source": [
    "Given a :class:`.ModelPipelineDF` the next step is to consider a grid of hyperparameter for this model. \n",
    "This summarized in a :class:`.ModelGrid` object.\n",
    "\n",
    "Then it is natural to consider different :class:`.ModelGrid` and to select the best one. \n",
    "For that purpose \n",
    "a :class:`.ModelRanker` selects the best model using cross-validation:"
   ]
  },
  {
   "cell_type": "code",
   "execution_count": null,
   "metadata": {
    "ExecuteTime": {
     "end_time": "2019-07-31T07:28:56.784520Z",
     "start_time": "2019-07-31T07:28:56.770514Z"
    }
   },
   "outputs": [],
   "source": [
    "random_forest_pipeline = ModelPipelineDF(predictor=RandomForestRegressorDF(), preprocessing=preprocessing_df)\n",
    "lgbm_pipeline = ModelPipelineDF(predictor=LGBMRegressorDF(), preprocessing=preprocessing_df)"
   ]
  },
  {
   "cell_type": "code",
   "execution_count": null,
   "metadata": {
    "ExecuteTime": {
     "end_time": "2019-07-31T07:29:14.004597Z",
     "start_time": "2019-07-31T07:29:13.999592Z"
    }
   },
   "outputs": [],
   "source": [
    "grids = [ModelGrid(pipeline=random_forest_pipeline, predictor_parameters={\"n_estimators\": [10, 20]}),\n",
    "         ModelGrid(pipeline=lgbm_pipeline, predictor_parameters={\"learning_rate\": [0.1, 0.2]})]"
   ]
  },
  {
   "cell_type": "code",
   "execution_count": null,
   "metadata": {
    "ExecuteTime": {
     "end_time": "2019-07-31T07:29:22.638062Z",
     "start_time": "2019-07-31T07:29:14.507719Z"
    }
   },
   "outputs": [],
   "source": [
    "ranker = ModelRanker(grids=grids, cv=cv)\n",
    "ranking = ranker.run(sample, n_jobs=-3)\n",
    "print(summary_report(ranking))"
   ]
  },
  {
   "cell_type": "raw",
   "metadata": {
    "raw_mimetype": "text/restructuredtext"
   },
   "source": [
    "We can then retrieve our top model, which is an instance of a :class:`.ModelePipelineDF`:"
   ]
  },
  {
   "cell_type": "code",
   "execution_count": null,
   "metadata": {
    "ExecuteTime": {
     "end_time": "2019-07-31T07:29:22.644067Z",
     "start_time": "2019-07-31T07:29:22.640063Z"
    }
   },
   "outputs": [],
   "source": [
    "top_model = ranking[0].model"
   ]
  },
  {
   "cell_type": "markdown",
   "metadata": {},
   "source": [
    "## Predictor"
   ]
  },
  {
   "cell_type": "raw",
   "metadata": {
    "raw_mimetype": "text/restructuredtext"
   },
   "source": [
    "Before inspecting our top model, we create a :class:`.PredictorFitCV` object that contains all the information regarding the different split of the cross-validation for our trained champion model:"
   ]
  },
  {
   "cell_type": "code",
   "execution_count": null,
   "metadata": {
    "ExecuteTime": {
     "end_time": "2019-07-31T07:29:22.659066Z",
     "start_time": "2019-07-31T07:29:22.647062Z"
    },
    "pycharm": {
     "name": "#%%\n"
    }
   },
   "outputs": [],
   "source": [
    "predictor_fit = PredictorFitCV(model=top_model, cv=cv, sample=sample)"
   ]
  },
  {
   "cell_type": "markdown",
   "metadata": {},
   "source": [
    "We can easily make predictions using the model trained with a given cross-validation split:"
   ]
  },
  {
   "cell_type": "code",
   "execution_count": null,
   "metadata": {
    "ExecuteTime": {
     "end_time": "2019-07-31T07:29:25.233014Z",
     "start_time": "2019-07-31T07:29:22.662065Z"
    }
   },
   "outputs": [],
   "source": [
    "predictions0 = predictor_fit.predictions_for_split(split_id=0)"
   ]
  },
  {
   "cell_type": "code",
   "execution_count": null,
   "metadata": {
    "ExecuteTime": {
     "end_time": "2019-07-31T07:29:25.243014Z",
     "start_time": "2019-07-31T07:29:25.235014Z"
    },
    "scrolled": true
   },
   "outputs": [],
   "source": [
    "predictions0.head()"
   ]
  },
  {
   "cell_type": "markdown",
   "metadata": {
    "ExecuteTime": {
     "end_time": "2019-07-31T07:15:26.736192Z",
     "start_time": "2019-07-31T07:15:26.728189Z"
    }
   },
   "source": [
    "If necessary we can retrieve the traind model for a given training split itself: "
   ]
  },
  {
   "cell_type": "code",
   "execution_count": null,
   "metadata": {
    "ExecuteTime": {
     "end_time": "2019-07-31T07:29:25.264013Z",
     "start_time": "2019-07-31T07:29:25.246014Z"
    }
   },
   "outputs": [],
   "source": [
    "model0 = predictor_fit.fitted_model(split_id=0)"
   ]
  },
  {
   "cell_type": "markdown",
   "metadata": {},
   "source": [
    "Or we can even even retrieve a generator of all the model for all the training splits:"
   ]
  },
  {
   "cell_type": "code",
   "execution_count": null,
   "metadata": {
    "ExecuteTime": {
     "end_time": "2019-07-31T07:29:25.276014Z",
     "start_time": "2019-07-31T07:29:25.267014Z"
    }
   },
   "outputs": [],
   "source": [
    "models = predictor_fit.fitted_models()"
   ]
  },
  {
   "cell_type": "markdown",
   "metadata": {},
   "source": [
    "## Model inspection"
   ]
  },
  {
   "cell_type": "raw",
   "metadata": {
    "raw_mimetype": "text/restructuredtext"
   },
   "source": [
    "A :class:`.ModelPredictorFitCV` contains all the necessary information to perform a model analysis. \n",
    "The :class:`.ModelInspector` class performs out of the box analysis for you:\n",
    "\n",
    "- :meth:`shap_matrix` computes shap values for each individual sample aggregated accross all test split\n",
    "- :meth:`feature_importances` computes feature importance based on shap values aggregated per test split"
   ]
  },
  {
   "cell_type": "code",
   "execution_count": null,
   "metadata": {
    "ExecuteTime": {
     "end_time": "2019-07-31T07:29:25.291015Z",
     "start_time": "2019-07-31T07:29:25.279013Z"
    },
    "pycharm": {
     "name": "#%%\n"
    }
   },
   "outputs": [],
   "source": [
    "inspector = ModelInspector(predictor_fit)"
   ]
  },
  {
   "cell_type": "code",
   "execution_count": null,
   "metadata": {
    "ExecuteTime": {
     "end_time": "2019-07-31T07:29:27.905966Z",
     "start_time": "2019-07-31T07:29:25.294014Z"
    }
   },
   "outputs": [],
   "source": [
    "inspector.feature_importances().head()"
   ]
  },
  {
   "cell_type": "code",
   "execution_count": null,
   "metadata": {
    "ExecuteTime": {
     "end_time": "2019-07-31T07:29:27.941963Z",
     "start_time": "2019-07-31T07:29:27.907964Z"
    }
   },
   "outputs": [],
   "source": [
    "sample.features.head()"
   ]
  }
 ],
 "metadata": {
  "celltoolbar": "Raw Cell Format",
  "kernelspec": {
   "display_name": "PyCharm (yield-engine)",
   "language": "python",
   "name": "pycharm-43d523da"
  },
  "language_info": {
   "codemirror_mode": {
    "name": "ipython",
    "version": 3
   },
   "file_extension": ".py",
   "mimetype": "text/x-python",
   "name": "python",
   "nbconvert_exporter": "python",
   "pygments_lexer": "ipython3",
   "version": "3.6.7"
  },
  "pycharm": {
   "stem_cell": {
    "cell_type": "raw",
    "metadata": {
     "collapsed": false
    },
    "source": []
   }
  },
  "toc": {
   "base_numbering": 1,
   "nav_menu": {},
   "number_sections": true,
   "sideBar": true,
   "skip_h1_title": false,
   "title_cell": "Table of Contents",
   "title_sidebar": "Contents",
   "toc_cell": false,
   "toc_position": {},
   "toc_section_display": true,
   "toc_window_display": false
  }
 },
 "nbformat": 4,
 "nbformat_minor": 2
}
