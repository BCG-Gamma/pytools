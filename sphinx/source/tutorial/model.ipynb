{
 "cells": [
  {
   "cell_type": "markdown",
   "metadata": {},
   "source": [
    "# Models: validation, selection, inspection"
   ]
  },
  {
   "cell_type": "code",
   "execution_count": null,
   "metadata": {
    "ExecuteTime": {
     "end_time": "2019-07-30T20:09:45.777877Z",
     "start_time": "2019-07-30T20:09:45.762877Z"
    },
    "nbsphinx": "hidden"
   },
   "outputs": [],
   "source": [
    "# this cell's metadata contains\n",
    "# \"nbsphinx\": \"hidden\" so it is hidden by nbsphinx\n",
    "PATH_YIELD_ENGINE = 'src'\n",
    "def set_paths() -> None:\n",
    "    import sys\n",
    "    import os\n",
    "    \n",
    "    if 'cwd' not in globals():\n",
    "        global cwd\n",
    "        cwd = os.path.join(os.getcwd(), os.pardir, os.pardir, os.pardir)\n",
    "        os.chdir(cwd)   \n",
    "    print(f\"working dir is '{os.getcwd()}'\")                            \n",
    "    if PATH_YIELD_ENGINE not in sys.path:\n",
    "        sys.path.insert(0, PATH_YIELD_ENGINE)\n",
    "    print(f\"added `{sys.path[0]}` to python paths\")\n",
    "set_paths()"
   ]
  },
  {
   "cell_type": "code",
   "execution_count": null,
   "metadata": {
    "ExecuteTime": {
     "end_time": "2019-07-30T20:09:50.371847Z",
     "start_time": "2019-07-30T20:09:45.780873Z"
    }
   },
   "outputs": [],
   "source": [
    "import pandas as pd\n",
    "from sklearn.impute import SimpleImputer\n",
    "from sklearn.preprocessing import OneHotEncoder\n",
    "from sklearn.compose import ColumnTransformer\n",
    "from sklearn.pipeline import Pipeline\n",
    "from sklearn.model_selection import train_test_split\n",
    "from pandas.api.types import is_numeric_dtype\n",
    "\n",
    "from gamma.model.prediction import PredictorFitCV\n",
    "from gamma.model.inspection import ModelInspector\n",
    "from gamma.model.selection import  ModelGrid\n",
    "from gamma.model.validation import CircularCrossValidator\n",
    "from gamma import Sample\n",
    "from gamma.model.selection import ModelGrid, ModelRanker, summary_report\n",
    "from gamma.sklearndf.pipeline import PipelineDF, ModelPipelineDF \n",
    "from gamma.sklearndf.transformation import SimpleImputerDF, OneHotEncoderDF, ColumnTransformerDF\n",
    "from gamma.sklearndf.transformation.extra import BorutaDF\n",
    "from gamma.sklearndf.regression import RandomForestRegressorDF, LGBMRegressorDF\n",
    "from gamma.sklearndf.classification import RandomForestClassifierDF"
   ]
  },
  {
   "cell_type": "code",
   "execution_count": null,
   "metadata": {
    "ExecuteTime": {
     "end_time": "2019-07-30T20:09:50.420845Z",
     "start_time": "2019-07-30T20:09:50.373848Z"
    }
   },
   "outputs": [],
   "source": [
    "df = pd.read_csv('data/ames-housing-dataset/train.csv')\n",
    "df = df.drop(['Id', 'YrSold', 'MoSold'], axis=1)\n",
    "TARGET = \"SalePrice\"\n",
    "sample = Sample(observations=df, target_name=TARGET)"
   ]
  },
  {
   "cell_type": "code",
   "execution_count": null,
   "metadata": {
    "ExecuteTime": {
     "end_time": "2019-07-30T20:09:50.449844Z",
     "start_time": "2019-07-30T20:09:50.423849Z"
    }
   },
   "outputs": [],
   "source": [
    "categorical_features = sample.features.select_dtypes([object]).columns\n",
    "numerical_features = [col for col, dtype in sample.features.dtypes.iteritems() if is_numeric_dtype(dtype)]"
   ]
  },
  {
   "cell_type": "markdown",
   "metadata": {},
   "source": [
    "## ModelPipeline"
   ]
  },
  {
   "cell_type": "code",
   "execution_count": null,
   "metadata": {
    "ExecuteTime": {
     "end_time": "2019-07-30T20:09:50.459845Z",
     "start_time": "2019-07-30T20:09:50.451845Z"
    },
    "pycharm": {
     "name": "#%%\n"
    }
   },
   "outputs": [],
   "source": [
    "ohe_df = PipelineDF(steps=\n",
    " [('imputer', SimpleImputerDF(strategy='constant', fill_value='nan')), \n",
    "  ('ohe', OneHotEncoderDF(sparse=False, handle_unknown='ignore'))])\n",
    "\n",
    "imputer_df = SimpleImputerDF(strategy=\"median\")\n",
    "\n",
    "preprocessing_df = ColumnTransformerDF(transformers=\n",
    "  [('categorical', ohe_df, categorical_features),('numerical', imputer_df, numerical_features)])\n",
    "\n",
    "# pipeline_df = PipelineDF(steps=\n",
    "#   [('preprocessing', preprocessing_df), ('rf_model', RandomForestRegressorDF(n_estimators=10))])"
   ]
  },
  {
   "cell_type": "code",
   "execution_count": null,
   "metadata": {
    "ExecuteTime": {
     "end_time": "2019-07-30T20:09:50.471860Z",
     "start_time": "2019-07-30T20:09:50.462847Z"
    },
    "pycharm": {
     "name": "#%%\n"
    }
   },
   "outputs": [],
   "source": [
    "predictor = RandomForestRegressorDF()"
   ]
  },
  {
   "cell_type": "code",
   "execution_count": null,
   "metadata": {
    "ExecuteTime": {
     "end_time": "2019-07-30T20:09:50.491864Z",
     "start_time": "2019-07-30T20:09:50.475845Z"
    },
    "pycharm": {
     "name": "#%%\n"
    }
   },
   "outputs": [],
   "source": [
    "model_pipeline_df = ModelPipelineDF(predictor=predictor, preprocessing=preprocessing_df)"
   ]
  },
  {
   "cell_type": "code",
   "execution_count": null,
   "metadata": {
    "ExecuteTime": {
     "end_time": "2019-07-30T20:09:51.007876Z",
     "start_time": "2019-07-30T20:09:50.496847Z"
    }
   },
   "outputs": [],
   "source": [
    "model_pipeline_df.fit(sample.features, sample.target);"
   ]
  },
  {
   "cell_type": "code",
   "execution_count": null,
   "metadata": {
    "ExecuteTime": {
     "end_time": "2019-07-30T20:09:51.075879Z",
     "start_time": "2019-07-30T20:09:51.009846Z"
    }
   },
   "outputs": [],
   "source": [
    "model_pipeline_df.score(sample.features, sample.target)"
   ]
  },
  {
   "cell_type": "markdown",
   "metadata": {},
   "source": [
    "## Predictor\n",
    "todo"
   ]
  },
  {
   "cell_type": "code",
   "execution_count": null,
   "metadata": {
    "ExecuteTime": {
     "end_time": "2019-07-30T20:09:51.082884Z",
     "start_time": "2019-07-30T20:09:51.077847Z"
    },
    "pycharm": {
     "name": "#%%\n"
    }
   },
   "outputs": [],
   "source": [
    "cv = CircularCrossValidator(test_ratio=0.2, num_splits=5)"
   ]
  },
  {
   "cell_type": "code",
   "execution_count": null,
   "metadata": {
    "ExecuteTime": {
     "end_time": "2019-07-30T20:09:51.093879Z",
     "start_time": "2019-07-30T20:09:51.085846Z"
    },
    "pycharm": {
     "name": "#%%\n"
    }
   },
   "outputs": [],
   "source": [
    "predictor_fit = PredictorFitCV(model=model_pipeline_df, cv=cv, sample=sample)"
   ]
  },
  {
   "cell_type": "code",
   "execution_count": null,
   "metadata": {
    "ExecuteTime": {
     "end_time": "2019-07-30T20:09:52.844875Z",
     "start_time": "2019-07-30T20:09:51.095841Z"
    }
   },
   "outputs": [],
   "source": [
    "predictions0 = predictor_fit.predictions_for_split(split_id=0)"
   ]
  },
  {
   "cell_type": "code",
   "execution_count": null,
   "metadata": {
    "ExecuteTime": {
     "end_time": "2019-07-30T20:09:52.851832Z",
     "start_time": "2019-07-30T20:09:52.846833Z"
    }
   },
   "outputs": [],
   "source": [
    "type(predictions0)"
   ]
  },
  {
   "cell_type": "code",
   "execution_count": null,
   "metadata": {
    "ExecuteTime": {
     "end_time": "2019-07-30T20:09:52.868834Z",
     "start_time": "2019-07-30T20:09:52.854832Z"
    },
    "scrolled": true
   },
   "outputs": [],
   "source": [
    "predictions0.head()"
   ]
  },
  {
   "cell_type": "code",
   "execution_count": null,
   "metadata": {
    "ExecuteTime": {
     "end_time": "2019-07-30T20:09:52.881830Z",
     "start_time": "2019-07-30T20:09:52.871845Z"
    }
   },
   "outputs": [],
   "source": [
    "model0 = predictor_fit.fitted_model(split_id=0)"
   ]
  },
  {
   "cell_type": "code",
   "execution_count": null,
   "metadata": {
    "ExecuteTime": {
     "end_time": "2019-07-30T20:09:52.895832Z",
     "start_time": "2019-07-30T20:09:52.883831Z"
    }
   },
   "outputs": [],
   "source": [
    "models = predictor_fit.fitted_models()"
   ]
  },
  {
   "cell_type": "code",
   "execution_count": null,
   "metadata": {
    "ExecuteTime": {
     "end_time": "2019-07-30T20:09:52.948834Z",
     "start_time": "2019-07-30T20:09:52.898833Z"
    }
   },
   "outputs": [],
   "source": [
    "list(models)[0]"
   ]
  },
  {
   "cell_type": "markdown",
   "metadata": {},
   "source": [
    "## Model and hyperparameter optimization\n",
    "todo"
   ]
  },
  {
   "cell_type": "code",
   "execution_count": null,
   "metadata": {
    "ExecuteTime": {
     "end_time": "2019-07-30T20:09:52.960833Z",
     "start_time": "2019-07-30T20:09:52.952861Z"
    }
   },
   "outputs": [],
   "source": [
    "rf_pipeline = ModelPipelineDF(predictor=RandomForestRegressorDF(random_state=0), preprocessing=SimpleImputerDF())\n",
    "lgbm_pipeline = ModelPipelineDF(predictor=LGBMRegressorDF(random_state=0), preprocessing=SimpleImputerDF())"
   ]
  },
  {
   "cell_type": "code",
   "execution_count": null,
   "metadata": {
    "ExecuteTime": {
     "end_time": "2019-07-30T20:09:52.973833Z",
     "start_time": "2019-07-30T20:09:52.963832Z"
    }
   },
   "outputs": [],
   "source": [
    "rf_pipeline = ModelPipelineDF(predictor=RandomForestRegressorDF(random_state=0), preprocessing=preprocessing_df)\n",
    "lgbm_pipeline = ModelPipelineDF(predictor=LGBMRegressorDF(random_state=0), preprocessing=preprocessing_df)"
   ]
  },
  {
   "cell_type": "code",
   "execution_count": null,
   "metadata": {
    "ExecuteTime": {
     "end_time": "2019-07-30T20:09:52.986831Z",
     "start_time": "2019-07-30T20:09:52.975833Z"
    }
   },
   "outputs": [],
   "source": [
    "grids = [ModelGrid(pipeline=rf_pipeline, predictor_parameters={\"n_estimators\": [10, 20]}),\n",
    "         ModelGrid(pipeline=lgbm_pipeline, predictor_parameters={\"learning_rate\": [0.1, 0.2]})]"
   ]
  },
  {
   "cell_type": "code",
   "execution_count": null,
   "metadata": {
    "ExecuteTime": {
     "end_time": "2019-07-30T20:10:02.218779Z",
     "start_time": "2019-07-30T20:09:52.989835Z"
    }
   },
   "outputs": [],
   "source": [
    "circular_cv = CircularCrossValidator(test_ratio=1/3, num_splits=3)\n",
    "ranker = ModelRanker(grids=grids, cv=circular_cv)\n",
    "ranking = ranker.run(sample, n_jobs=-3)\n",
    "print(summary_report(ranking))"
   ]
  },
  {
   "cell_type": "code",
   "execution_count": null,
   "metadata": {
    "ExecuteTime": {
     "end_time": "2019-07-30T20:10:02.227777Z",
     "start_time": "2019-07-30T20:10:02.222777Z"
    }
   },
   "outputs": [],
   "source": [
    "top_model = ranking[0]"
   ]
  },
  {
   "cell_type": "markdown",
   "metadata": {},
   "source": [
    "## Model inspection\n",
    "todo"
   ]
  },
  {
   "cell_type": "code",
   "execution_count": null,
   "metadata": {
    "ExecuteTime": {
     "end_time": "2019-07-30T20:10:02.245783Z",
     "start_time": "2019-07-30T20:10:02.233777Z"
    },
    "pycharm": {
     "name": "#%%\n"
    }
   },
   "outputs": [],
   "source": [
    "inspector = ModelInspector(predictor_fit)"
   ]
  },
  {
   "cell_type": "code",
   "execution_count": null,
   "metadata": {
    "ExecuteTime": {
     "end_time": "2019-07-30T20:10:08.872414Z",
     "start_time": "2019-07-30T20:10:02.249777Z"
    }
   },
   "outputs": [],
   "source": [
    "inspector.feature_importances().head()"
   ]
  },
  {
   "cell_type": "code",
   "execution_count": null,
   "metadata": {
    "ExecuteTime": {
     "end_time": "2019-07-30T20:10:08.914410Z",
     "start_time": "2019-07-30T20:10:08.874415Z"
    }
   },
   "outputs": [],
   "source": [
    "inspector.shap_matrix().head()"
   ]
  }
 ],
 "metadata": {
  "celltoolbar": "Edit Metadata",
  "kernelspec": {
   "display_name": "PyCharm (yield-engine)",
   "language": "python",
   "name": "pycharm-43d523da"
  },
  "language_info": {
   "codemirror_mode": {
    "name": "ipython",
    "version": 3
   },
   "file_extension": ".py",
   "mimetype": "text/x-python",
   "name": "python",
   "nbconvert_exporter": "python",
   "pygments_lexer": "ipython3",
   "version": "3.6.7"
  },
  "pycharm": {
   "stem_cell": {
    "cell_type": "raw",
    "metadata": {
     "collapsed": false
    },
    "source": []
   }
  },
  "toc": {
   "base_numbering": 1,
   "nav_menu": {},
   "number_sections": true,
   "sideBar": true,
   "skip_h1_title": false,
   "title_cell": "Table of Contents",
   "title_sidebar": "Contents",
   "toc_cell": false,
   "toc_position": {},
   "toc_section_display": true,
   "toc_window_display": false
  }
 },
 "nbformat": 4,
 "nbformat_minor": 2
}
