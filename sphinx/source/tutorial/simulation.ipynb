{
 "cells": [
  {
   "cell_type": "markdown",
   "metadata": {},
   "source": [
    "# Simulation\n",
    "\n",
    "Once we trust a model we want to simulate the outcome of some parameter change:\n",
    "\n",
    "- What would happen if we set the feature to this value?\n",
    "- What is the optimal value for this feature? "
   ]
  },
  {
   "cell_type": "raw",
   "metadata": {
    "raw_mimetype": "text/restructuredtext"
   },
   "source": [
    "The simulation is made esay using:\n",
    "\n",
    "- :class:`.Partitioning` classes like :class:`.ContinuousRangePartitioning` and :class:`.CategoryPartitioning`\n",
    "- :class:`.UnivariateSimulator` that computes :class:`.UnivariateSimulation` objects that contain all the information for the what if analysis\n",
    "- :class:`.SimulationDrawer` and :class:`.SimulationPlotStyle` create a chart for the simulation"
   ]
  },
  {
   "cell_type": "code",
   "execution_count": null,
   "metadata": {
    "ExecuteTime": {
     "end_time": "2019-07-31T09:23:28.040250Z",
     "start_time": "2019-07-31T09:23:27.823217Z"
    },
    "nbsphinx": "hidden"
   },
   "outputs": [],
   "source": [
    "# this cell's metadata contains\n",
    "# \"nbsphinx\": \"hidden\" so it is hidden by nbsphinx\n",
    "PATH_YIELD_ENGINE = 'src'\n",
    "def set_paths() -> None:\n",
    "    import sys\n",
    "    import os\n",
    "    \n",
    "    if 'cwd' not in globals():\n",
    "        global cwd\n",
    "        cwd = os.path.join(os.getcwd(), os.pardir, os.pardir, os.pardir)\n",
    "        os.chdir(cwd)   \n",
    "    print(f\"working dir is '{os.getcwd()}'\")                            \n",
    "    if PATH_YIELD_ENGINE not in sys.path:\n",
    "        sys.path.insert(0, PATH_YIELD_ENGINE)\n",
    "    print(f\"added `{sys.path[0]}` to python paths\")\n",
    "set_paths()\n",
    "\n",
    "import numpy as np\n",
    "np.random.seed(0)"
   ]
  },
  {
   "cell_type": "code",
   "execution_count": null,
   "metadata": {
    "ExecuteTime": {
     "end_time": "2019-07-31T09:23:31.462930Z",
     "start_time": "2019-07-31T09:23:28.042212Z"
    }
   },
   "outputs": [],
   "source": [
    "import pandas as pd\n",
    "\n",
    "from sklearn.impute import SimpleImputer\n",
    "import matplotlib.pyplot as plt\n",
    "\n",
    "from gamma import Sample\n",
    "from gamma.viz.dendrogram import DendrogramDrawer, FeatMapStyle, LineStyle\n",
    "from gamma.sklearndf.pipeline import PipelineDF\n",
    "from gamma.sklearndf.transformation import SimpleImputerDF, MissingIndicatorDF\n",
    "from gamma.sklearndf.transformation.extra import BorutaDF\n",
    "from gamma.sklearndf.regression import RandomForestRegressorDF, LGBMRegressorDF\n",
    "from gamma.model.inspection import ModelInspector\n",
    "from gamma.model.prediction import PredictorFitCV\n",
    "from gamma.model.selection import ModelPipelineDF, ModelGrid, ModelRanker, summary_report\n",
    "from gamma.model.validation import CircularCrossValidator\n",
    "from gamma.yieldengine.simulation import UnivariateSimulator\n",
    "from gamma.yieldengine.partition import ContinuousRangePartitioning, CategoryPartitioning\n",
    "from gamma.yieldengine.viz import SimulationDrawer, SimulationPlotStyle"
   ]
  },
  {
   "cell_type": "code",
   "execution_count": null,
   "metadata": {
    "ExecuteTime": {
     "end_time": "2019-07-31T09:23:31.516910Z",
     "start_time": "2019-07-31T09:23:31.464498Z"
    }
   },
   "outputs": [],
   "source": [
    "df = pd.read_csv('data/ames-housing-dataset/train.csv')\n",
    "df = df.drop(['Id', 'YrSold', 'MoSold'], axis=1)\n",
    "TARGET = \"SalePrice\"\n",
    "num_features = df.select_dtypes('number').columns\n",
    "df_numerical = df[list(num_features)].copy()\n",
    "sample = Sample(observations=df_numerical, target_name=TARGET)"
   ]
  },
  {
   "cell_type": "code",
   "execution_count": null,
   "metadata": {
    "ExecuteTime": {
     "end_time": "2019-07-31T09:23:31.523477Z",
     "start_time": "2019-07-31T09:23:31.519476Z"
    }
   },
   "outputs": [],
   "source": [
    "cv = CircularCrossValidator(test_ratio=1/3, num_splits=6)\n",
    "model = ModelPipelineDF(predictor=RandomForestRegressorDF(n_estimators=10), preprocessing=SimpleImputerDF())\n",
    "predictor = PredictorFitCV(model=model, cv=cv, sample=sample)"
   ]
  },
  {
   "cell_type": "markdown",
   "metadata": {},
   "source": [
    "## Partitioning"
   ]
  },
  {
   "cell_type": "raw",
   "metadata": {
    "raw_mimetype": "text/restructuredtext"
   },
   "source": [
    ":class:`.Partitioning` is usefull to partition the feature we want to simulate. It picks automatically human-readable values."
   ]
  },
  {
   "cell_type": "code",
   "execution_count": null,
   "metadata": {
    "ExecuteTime": {
     "end_time": "2019-07-31T09:23:31.538518Z",
     "start_time": "2019-07-31T09:23:31.525477Z"
    }
   },
   "outputs": [],
   "source": [
    "feature = \"GrLivArea\"\n",
    "partition = ContinuousRangePartitioning(values=sample.features[feature])"
   ]
  },
  {
   "cell_type": "code",
   "execution_count": null,
   "metadata": {
    "ExecuteTime": {
     "end_time": "2019-07-31T09:23:31.550478Z",
     "start_time": "2019-07-31T09:23:31.540478Z"
    }
   },
   "outputs": [],
   "source": [
    "partition.partitions()"
   ]
  },
  {
   "cell_type": "code",
   "execution_count": null,
   "metadata": {
    "ExecuteTime": {
     "end_time": "2019-07-31T09:23:31.564483Z",
     "start_time": "2019-07-31T09:23:31.552477Z"
    }
   },
   "outputs": [],
   "source": [
    "partition.frequencies()"
   ]
  },
  {
   "cell_type": "code",
   "execution_count": null,
   "metadata": {
    "ExecuteTime": {
     "end_time": "2019-07-31T09:23:31.578518Z",
     "start_time": "2019-07-31T09:23:31.567481Z"
    }
   },
   "outputs": [],
   "source": [
    "len(partition)"
   ]
  },
  {
   "cell_type": "code",
   "execution_count": null,
   "metadata": {
    "ExecuteTime": {
     "end_time": "2019-07-31T09:23:31.593491Z",
     "start_time": "2019-07-31T09:23:31.581483Z"
    }
   },
   "outputs": [],
   "source": [
    "partition.is_categorical"
   ]
  },
  {
   "cell_type": "markdown",
   "metadata": {},
   "source": [
    "One can easily control the size and bounds of the partitions:"
   ]
  },
  {
   "cell_type": "code",
   "execution_count": null,
   "metadata": {
    "ExecuteTime": {
     "end_time": "2019-07-31T09:23:31.611485Z",
     "start_time": "2019-07-31T09:23:31.596486Z"
    }
   },
   "outputs": [],
   "source": [
    "new_partition = ContinuousRangePartitioning(\n",
    "    values=sample.features[feature], max_partitions=20, lower_bound=1000, upper_bound=3000)"
   ]
  },
  {
   "cell_type": "code",
   "execution_count": null,
   "metadata": {
    "ExecuteTime": {
     "end_time": "2019-07-31T09:23:31.623487Z",
     "start_time": "2019-07-31T09:23:31.613485Z"
    }
   },
   "outputs": [],
   "source": [
    "new_partition.partitions()"
   ]
  },
  {
   "cell_type": "markdown",
   "metadata": {},
   "source": [
    "## Building the simulation"
   ]
  },
  {
   "cell_type": "code",
   "execution_count": null,
   "metadata": {
    "ExecuteTime": {
     "end_time": "2019-07-31T09:23:31.638487Z",
     "start_time": "2019-07-31T09:23:31.625497Z"
    }
   },
   "outputs": [],
   "source": [
    "simulator = UnivariateSimulator(model_fit=predictor)"
   ]
  },
  {
   "cell_type": "code",
   "execution_count": null,
   "metadata": {
    "ExecuteTime": {
     "end_time": "2019-07-31T09:23:33.057033Z",
     "start_time": "2019-07-31T09:23:31.640519Z"
    }
   },
   "outputs": [],
   "source": [
    "univariate_simulation = simulator.simulate_feature(feature_name=feature, partitioning=partition)"
   ]
  },
  {
   "cell_type": "markdown",
   "metadata": {},
   "source": [
    "## Drawing"
   ]
  },
  {
   "cell_type": "code",
   "execution_count": null,
   "metadata": {
    "ExecuteTime": {
     "end_time": "2019-07-31T09:23:33.313659Z",
     "start_time": "2019-07-31T09:23:33.058637Z"
    }
   },
   "outputs": [],
   "source": [
    "ax = plt.figure(figsize=(10,10)).add_subplot(111)\n",
    "style = SimulationPlotStyle(ax)\n",
    "drawer = SimulationDrawer(title=f\"{feature} Simulation\", simulation=univariate_simulation, style=style)\n",
    "drawer.draw()"
   ]
  },
  {
   "cell_type": "markdown",
   "metadata": {},
   "source": [
    "## Styling"
   ]
  },
  {
   "cell_type": "raw",
   "metadata": {
    "raw_mimetype": "text/restructuredtext"
   },
   "source": [
    "The ``style`` object has an :attr:`ax` attribute that returns the :class:`~matplotlib.axes.Axes` where the uplift graph has been ploted.\n",
    "Hence we can freely customize our plot using matplotlib. \n",
    "For instance to change the title and the x-label color:"
   ]
  },
  {
   "cell_type": "code",
   "execution_count": null,
   "metadata": {
    "ExecuteTime": {
     "end_time": "2019-07-31T09:23:33.570636Z",
     "start_time": "2019-07-31T09:23:33.315615Z"
    }
   },
   "outputs": [],
   "source": [
    "ax = plt.figure(figsize=(10,10)).add_subplot(111)\n",
    "style = SimulationPlotStyle(ax)\n",
    "drawer = SimulationDrawer(title=f\"{feature} Simulation\", simulation=univariate_simulation, style=style)\n",
    "drawer.draw()\n",
    "style.ax.set_title(\"Simulation of the Ground living area\")\n",
    "style.ax.tick_params(axis='x', labelcolor='green')"
   ]
  },
  {
   "cell_type": "markdown",
   "metadata": {},
   "source": [
    "## Categorical simulation"
   ]
  },
  {
   "cell_type": "markdown",
   "metadata": {},
   "source": [
    "First we convert string columns into pandas categorical columns. Hence we will be able to use lightgbm models."
   ]
  },
  {
   "cell_type": "code",
   "execution_count": null,
   "metadata": {
    "ExecuteTime": {
     "end_time": "2019-07-31T09:23:33.638641Z",
     "start_time": "2019-07-31T09:23:33.572636Z"
    }
   },
   "outputs": [],
   "source": [
    "mask_categorical = df.dtypes == object\n",
    "categorical_columns = mask_categorical[mask_categorical].index\n",
    "df_with_categorical = df.copy()\n",
    "df_with_categorical.loc[:, categorical_columns] = df_with_categorical.loc[:, categorical_columns].astype('category')"
   ]
  },
  {
   "cell_type": "raw",
   "metadata": {
    "raw_mimetype": "text/restructuredtext"
   },
   "source": [
    "We then create :class:`.Sample`, :class:`.ModelPipelineDF`, and :class:`.PredictorFitCV` objects:"
   ]
  },
  {
   "cell_type": "code",
   "execution_count": null,
   "metadata": {
    "ExecuteTime": {
     "end_time": "2019-07-31T09:23:33.645682Z",
     "start_time": "2019-07-31T09:23:33.640643Z"
    }
   },
   "outputs": [],
   "source": [
    "sample = Sample(observations=df_with_categorical, target_name=TARGET)\n",
    "lgbm_model = ModelPipelineDF(predictor=LGBMRegressorDF(random_state=0), preprocessing=None)\n",
    "circular_cv = CircularCrossValidator(test_ratio=1/3, num_splits=3)\n",
    "predictor = PredictorFitCV(model=lgbm_model, cv=circular_cv, sample=sample)"
   ]
  },
  {
   "cell_type": "raw",
   "metadata": {
    "raw_mimetype": "text/restructuredtext"
   },
   "source": [
    "We create a :class:`.CategoryPartitioning`:"
   ]
  },
  {
   "cell_type": "code",
   "execution_count": null,
   "metadata": {
    "ExecuteTime": {
     "end_time": "2019-07-31T09:23:33.706645Z",
     "start_time": "2019-07-31T09:23:33.688647Z"
    }
   },
   "outputs": [],
   "source": [
    "feature = \"HouseStyle\"\n",
    "partition = CategoryPartitioning(values=sample.features[feature], max_partitions=2)"
   ]
  },
  {
   "cell_type": "markdown",
   "metadata": {},
   "source": [
    "We can run the simulation as in the continuous case:"
   ]
  },
  {
   "cell_type": "code",
   "execution_count": null,
   "metadata": {
    "ExecuteTime": {
     "end_time": "2019-07-31T09:23:36.301847Z",
     "start_time": "2019-07-31T09:23:33.708646Z"
    }
   },
   "outputs": [],
   "source": [
    "simulator = UnivariateSimulator(model_fit=predictor)\n",
    "univariate_simulation = simulator.simulate_feature(feature_name=feature, partitioning=partition)"
   ]
  },
  {
   "cell_type": "code",
   "execution_count": null,
   "metadata": {
    "ExecuteTime": {
     "end_time": "2019-07-31T09:23:36.531907Z",
     "start_time": "2019-07-31T09:23:36.305846Z"
    },
    "scrolled": false
   },
   "outputs": [],
   "source": [
    "ax = plt.figure(figsize=(10,10)).add_subplot(111)\n",
    "style = SimulationPlotStyle(ax)\n",
    "drawer = SimulationDrawer(title=f\"{feature} Simulation\", simulation=univariate_simulation, style=style)\n",
    "drawer.draw()"
   ]
  }
 ],
 "metadata": {
  "celltoolbar": "Raw Cell Format",
  "kernelspec": {
   "display_name": "Python 3",
   "language": "python",
   "name": "python3"
  },
  "language_info": {
   "codemirror_mode": {
    "name": "ipython",
    "version": 3
   },
   "file_extension": ".py",
   "mimetype": "text/x-python",
   "name": "python",
   "nbconvert_exporter": "python",
   "pygments_lexer": "ipython3",
   "version": "3.6.7"
  },
  "toc": {
   "base_numbering": 1,
   "nav_menu": {},
   "number_sections": true,
   "sideBar": true,
   "skip_h1_title": false,
   "title_cell": "Table of Contents",
   "title_sidebar": "Contents",
   "toc_cell": false,
   "toc_position": {},
   "toc_section_display": true,
   "toc_window_display": false
  }
 },
 "nbformat": 4,
 "nbformat_minor": 2
}
